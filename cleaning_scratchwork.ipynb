{
 "cells": [
  {
   "cell_type": "code",
   "execution_count": 1,
   "id": "c9e5f2cd",
   "metadata": {},
   "outputs": [],
   "source": [
    "# Math \n",
    "from math import sqrt\n",
    "from scipy import stats\n",
    "import statistics\n",
    "import os\n",
    "\n",
    "# General\n",
    "import numpy as np\n",
    "import pandas as pd\n",
    "from pydataset import data\n",
    "\n",
    "# Sklearn tools\n",
    "from sklearn.model_selection import train_test_split\n",
    "from sklearn.feature_selection import SelectKBest, f_regression\n",
    "from sklearn.impute import SimpleImputer\n",
    "\n",
    "# Sklearn Metrics\n",
    "from sklearn.metrics import classification_report\n",
    "from sklearn.metrics import confusion_matrix\n",
    "from sklearn.metrics import mean_squared_error\n",
    "from sklearn.metrics import explained_variance_score\n",
    "\n",
    "\n",
    "# Sklearn Models\n",
    "from sklearn.tree import DecisionTreeClassifier\n",
    "from sklearn.ensemble import RandomForestClassifier\n",
    "from sklearn.neighbors import KNeighborsClassifier\n",
    "from sklearn.linear_model import LinearRegression, LassoLars, TweedieRegressor\n",
    "from sklearn.preprocessing import PolynomialFeatures, MinMaxScaler\n",
    "from sklearn.cluster import KMeans\n",
    "\n",
    "\n",
    "# Visuals\n",
    "import matplotlib.pyplot as plt\n",
    "import seaborn as sns\n",
    "from graphviz import Graph\n",
    "from tabulate import tabulate\n",
    "from sklearn.tree import export_graphviz\n",
    "\n",
    "# Custom Module's\n",
    "from wrangle import wrangle_zillow\n",
    "import functions\n",
    "\n",
    "import warnings\n",
    "warnings.filterwarnings(\"ignore\")"
   ]
  },
  {
   "cell_type": "code",
   "execution_count": 2,
   "id": "52fe5a69",
   "metadata": {},
   "outputs": [],
   "source": [
    "pd.set_option(\"display.max_rows\", None, \"display.max_columns\", None) \n",
    "\n",
    "pd.reset_option(\"display.max_rows\", \"display.max_columns\")"
   ]
  },
  {
   "cell_type": "code",
   "execution_count": 3,
   "id": "bdb7a281",
   "metadata": {},
   "outputs": [],
   "source": [
    "train, validate, test = wrangle_zillow('intial_explore', 1.5)"
   ]
  },
  {
   "cell_type": "code",
   "execution_count": 4,
   "id": "c7bd73aa",
   "metadata": {},
   "outputs": [],
   "source": [
    "df = train"
   ]
  },
  {
   "cell_type": "code",
   "execution_count": 5,
   "id": "4c8cb9be",
   "metadata": {},
   "outputs": [
    {
     "name": "stdout",
     "output_type": "stream",
     "text": [
      "<class 'pandas.core.frame.DataFrame'>\n",
      "Int64Index: 29182 entries, 47145 to 43370\n",
      "Data columns (total 12 columns):\n",
      " #   Column        Non-Null Count  Dtype  \n",
      "---  ------        --------------  -----  \n",
      " 0   bath          29182 non-null  float64\n",
      " 1   bed           29182 non-null  float64\n",
      " 2   area          29182 non-null  float64\n",
      " 3   lat           29182 non-null  float64\n",
      " 4   long          29182 non-null  float64\n",
      " 5   lot_size      29182 non-null  float64\n",
      " 6   year          29182 non-null  float64\n",
      " 7   tax_value     29182 non-null  float64\n",
      " 8   tax_amount    29182 non-null  float64\n",
      " 9   logerror      29182 non-null  float64\n",
      " 10  heating_type  29182 non-null  object \n",
      " 11  county        29182 non-null  object \n",
      "dtypes: float64(10), object(2)\n",
      "memory usage: 2.9+ MB\n"
     ]
    }
   ],
   "source": [
    "train.info()"
   ]
  },
  {
   "cell_type": "code",
   "execution_count": 6,
   "id": "b26ce8b2",
   "metadata": {},
   "outputs": [],
   "source": [
    "# # using fips before I drop fips\n",
    "# df[\"county\"] = df[\"fips\"].map({6037: \"Los Angeles\", 6059: \"Orange\", 6111: \"Ventura\"})"
   ]
  },
  {
   "cell_type": "code",
   "execution_count": 7,
   "id": "dd4a8bc7",
   "metadata": {},
   "outputs": [
    {
     "data": {
      "text/plain": [
       "29182"
      ]
     },
     "execution_count": 7,
     "metadata": {},
     "output_type": "execute_result"
    }
   ],
   "source": [
    "len(df)"
   ]
  },
  {
   "cell_type": "code",
   "execution_count": 8,
   "id": "14fbdd01",
   "metadata": {},
   "outputs": [
    {
     "data": {
      "text/html": [
       "<div>\n",
       "<style scoped>\n",
       "    .dataframe tbody tr th:only-of-type {\n",
       "        vertical-align: middle;\n",
       "    }\n",
       "\n",
       "    .dataframe tbody tr th {\n",
       "        vertical-align: top;\n",
       "    }\n",
       "\n",
       "    .dataframe thead th {\n",
       "        text-align: right;\n",
       "    }\n",
       "</style>\n",
       "<table border=\"1\" class=\"dataframe\">\n",
       "  <thead>\n",
       "    <tr style=\"text-align: right;\">\n",
       "      <th></th>\n",
       "      <th>bath</th>\n",
       "      <th>bed</th>\n",
       "      <th>area</th>\n",
       "      <th>lat</th>\n",
       "      <th>long</th>\n",
       "      <th>lot_size</th>\n",
       "      <th>year</th>\n",
       "      <th>tax_value</th>\n",
       "      <th>tax_amount</th>\n",
       "      <th>logerror</th>\n",
       "      <th>heating_type</th>\n",
       "      <th>county</th>\n",
       "    </tr>\n",
       "  </thead>\n",
       "  <tbody>\n",
       "  </tbody>\n",
       "</table>\n",
       "</div>"
      ],
      "text/plain": [
       "Empty DataFrame\n",
       "Columns: [bath, bed, area, lat, long, lot_size, year, tax_value, tax_amount, logerror, heating_type, county]\n",
       "Index: []"
      ]
     },
     "execution_count": 8,
     "metadata": {},
     "output_type": "execute_result"
    }
   ],
   "source": [
    "df[df.duplicated()]"
   ]
  },
  {
   "cell_type": "code",
   "execution_count": 9,
   "id": "fe870917",
   "metadata": {},
   "outputs": [
    {
     "data": {
      "text/plain": [
       "29182"
      ]
     },
     "execution_count": 9,
     "metadata": {},
     "output_type": "execute_result"
    }
   ],
   "source": [
    "len(df)"
   ]
  },
  {
   "cell_type": "code",
   "execution_count": 10,
   "id": "bd900e3a",
   "metadata": {},
   "outputs": [],
   "source": [
    "# columns that I personally felt have no value \n",
    "cols_to_remove = ['propertylandusetypeid', 'heatingorsystemtypeid', 'parcelid', 'buildingqualitytypeid',\\\n",
    "                  'finishedsquarefeet12', 'fullbathcnt', 'propertylandusedesc', 'id.1', 'assessmentyear',\\\n",
    "                  'structuretaxvaluedollarcnt', 'roomcnt', 'regionidcity', 'regionidcounty', 'regionidzip',\\\n",
    "                  'propertycountylandusecode', 'censustractandblock', 'landtaxvaluedollarcnt',\\\n",
    "                  'rawcensustractandblock', 'propertyzoningdesc', 'transactiondate', 'calculatedbathnbr', 'id','fips']"
   ]
  },
  {
   "cell_type": "code",
   "execution_count": 11,
   "id": "c1a77517",
   "metadata": {},
   "outputs": [
    {
     "ename": "KeyError",
     "evalue": "\"['propertylandusetypeid' 'heatingorsystemtypeid' 'parcelid'\\n 'buildingqualitytypeid' 'finishedsquarefeet12' 'fullbathcnt'\\n 'propertylandusedesc' 'id.1' 'assessmentyear'\\n 'structuretaxvaluedollarcnt' 'roomcnt' 'regionidcity' 'regionidcounty'\\n 'regionidzip' 'propertycountylandusecode' 'censustractandblock'\\n 'landtaxvaluedollarcnt' 'rawcensustractandblock' 'propertyzoningdesc'\\n 'transactiondate' 'calculatedbathnbr' 'id' 'fips'] not found in axis\"",
     "output_type": "error",
     "traceback": [
      "\u001b[0;31m---------------------------------------------------------------------------\u001b[0m",
      "\u001b[0;31mKeyError\u001b[0m                                  Traceback (most recent call last)",
      "\u001b[0;32m<ipython-input-11-c08c47053e46>\u001b[0m in \u001b[0;36m<module>\u001b[0;34m\u001b[0m\n\u001b[0;32m----> 1\u001b[0;31m \u001b[0mdf\u001b[0m \u001b[0;34m=\u001b[0m \u001b[0mfunctions\u001b[0m\u001b[0;34m.\u001b[0m\u001b[0mremove_columns\u001b[0m\u001b[0;34m(\u001b[0m\u001b[0mdf\u001b[0m\u001b[0;34m,\u001b[0m \u001b[0mcols_to_remove\u001b[0m\u001b[0;34m)\u001b[0m\u001b[0;34m\u001b[0m\u001b[0;34m\u001b[0m\u001b[0m\n\u001b[0m",
      "\u001b[0;32m~/codeup-data-science/Errors-in-Zestimates/functions.py\u001b[0m in \u001b[0;36mremove_columns\u001b[0;34m(df, cols_to_remove)\u001b[0m\n\u001b[1;32m     50\u001b[0m \u001b[0;34m\u001b[0m\u001b[0m\n\u001b[1;32m     51\u001b[0m \u001b[0;32mdef\u001b[0m \u001b[0mremove_columns\u001b[0m\u001b[0;34m(\u001b[0m\u001b[0mdf\u001b[0m\u001b[0;34m,\u001b[0m \u001b[0mcols_to_remove\u001b[0m\u001b[0;34m)\u001b[0m\u001b[0;34m:\u001b[0m\u001b[0;34m\u001b[0m\u001b[0;34m\u001b[0m\u001b[0m\n\u001b[0;32m---> 52\u001b[0;31m     \u001b[0mdf\u001b[0m \u001b[0;34m=\u001b[0m \u001b[0mdf\u001b[0m\u001b[0;34m.\u001b[0m\u001b[0mdrop\u001b[0m\u001b[0;34m(\u001b[0m\u001b[0mcolumns\u001b[0m\u001b[0;34m=\u001b[0m\u001b[0mcols_to_remove\u001b[0m\u001b[0;34m)\u001b[0m\u001b[0;34m\u001b[0m\u001b[0;34m\u001b[0m\u001b[0m\n\u001b[0m\u001b[1;32m     53\u001b[0m     \u001b[0;32mreturn\u001b[0m \u001b[0mdf\u001b[0m\u001b[0;34m\u001b[0m\u001b[0;34m\u001b[0m\u001b[0m\n\u001b[1;32m     54\u001b[0m \u001b[0;34m\u001b[0m\u001b[0m\n",
      "\u001b[0;32m/usr/local/anaconda3/lib/python3.8/site-packages/pandas/core/frame.py\u001b[0m in \u001b[0;36mdrop\u001b[0;34m(self, labels, axis, index, columns, level, inplace, errors)\u001b[0m\n\u001b[1;32m   4306\u001b[0m                 \u001b[0mweight\u001b[0m  \u001b[0;36m1.0\u001b[0m     \u001b[0;36m0.8\u001b[0m\u001b[0;34m\u001b[0m\u001b[0;34m\u001b[0m\u001b[0m\n\u001b[1;32m   4307\u001b[0m         \"\"\"\n\u001b[0;32m-> 4308\u001b[0;31m         return super().drop(\n\u001b[0m\u001b[1;32m   4309\u001b[0m             \u001b[0mlabels\u001b[0m\u001b[0;34m=\u001b[0m\u001b[0mlabels\u001b[0m\u001b[0;34m,\u001b[0m\u001b[0;34m\u001b[0m\u001b[0;34m\u001b[0m\u001b[0m\n\u001b[1;32m   4310\u001b[0m             \u001b[0maxis\u001b[0m\u001b[0;34m=\u001b[0m\u001b[0maxis\u001b[0m\u001b[0;34m,\u001b[0m\u001b[0;34m\u001b[0m\u001b[0;34m\u001b[0m\u001b[0m\n",
      "\u001b[0;32m/usr/local/anaconda3/lib/python3.8/site-packages/pandas/core/generic.py\u001b[0m in \u001b[0;36mdrop\u001b[0;34m(self, labels, axis, index, columns, level, inplace, errors)\u001b[0m\n\u001b[1;32m   4151\u001b[0m         \u001b[0;32mfor\u001b[0m \u001b[0maxis\u001b[0m\u001b[0;34m,\u001b[0m \u001b[0mlabels\u001b[0m \u001b[0;32min\u001b[0m \u001b[0maxes\u001b[0m\u001b[0;34m.\u001b[0m\u001b[0mitems\u001b[0m\u001b[0;34m(\u001b[0m\u001b[0;34m)\u001b[0m\u001b[0;34m:\u001b[0m\u001b[0;34m\u001b[0m\u001b[0;34m\u001b[0m\u001b[0m\n\u001b[1;32m   4152\u001b[0m             \u001b[0;32mif\u001b[0m \u001b[0mlabels\u001b[0m \u001b[0;32mis\u001b[0m \u001b[0;32mnot\u001b[0m \u001b[0;32mNone\u001b[0m\u001b[0;34m:\u001b[0m\u001b[0;34m\u001b[0m\u001b[0;34m\u001b[0m\u001b[0m\n\u001b[0;32m-> 4153\u001b[0;31m                 \u001b[0mobj\u001b[0m \u001b[0;34m=\u001b[0m \u001b[0mobj\u001b[0m\u001b[0;34m.\u001b[0m\u001b[0m_drop_axis\u001b[0m\u001b[0;34m(\u001b[0m\u001b[0mlabels\u001b[0m\u001b[0;34m,\u001b[0m \u001b[0maxis\u001b[0m\u001b[0;34m,\u001b[0m \u001b[0mlevel\u001b[0m\u001b[0;34m=\u001b[0m\u001b[0mlevel\u001b[0m\u001b[0;34m,\u001b[0m \u001b[0merrors\u001b[0m\u001b[0;34m=\u001b[0m\u001b[0merrors\u001b[0m\u001b[0;34m)\u001b[0m\u001b[0;34m\u001b[0m\u001b[0;34m\u001b[0m\u001b[0m\n\u001b[0m\u001b[1;32m   4154\u001b[0m \u001b[0;34m\u001b[0m\u001b[0m\n\u001b[1;32m   4155\u001b[0m         \u001b[0;32mif\u001b[0m \u001b[0minplace\u001b[0m\u001b[0;34m:\u001b[0m\u001b[0;34m\u001b[0m\u001b[0;34m\u001b[0m\u001b[0m\n",
      "\u001b[0;32m/usr/local/anaconda3/lib/python3.8/site-packages/pandas/core/generic.py\u001b[0m in \u001b[0;36m_drop_axis\u001b[0;34m(self, labels, axis, level, errors)\u001b[0m\n\u001b[1;32m   4186\u001b[0m                 \u001b[0mnew_axis\u001b[0m \u001b[0;34m=\u001b[0m \u001b[0maxis\u001b[0m\u001b[0;34m.\u001b[0m\u001b[0mdrop\u001b[0m\u001b[0;34m(\u001b[0m\u001b[0mlabels\u001b[0m\u001b[0;34m,\u001b[0m \u001b[0mlevel\u001b[0m\u001b[0;34m=\u001b[0m\u001b[0mlevel\u001b[0m\u001b[0;34m,\u001b[0m \u001b[0merrors\u001b[0m\u001b[0;34m=\u001b[0m\u001b[0merrors\u001b[0m\u001b[0;34m)\u001b[0m\u001b[0;34m\u001b[0m\u001b[0;34m\u001b[0m\u001b[0m\n\u001b[1;32m   4187\u001b[0m             \u001b[0;32melse\u001b[0m\u001b[0;34m:\u001b[0m\u001b[0;34m\u001b[0m\u001b[0;34m\u001b[0m\u001b[0m\n\u001b[0;32m-> 4188\u001b[0;31m                 \u001b[0mnew_axis\u001b[0m \u001b[0;34m=\u001b[0m \u001b[0maxis\u001b[0m\u001b[0;34m.\u001b[0m\u001b[0mdrop\u001b[0m\u001b[0;34m(\u001b[0m\u001b[0mlabels\u001b[0m\u001b[0;34m,\u001b[0m \u001b[0merrors\u001b[0m\u001b[0;34m=\u001b[0m\u001b[0merrors\u001b[0m\u001b[0;34m)\u001b[0m\u001b[0;34m\u001b[0m\u001b[0;34m\u001b[0m\u001b[0m\n\u001b[0m\u001b[1;32m   4189\u001b[0m             \u001b[0mresult\u001b[0m \u001b[0;34m=\u001b[0m \u001b[0mself\u001b[0m\u001b[0;34m.\u001b[0m\u001b[0mreindex\u001b[0m\u001b[0;34m(\u001b[0m\u001b[0;34m**\u001b[0m\u001b[0;34m{\u001b[0m\u001b[0maxis_name\u001b[0m\u001b[0;34m:\u001b[0m \u001b[0mnew_axis\u001b[0m\u001b[0;34m}\u001b[0m\u001b[0;34m)\u001b[0m\u001b[0;34m\u001b[0m\u001b[0;34m\u001b[0m\u001b[0m\n\u001b[1;32m   4190\u001b[0m \u001b[0;34m\u001b[0m\u001b[0m\n",
      "\u001b[0;32m/usr/local/anaconda3/lib/python3.8/site-packages/pandas/core/indexes/base.py\u001b[0m in \u001b[0;36mdrop\u001b[0;34m(self, labels, errors)\u001b[0m\n\u001b[1;32m   5589\u001b[0m         \u001b[0;32mif\u001b[0m \u001b[0mmask\u001b[0m\u001b[0;34m.\u001b[0m\u001b[0many\u001b[0m\u001b[0;34m(\u001b[0m\u001b[0;34m)\u001b[0m\u001b[0;34m:\u001b[0m\u001b[0;34m\u001b[0m\u001b[0;34m\u001b[0m\u001b[0m\n\u001b[1;32m   5590\u001b[0m             \u001b[0;32mif\u001b[0m \u001b[0merrors\u001b[0m \u001b[0;34m!=\u001b[0m \u001b[0;34m\"ignore\"\u001b[0m\u001b[0;34m:\u001b[0m\u001b[0;34m\u001b[0m\u001b[0;34m\u001b[0m\u001b[0m\n\u001b[0;32m-> 5591\u001b[0;31m                 \u001b[0;32mraise\u001b[0m \u001b[0mKeyError\u001b[0m\u001b[0;34m(\u001b[0m\u001b[0;34mf\"{labels[mask]} not found in axis\"\u001b[0m\u001b[0;34m)\u001b[0m\u001b[0;34m\u001b[0m\u001b[0;34m\u001b[0m\u001b[0m\n\u001b[0m\u001b[1;32m   5592\u001b[0m             \u001b[0mindexer\u001b[0m \u001b[0;34m=\u001b[0m \u001b[0mindexer\u001b[0m\u001b[0;34m[\u001b[0m\u001b[0;34m~\u001b[0m\u001b[0mmask\u001b[0m\u001b[0;34m]\u001b[0m\u001b[0;34m\u001b[0m\u001b[0;34m\u001b[0m\u001b[0m\n\u001b[1;32m   5593\u001b[0m         \u001b[0;32mreturn\u001b[0m \u001b[0mself\u001b[0m\u001b[0;34m.\u001b[0m\u001b[0mdelete\u001b[0m\u001b[0;34m(\u001b[0m\u001b[0mindexer\u001b[0m\u001b[0;34m)\u001b[0m\u001b[0;34m\u001b[0m\u001b[0;34m\u001b[0m\u001b[0m\n",
      "\u001b[0;31mKeyError\u001b[0m: \"['propertylandusetypeid' 'heatingorsystemtypeid' 'parcelid'\\n 'buildingqualitytypeid' 'finishedsquarefeet12' 'fullbathcnt'\\n 'propertylandusedesc' 'id.1' 'assessmentyear'\\n 'structuretaxvaluedollarcnt' 'roomcnt' 'regionidcity' 'regionidcounty'\\n 'regionidzip' 'propertycountylandusecode' 'censustractandblock'\\n 'landtaxvaluedollarcnt' 'rawcensustractandblock' 'propertyzoningdesc'\\n 'transactiondate' 'calculatedbathnbr' 'id' 'fips'] not found in axis\""
     ]
    }
   ],
   "source": [
    "df = functions.remove_columns(df, cols_to_remove)"
   ]
  },
  {
   "cell_type": "code",
   "execution_count": null,
   "id": "3fb458f9",
   "metadata": {},
   "outputs": [],
   "source": []
  },
  {
   "cell_type": "code",
   "execution_count": null,
   "id": "4d5cbf09",
   "metadata": {},
   "outputs": [],
   "source": [
    "# removed any properties claiming to be more than 1\n",
    "selRows = df[df.unitcnt == 2.0].index\n",
    "df = df.drop(selRows, axis=0)"
   ]
  },
  {
   "cell_type": "code",
   "execution_count": null,
   "id": "5b9214e5",
   "metadata": {},
   "outputs": [],
   "source": [
    "# Removing some outliers in heaters \n",
    "selRows = df[(df.heatingorsystemdesc == 'Yes') | (df.heatingorsystemdesc == 'Gravity') |\\\n",
    "(df.heatingorsystemdesc == 'Radiant') | (df.heatingorsystemdesc == 'Baseboard')|\\\n",
    "(df.heatingorsystemdesc == 'None')| (df.heatingorsystemdesc == 'Solar')].index\n",
    "df = df.drop(selRows, axis=0)"
   ]
  },
  {
   "cell_type": "code",
   "execution_count": null,
   "id": "9757ea3e",
   "metadata": {},
   "outputs": [],
   "source": [
    "df = functions.remove_columns(df, ['unitcnt'])"
   ]
  },
  {
   "cell_type": "code",
   "execution_count": null,
   "id": "10c0e86f",
   "metadata": {},
   "outputs": [],
   "source": [
    "df.info()"
   ]
  },
  {
   "cell_type": "code",
   "execution_count": null,
   "id": "5804ea72",
   "metadata": {},
   "outputs": [],
   "source": [
    "df = df.rename(columns = {\n",
    "    'bedroomcnt':'bedrooms', \n",
    "    'bathroomcnt':'bathrooms', \n",
    "    'calculatedfinishedsquarefeet':'area',\n",
    "    'taxvaluedollarcnt':'tax_value',\n",
    "    'latitude':'lat',\n",
    "    'longitude':'long',\n",
    "    'lotsizesquarefeet':'lot_size'\n",
    "    'yearbuilt':'year',\n",
    "    'taxamount':'tax_amount',\n",
    "    'heatingorsystemdesc':'heating_type',\n",
    "\n",
    "})"
   ]
  },
  {
   "cell_type": "code",
   "execution_count": null,
   "id": "fca434ad",
   "metadata": {},
   "outputs": [],
   "source": [
    "df.area.describe()"
   ]
  },
  {
   "cell_type": "code",
   "execution_count": null,
   "id": "97128441",
   "metadata": {},
   "outputs": [],
   "source": [
    "df.lotsizesquarefeet.describe()"
   ]
  },
  {
   "cell_type": "code",
   "execution_count": null,
   "id": "b17b7b17",
   "metadata": {},
   "outputs": [],
   "source": [
    "outlier_col_list=[\n",
    "'bathroomcnt',\n",
    "'bedroomcnt',\n",
    "'calculatedfinishedsquarefeet',\n",
    "'lotsizesquarefeet',\n",
    "'yearbuilt',\n",
    "'taxamount',\n",
    "'taxvaluedollarcnt']"
   ]
  },
  {
   "cell_type": "code",
   "execution_count": null,
   "id": "091731b9",
   "metadata": {},
   "outputs": [],
   "source": [
    "outlier_col_list"
   ]
  },
  {
   "cell_type": "code",
   "execution_count": null,
   "id": "99140ab8",
   "metadata": {},
   "outputs": [],
   "source": [
    "train.bathroomcnt.value_counts()"
   ]
  },
  {
   "cell_type": "code",
   "execution_count": null,
   "id": "17afc026",
   "metadata": {},
   "outputs": [],
   "source": [
    "train.bathroomcnt.hist()"
   ]
  },
  {
   "cell_type": "code",
   "execution_count": 16,
   "id": "611c2b91",
   "metadata": {},
   "outputs": [],
   "source": [
    "train, validate, test = wrangle_zillow('explore', 2.5)"
   ]
  },
  {
   "cell_type": "code",
   "execution_count": 17,
   "id": "b7174cf9",
   "metadata": {},
   "outputs": [
    {
     "data": {
      "text/plain": [
       "<AxesSubplot:>"
      ]
     },
     "execution_count": 17,
     "metadata": {},
     "output_type": "execute_result"
    },
    {
     "data": {
      "image/png": "[encoded data removed]",
      "text/plain": [
       "<Figure size 432x288 with 1 Axes>"
      ]
     },
     "metadata": {
      "needs_background": "light"
     },
     "output_type": "display_data"
    }
   ],
   "source": [
    "train.bed.hist()"
   ]
  },
  {
   "cell_type": "raw",
   "id": "fee8acff",
   "metadata": {},
   "source": []
  }
 ],
 "metadata": {
  "kernelspec": {
   "display_name": "Python 3",
   "language": "python",
   "name": "python3"
  },
  "language_info": {
   "codemirror_mode": {
    "name": "ipython",
    "version": 3
   },
   "file_extension": ".py",
   "mimetype": "text/x-python",
   "name": "python",
   "nbconvert_exporter": "python",
   "pygments_lexer": "ipython3",
   "version": "3.8.8"
  }
 },
 "nbformat": 4,
 "nbformat_minor": 5
}
