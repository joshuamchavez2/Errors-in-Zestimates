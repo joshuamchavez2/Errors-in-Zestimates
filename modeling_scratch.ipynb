{
 "cells": [
  {
   "cell_type": "code",
   "execution_count": 37,
   "id": "cc70b0d0",
   "metadata": {},
   "outputs": [],
   "source": [
    "# Math \n",
    "from math import sqrt\n",
    "from scipy import stats\n",
    "import statistics\n",
    "from scipy.stats import wilcoxon\n",
    "import os\n",
    "\n",
    "# General\n",
    "import numpy as np\n",
    "import pandas as pd\n",
    "from pydataset import data\n",
    "\n",
    "# Sklearn tools\n",
    "from sklearn.model_selection import train_test_split\n",
    "from sklearn.feature_selection import SelectKBest, f_regression\n",
    "from sklearn.impute import SimpleImputer\n",
    "\n",
    "# Sklearn Metrics\n",
    "from sklearn.metrics import classification_report\n",
    "from sklearn.metrics import confusion_matrix\n",
    "from sklearn.metrics import mean_squared_error\n",
    "from sklearn.metrics import explained_variance_score\n",
    "\n",
    "\n",
    "# Sklearn Models\n",
    "from sklearn.tree import DecisionTreeClassifier\n",
    "from sklearn.ensemble import RandomForestClassifier\n",
    "from sklearn.neighbors import KNeighborsClassifier\n",
    "from sklearn.linear_model import LinearRegression, LassoLars, TweedieRegressor\n",
    "from sklearn.preprocessing import PolynomialFeatures, MinMaxScaler\n",
    "from sklearn.cluster import KMeans\n",
    "\n",
    "\n",
    "# Visuals\n",
    "import matplotlib.pyplot as plt\n",
    "import seaborn as sns\n",
    "from graphviz import Graph\n",
    "from tabulate import tabulate\n",
    "from sklearn.tree import export_graphviz\n",
    "\n",
    "# Custom Module's\n",
    "from wrangle import wrangle\n",
    "from functions import metric, select_rfe\n",
    "import warnings\n",
    "warnings.filterwarnings(\"ignore\")"
   ]
  },
  {
   "cell_type": "code",
   "execution_count": 2,
   "id": "55221148",
   "metadata": {},
   "outputs": [
    {
     "name": "stdout",
     "output_type": "stream",
     "text": [
      "<class 'pandas.core.frame.DataFrame'>\n",
      "Int64Index: 28210 entries, 17275 to 63558\n",
      "Data columns (total 29 columns):\n",
      " #   Column                 Non-Null Count  Dtype  \n",
      "---  ------                 --------------  -----  \n",
      " 0   bath                   28210 non-null  float64\n",
      " 1   bed                    28210 non-null  float64\n",
      " 2   area                   28210 non-null  float64\n",
      " 3   lat                    28210 non-null  float64\n",
      " 4   long                   28210 non-null  float64\n",
      " 5   lot_size               28210 non-null  float64\n",
      " 6   year                   28210 non-null  float64\n",
      " 7   tax_value              28210 non-null  float64\n",
      " 8   tax_amount             28210 non-null  float64\n",
      " 9   logerror               28210 non-null  float64\n",
      " 10  heating_type           28210 non-null  object \n",
      " 11  county                 28210 non-null  object \n",
      " 12  price_per_sqft         28210 non-null  float64\n",
      " 13  bath_scaled            28210 non-null  float64\n",
      " 14  bed_scaled             28210 non-null  float64\n",
      " 15  area_scaled            28210 non-null  float64\n",
      " 16  lot_size_scaled        28210 non-null  float64\n",
      " 17  year_scaled            28210 non-null  float64\n",
      " 18  tax_amount_scaled      28210 non-null  float64\n",
      " 19  tax_value_scaled       28210 non-null  float64\n",
      " 20  lat_scaled             28210 non-null  float64\n",
      " 21  long_scaled            28210 non-null  float64\n",
      " 22  price_per_sqft_scaled  28210 non-null  float64\n",
      " 23  cluster                28210 non-null  int32  \n",
      " 24  cluster_0              28210 non-null  uint8  \n",
      " 25  cluster_1              28210 non-null  uint8  \n",
      " 26  cluster_2              28210 non-null  uint8  \n",
      " 27  cluster_3              28210 non-null  uint8  \n",
      " 28  cluster_4              28210 non-null  uint8  \n",
      "dtypes: float64(21), int32(1), object(2), uint8(5)\n",
      "memory usage: 5.4+ MB\n"
     ]
    }
   ],
   "source": [
    "train, validate, test = wrangle()\n",
    "train.info()"
   ]
  },
  {
   "cell_type": "code",
   "execution_count": 39,
   "id": "b2f537a9",
   "metadata": {},
   "outputs": [],
   "source": [
    "cols = ['bath_scaled', 'bed_scaled', 'area_scaled', 'year_scaled', 'tax_amount_scaled', 'lat_scaled', 'long_scaled','cluster_0','cluster_1', 'cluster_2', 'cluster_3', 'cluster_4']\n",
    "cluster = ['cluster_0','cluster_1', 'cluster_2', 'cluster_3', 'cluster_4']\n",
    "\n",
    "X_train = train[['bath_scaled', 'bed_scaled', 'area_scaled']]\n",
    "\n",
    "X_validate = validate[['bath_scaled', 'bed_scaled', 'area_scaled']]\n",
    "\n",
    "X_test = test[['bath_scaled', 'bed_scaled', 'area_scaled']]\n",
    "\n",
    "\n",
    "y_train = train['logerror']\n",
    "y_validate = validate['logerror']\n",
    "y_test = test['logerror']"
   ]
  },
  {
   "cell_type": "code",
   "execution_count": null,
   "id": "aa4cb259",
   "metadata": {},
   "outputs": [],
   "source": []
  },
  {
   "cell_type": "code",
   "execution_count": 32,
   "id": "530815b6",
   "metadata": {},
   "outputs": [],
   "source": [
    "y_train  = pd.DataFrame(y_train)\n",
    "y_validate = pd.DataFrame(y_validate)\n",
    "\n",
    "results_bed_bath_area = pd.DataFrame()\n",
    "results_bed_bath_area = metric(X_train, y_train, X_validate, y_validate, results)"
   ]
  },
  {
   "cell_type": "code",
   "execution_count": 33,
   "id": "ec87a36b",
   "metadata": {},
   "outputs": [],
   "source": [
    "results_bed_bath_area = metric(X_train, y_train, X_validate, y_validate, results_bed_bath_area)"
   ]
  },
  {
   "cell_type": "code",
   "execution_count": 34,
   "id": "49c07fd6",
   "metadata": {},
   "outputs": [
    {
     "data": {
      "text/plain": [
       "1    0.172981\n",
       "Name: RMSE_validate, dtype: float64"
      ]
     },
     "execution_count": 34,
     "metadata": {},
     "output_type": "execute_result"
    }
   ],
   "source": [
    "results_bed_bath_area.RMSE_validate.sort_values().head(1)"
   ]
  },
  {
   "cell_type": "code",
   "execution_count": 35,
   "id": "576e9dac",
   "metadata": {},
   "outputs": [],
   "source": [
    "# only clusters\n",
    "\n",
    "X_train = train[['cluster_0','cluster_1', 'cluster_2', 'cluster_3', 'cluster_4']]\n",
    "\n",
    "X_validate = validate[['cluster_0','cluster_1', 'cluster_2', 'cluster_3', 'cluster_4']]\n",
    "\n",
    "X_test = test[['cluster_0','cluster_1', 'cluster_2', 'cluster_3', 'cluster_4']]\n",
    "\n",
    "\n",
    "y_train = train['logerror']\n",
    "y_validate = validate['logerror']\n",
    "y_test = test['logerror']\n",
    "\n",
    "y_train  = pd.DataFrame(y_train)\n",
    "y_validate = pd.DataFrame(y_validate)\n",
    "\n",
    "results_only_clusters = pd.DataFrame()\n",
    "results_only_clusters = metric(X_train, y_train, X_validate, y_validate, results_only_clusters)"
   ]
  },
  {
   "cell_type": "code",
   "execution_count": 36,
   "id": "4ad8b2ec",
   "metadata": {},
   "outputs": [
    {
     "data": {
      "text/plain": [
       "7    0.173039\n",
       "Name: RMSE_validate, dtype: float64"
      ]
     },
     "execution_count": 36,
     "metadata": {},
     "output_type": "execute_result"
    }
   ],
   "source": [
    "results_only_clusters.RMSE_validate.sort_values().head(1)"
   ]
  },
  {
   "cell_type": "markdown",
   "id": "365e3b45",
   "metadata": {},
   "source": [
    "# Things to try"
   ]
  },
  {
   "cell_type": "markdown",
   "id": "203107fb",
   "metadata": {},
   "source": [
    "- keep trying new features\n",
    "- Look for the biggest cluster\n",
    "- try features i haven't used before without clusters\n",
    "- try only two clusters with starting features and new features\n",
    "- ask if clusters need to be scaled.\n",
    "- \n",
    "- Also look into feature engineering"
   ]
  },
  {
   "cell_type": "code",
   "execution_count": 85,
   "id": "1394d551",
   "metadata": {},
   "outputs": [],
   "source": [
    "cols = ['bath_scaled', 'tax_value', 'price_per_sqft', 'lot_size', 'bed_scaled', 'area_scaled', 'year_scaled', 'lat_scaled', 'long_scaled','cluster_0','cluster_1', 'cluster_2', 'cluster_3', 'cluster_4']\n",
    "X_train = train[cols]"
   ]
  },
  {
   "cell_type": "code",
   "execution_count": 82,
   "id": "c8caa5c6",
   "metadata": {},
   "outputs": [],
   "source": [
    "cols = ['bath_scaled', 'bed_scaled', 'area_scaled', 'year_scaled']\n",
    "X_train = train[cols]"
   ]
  },
  {
   "cell_type": "code",
   "execution_count": 101,
   "id": "9498b2bb",
   "metadata": {},
   "outputs": [],
   "source": [
    "cols = ['bath_scaled', 'bed_scaled', 'year_scaled']\n",
    "X_train = train[cols]"
   ]
  },
  {
   "cell_type": "code",
   "execution_count": 102,
   "id": "d40382fc",
   "metadata": {},
   "outputs": [
    {
     "data": {
      "text/plain": [
       "(['bath_scaled', 'bed_scaled'],\n",
       "            Var  Rank\n",
       " 0  bath_scaled     1\n",
       " 1   bed_scaled     1\n",
       " 2  year_scaled     2)"
      ]
     },
     "execution_count": 102,
     "metadata": {},
     "output_type": "execute_result"
    }
   ],
   "source": [
    "select_rfe(X_train, y_train, 2)"
   ]
  },
  {
   "cell_type": "code",
   "execution_count": 90,
   "id": "83ab0577",
   "metadata": {},
   "outputs": [],
   "source": [
    "cols = ['bath_scaled', 'tax_value', 'price_per_sqft', 'lot_size', 'bed_scaled', 'cluster_0', 'cluster_1', 'cluster_2', 'cluster_3', 'cluster_4', 'area_scaled', 'year_scaled', 'lat_scaled', 'long_scaled']\n",
    "X_train = train[cols]"
   ]
  },
  {
   "cell_type": "code",
   "execution_count": 91,
   "id": "f887c42e",
   "metadata": {},
   "outputs": [
    {
     "data": {
      "text/plain": [
       "(['cluster_0', 'cluster_2', 'cluster_3'],\n",
       "                Var  Rank\n",
       " 5        cluster_0     1\n",
       " 7        cluster_2     1\n",
       " 8        cluster_3     1\n",
       " 6        cluster_1     2\n",
       " 9        cluster_4     3\n",
       " 10     area_scaled     4\n",
       " 2   price_per_sqft     5\n",
       " 4       bed_scaled     6\n",
       " 12      lat_scaled     7\n",
       " 0      bath_scaled     8\n",
       " 13     long_scaled     9\n",
       " 11     year_scaled    10\n",
       " 3         lot_size    11\n",
       " 1        tax_value    12)"
      ]
     },
     "execution_count": 91,
     "metadata": {},
     "output_type": "execute_result"
    }
   ],
   "source": [
    "select_rfe(X_train, y_train, 3)"
   ]
  },
  {
   "cell_type": "code",
   "execution_count": 43,
   "id": "3835c190",
   "metadata": {},
   "outputs": [],
   "source": [
    "# only top rfe\n",
    "\n",
    "X_train = train[['tax_amount_scaled', 'cluster_0', 'cluster_2', 'cluster_3', 'cluster_4']]\n",
    "\n",
    "X_validate = validate[['tax_amount_scaled', 'cluster_0', 'cluster_2', 'cluster_3', 'cluster_4']]\n",
    "\n",
    "X_test = test[['tax_amount_scaled', 'cluster_0', 'cluster_2', 'cluster_3', 'cluster_4']]\n",
    "\n",
    "\n",
    "y_train = train['logerror']\n",
    "y_validate = validate['logerror']\n",
    "y_test = test['logerror']\n",
    "\n",
    "y_train  = pd.DataFrame(y_train)\n",
    "y_validate = pd.DataFrame(y_validate)\n",
    "\n",
    "results_only_rfe = pd.DataFrame()\n",
    "results_only_rfe = metric(X_train, y_train, X_validate, y_validate, results_only_clusters)"
   ]
  },
  {
   "cell_type": "code",
   "execution_count": 45,
   "id": "7681fbf6",
   "metadata": {},
   "outputs": [
    {
     "data": {
      "text/plain": [
       "16    0.173\n",
       "Name: RMSE_validate, dtype: float64"
      ]
     },
     "execution_count": 45,
     "metadata": {},
     "output_type": "execute_result"
    }
   ],
   "source": [
    "results_only_rfe.RMSE_validate.sort_values().head(1)"
   ]
  },
  {
   "cell_type": "code",
   "execution_count": 50,
   "id": "7296cf54",
   "metadata": {},
   "outputs": [],
   "source": [
    "# area, 0, 2, 3\n",
    "\n",
    "X_train = train[['area', 'cluster_0', 'cluster_2', 'cluster_3']]\n",
    "\n",
    "X_validate = validate[['area', 'cluster_0', 'cluster_2', 'cluster_3']]\n",
    "\n",
    "X_test = test[['area', 'cluster_0', 'cluster_2', 'cluster_3']]\n",
    "\n",
    "\n",
    "y_train = train['logerror']\n",
    "y_validate = validate['logerror']\n",
    "y_test = test['logerror']\n",
    "\n",
    "y_train  = pd.DataFrame(y_train)\n",
    "y_validate = pd.DataFrame(y_validate)\n",
    "\n",
    "results_only_area023 = pd.DataFrame()\n",
    "results_only_area023 = metric(X_train, y_train, X_validate, y_validate, results_only_area023)"
   ]
  },
  {
   "cell_type": "code",
   "execution_count": 56,
   "id": "0d3957ee",
   "metadata": {},
   "outputs": [
    {
     "data": {
      "text/html": [
       "<div>\n",
       "<style scoped>\n",
       "    .dataframe tbody tr th:only-of-type {\n",
       "        vertical-align: middle;\n",
       "    }\n",
       "\n",
       "    .dataframe tbody tr th {\n",
       "        vertical-align: top;\n",
       "    }\n",
       "\n",
       "    .dataframe thead th {\n",
       "        text-align: right;\n",
       "    }\n",
       "</style>\n",
       "<table border=\"1\" class=\"dataframe\">\n",
       "  <thead>\n",
       "    <tr style=\"text-align: right;\">\n",
       "      <th></th>\n",
       "      <th>model</th>\n",
       "      <th>RMSE_validate</th>\n",
       "      <th>r^2_validate</th>\n",
       "    </tr>\n",
       "  </thead>\n",
       "  <tbody>\n",
       "    <tr>\n",
       "      <th>0</th>\n",
       "      <td>mean_baseline</td>\n",
       "      <td>0.173162</td>\n",
       "      <td>0.000000</td>\n",
       "    </tr>\n",
       "    <tr>\n",
       "      <th>1</th>\n",
       "      <td>OLS Regressor</td>\n",
       "      <td>0.172893</td>\n",
       "      <td>0.003087</td>\n",
       "    </tr>\n",
       "    <tr>\n",
       "      <th>2</th>\n",
       "      <td>lasso_alpha_2</td>\n",
       "      <td>0.173162</td>\n",
       "      <td>0.000000</td>\n",
       "    </tr>\n",
       "    <tr>\n",
       "      <th>3</th>\n",
       "      <td>lasso_alpha_3</td>\n",
       "      <td>0.173162</td>\n",
       "      <td>0.000000</td>\n",
       "    </tr>\n",
       "    <tr>\n",
       "      <th>4</th>\n",
       "      <td>lasso_alpha_4</td>\n",
       "      <td>0.173162</td>\n",
       "      <td>0.000000</td>\n",
       "    </tr>\n",
       "    <tr>\n",
       "      <th>5</th>\n",
       "      <td>lasso_alpha_5</td>\n",
       "      <td>0.173162</td>\n",
       "      <td>0.000000</td>\n",
       "    </tr>\n",
       "    <tr>\n",
       "      <th>6</th>\n",
       "      <td>poly_degree_2</td>\n",
       "      <td>0.172936</td>\n",
       "      <td>0.002597</td>\n",
       "    </tr>\n",
       "    <tr>\n",
       "      <th>7</th>\n",
       "      <td>poly_degree_3</td>\n",
       "      <td>0.172890</td>\n",
       "      <td>0.003126</td>\n",
       "    </tr>\n",
       "    <tr>\n",
       "      <th>8</th>\n",
       "      <td>poly_degree_4</td>\n",
       "      <td>0.172880</td>\n",
       "      <td>0.003240</td>\n",
       "    </tr>\n",
       "    <tr>\n",
       "      <th>9</th>\n",
       "      <td>poly_degree_5</td>\n",
       "      <td>0.172894</td>\n",
       "      <td>0.003087</td>\n",
       "    </tr>\n",
       "  </tbody>\n",
       "</table>\n",
       "</div>"
      ],
      "text/plain": [
       "           model  RMSE_validate  r^2_validate\n",
       "0  mean_baseline       0.173162      0.000000\n",
       "1  OLS Regressor       0.172893      0.003087\n",
       "2  lasso_alpha_2       0.173162      0.000000\n",
       "3  lasso_alpha_3       0.173162      0.000000\n",
       "4  lasso_alpha_4       0.173162      0.000000\n",
       "5  lasso_alpha_5       0.173162      0.000000\n",
       "6  poly_degree_2       0.172936      0.002597\n",
       "7  poly_degree_3       0.172890      0.003126\n",
       "8  poly_degree_4       0.172880      0.003240\n",
       "9  poly_degree_5       0.172894      0.003087"
      ]
     },
     "execution_count": 56,
     "metadata": {},
     "output_type": "execute_result"
    }
   ],
   "source": [
    "results_only_area023"
   ]
  },
  {
   "cell_type": "code",
   "execution_count": 53,
   "id": "2dfcad29",
   "metadata": {},
   "outputs": [
    {
     "data": {
      "text/plain": [
       "8    0.17288\n",
       "Name: RMSE_validate, dtype: float64"
      ]
     },
     "execution_count": 53,
     "metadata": {},
     "output_type": "execute_result"
    }
   ],
   "source": [
    "results_only_area023.RMSE_validate.sort_values().head(1)"
   ]
  },
  {
   "cell_type": "code",
   "execution_count": 54,
   "id": "61a700cf",
   "metadata": {},
   "outputs": [],
   "source": [
    "target = y_train.columns[0]\n",
    "lm = LinearRegression(normalize=True)\n",
    "lm.fit(X_train, y_train[target])\n",
    "y_train[target+'_pred_lm'] = lm.predict(X_train)\n",
    "# evaluate: rmse\n",
    "rmse_train = mean_squared_error(y_train[target], y_train[target+'_pred_lm']) ** (1/2)"
   ]
  },
  {
   "cell_type": "code",
   "execution_count": 55,
   "id": "71180557",
   "metadata": {},
   "outputs": [
    {
     "data": {
      "text/plain": [
       "0.17236327633377443"
      ]
     },
     "execution_count": 55,
     "metadata": {},
     "output_type": "execute_result"
    }
   ],
   "source": [
    "rmse_train"
   ]
  },
  {
   "cell_type": "code",
   "execution_count": 74,
   "id": "4d49314d",
   "metadata": {},
   "outputs": [],
   "source": [
    "# best so far\n",
    "# year, 0 \n",
    "\n",
    "X_train = train[['price_per_sqft','area', 'cluster_0', 'cluster_1','cluster_2', 'cluster_3', 'cluster_4']]\n",
    "\n",
    "X_validate = validate[['price_per_sqft', 'area','cluster_0', 'cluster_1','cluster_2', 'cluster_3', 'cluster_4']]\n",
    "X_test = test[['area', 'cluster_0', 'cluster_1','cluster_2', 'cluster_3', 'cluster_4']]\n",
    "\n",
    "\n",
    "y_train = train['logerror']\n",
    "y_validate = validate['logerror']\n",
    "y_test = test['logerror']\n",
    "\n",
    "y_train  = pd.DataFrame(y_train)\n",
    "y_validate = pd.DataFrame(y_validate)\n",
    "\n",
    "results_only_area13 = pd.DataFrame()\n",
    "results_only_area13 = metric(X_train, y_train, X_validate, y_validate, results_only_area13)"
   ]
  },
  {
   "cell_type": "code",
   "execution_count": 75,
   "id": "a24e948a",
   "metadata": {},
   "outputs": [
    {
     "data": {
      "text/html": [
       "<div>\n",
       "<style scoped>\n",
       "    .dataframe tbody tr th:only-of-type {\n",
       "        vertical-align: middle;\n",
       "    }\n",
       "\n",
       "    .dataframe tbody tr th {\n",
       "        vertical-align: top;\n",
       "    }\n",
       "\n",
       "    .dataframe thead th {\n",
       "        text-align: right;\n",
       "    }\n",
       "</style>\n",
       "<table border=\"1\" class=\"dataframe\">\n",
       "  <thead>\n",
       "    <tr style=\"text-align: right;\">\n",
       "      <th></th>\n",
       "      <th>model</th>\n",
       "      <th>RMSE_validate</th>\n",
       "      <th>r^2_validate</th>\n",
       "    </tr>\n",
       "  </thead>\n",
       "  <tbody>\n",
       "    <tr>\n",
       "      <th>0</th>\n",
       "      <td>mean_baseline</td>\n",
       "      <td>0.173162</td>\n",
       "      <td>0.000000</td>\n",
       "    </tr>\n",
       "    <tr>\n",
       "      <th>1</th>\n",
       "      <td>OLS Regressor</td>\n",
       "      <td>0.172750</td>\n",
       "      <td>0.004728</td>\n",
       "    </tr>\n",
       "    <tr>\n",
       "      <th>2</th>\n",
       "      <td>lasso_alpha_2</td>\n",
       "      <td>0.173162</td>\n",
       "      <td>0.000000</td>\n",
       "    </tr>\n",
       "    <tr>\n",
       "      <th>3</th>\n",
       "      <td>lasso_alpha_3</td>\n",
       "      <td>0.173162</td>\n",
       "      <td>0.000000</td>\n",
       "    </tr>\n",
       "    <tr>\n",
       "      <th>4</th>\n",
       "      <td>lasso_alpha_4</td>\n",
       "      <td>0.173162</td>\n",
       "      <td>0.000000</td>\n",
       "    </tr>\n",
       "    <tr>\n",
       "      <th>5</th>\n",
       "      <td>lasso_alpha_5</td>\n",
       "      <td>0.173162</td>\n",
       "      <td>0.000000</td>\n",
       "    </tr>\n",
       "    <tr>\n",
       "      <th>6</th>\n",
       "      <td>poly_degree_2</td>\n",
       "      <td>0.172988</td>\n",
       "      <td>0.001998</td>\n",
       "    </tr>\n",
       "    <tr>\n",
       "      <th>7</th>\n",
       "      <td>poly_degree_3</td>\n",
       "      <td>0.173035</td>\n",
       "      <td>0.001476</td>\n",
       "    </tr>\n",
       "    <tr>\n",
       "      <th>8</th>\n",
       "      <td>poly_degree_4</td>\n",
       "      <td>0.173468</td>\n",
       "      <td>-0.003563</td>\n",
       "    </tr>\n",
       "    <tr>\n",
       "      <th>9</th>\n",
       "      <td>poly_degree_5</td>\n",
       "      <td>0.175903</td>\n",
       "      <td>-0.031933</td>\n",
       "    </tr>\n",
       "  </tbody>\n",
       "</table>\n",
       "</div>"
      ],
      "text/plain": [
       "           model  RMSE_validate  r^2_validate\n",
       "0  mean_baseline       0.173162      0.000000\n",
       "1  OLS Regressor       0.172750      0.004728\n",
       "2  lasso_alpha_2       0.173162      0.000000\n",
       "3  lasso_alpha_3       0.173162      0.000000\n",
       "4  lasso_alpha_4       0.173162      0.000000\n",
       "5  lasso_alpha_5       0.173162      0.000000\n",
       "6  poly_degree_2       0.172988      0.001998\n",
       "7  poly_degree_3       0.173035      0.001476\n",
       "8  poly_degree_4       0.173468     -0.003563\n",
       "9  poly_degree_5       0.175903     -0.031933"
      ]
     },
     "execution_count": 75,
     "metadata": {},
     "output_type": "execute_result"
    }
   ],
   "source": [
    "results_only_area13"
   ]
  },
  {
   "cell_type": "code",
   "execution_count": 76,
   "id": "e677df51",
   "metadata": {},
   "outputs": [],
   "source": [
    "#\n",
    "# year, 0 \n",
    "\n",
    "X_train = train[['price_per_sqft','area', 'cluster_0','cluster_2', 'cluster_3']]\n",
    "\n",
    "X_validate = validate[['price_per_sqft','area', 'cluster_0','cluster_2', 'cluster_3']]\n",
    "\n",
    "\n",
    "y_train = train['logerror']\n",
    "y_validate = validate['logerror']\n",
    "y_test = test['logerror']\n",
    "\n",
    "y_train  = pd.DataFrame(y_train)\n",
    "y_validate = pd.DataFrame(y_validate)\n",
    "\n",
    "results_only_area13 = pd.DataFrame()\n",
    "results_only_area13 = metric(X_train, y_train, X_validate, y_validate, results_only_area13)\n",
    "\n"
   ]
  },
  {
   "cell_type": "code",
   "execution_count": 77,
   "id": "68e67d3e",
   "metadata": {},
   "outputs": [
    {
     "data": {
      "text/html": [
       "<div>\n",
       "<style scoped>\n",
       "    .dataframe tbody tr th:only-of-type {\n",
       "        vertical-align: middle;\n",
       "    }\n",
       "\n",
       "    .dataframe tbody tr th {\n",
       "        vertical-align: top;\n",
       "    }\n",
       "\n",
       "    .dataframe thead th {\n",
       "        text-align: right;\n",
       "    }\n",
       "</style>\n",
       "<table border=\"1\" class=\"dataframe\">\n",
       "  <thead>\n",
       "    <tr style=\"text-align: right;\">\n",
       "      <th></th>\n",
       "      <th>model</th>\n",
       "      <th>RMSE_validate</th>\n",
       "      <th>r^2_validate</th>\n",
       "    </tr>\n",
       "  </thead>\n",
       "  <tbody>\n",
       "    <tr>\n",
       "      <th>0</th>\n",
       "      <td>mean_baseline</td>\n",
       "      <td>0.173162</td>\n",
       "      <td>0.000000</td>\n",
       "    </tr>\n",
       "    <tr>\n",
       "      <th>1</th>\n",
       "      <td>OLS Regressor</td>\n",
       "      <td>0.172750</td>\n",
       "      <td>0.004741</td>\n",
       "    </tr>\n",
       "    <tr>\n",
       "      <th>2</th>\n",
       "      <td>lasso_alpha_2</td>\n",
       "      <td>0.173162</td>\n",
       "      <td>0.000000</td>\n",
       "    </tr>\n",
       "    <tr>\n",
       "      <th>3</th>\n",
       "      <td>lasso_alpha_3</td>\n",
       "      <td>0.173162</td>\n",
       "      <td>0.000000</td>\n",
       "    </tr>\n",
       "    <tr>\n",
       "      <th>4</th>\n",
       "      <td>lasso_alpha_4</td>\n",
       "      <td>0.173162</td>\n",
       "      <td>0.000000</td>\n",
       "    </tr>\n",
       "    <tr>\n",
       "      <th>5</th>\n",
       "      <td>lasso_alpha_5</td>\n",
       "      <td>0.173162</td>\n",
       "      <td>0.000000</td>\n",
       "    </tr>\n",
       "    <tr>\n",
       "      <th>6</th>\n",
       "      <td>poly_degree_2</td>\n",
       "      <td>0.172980</td>\n",
       "      <td>0.002091</td>\n",
       "    </tr>\n",
       "    <tr>\n",
       "      <th>7</th>\n",
       "      <td>poly_degree_3</td>\n",
       "      <td>0.173013</td>\n",
       "      <td>0.001724</td>\n",
       "    </tr>\n",
       "    <tr>\n",
       "      <th>8</th>\n",
       "      <td>poly_degree_4</td>\n",
       "      <td>0.173414</td>\n",
       "      <td>-0.002921</td>\n",
       "    </tr>\n",
       "    <tr>\n",
       "      <th>9</th>\n",
       "      <td>poly_degree_5</td>\n",
       "      <td>0.175733</td>\n",
       "      <td>-0.029950</td>\n",
       "    </tr>\n",
       "  </tbody>\n",
       "</table>\n",
       "</div>"
      ],
      "text/plain": [
       "           model  RMSE_validate  r^2_validate\n",
       "0  mean_baseline       0.173162      0.000000\n",
       "1  OLS Regressor       0.172750      0.004741\n",
       "2  lasso_alpha_2       0.173162      0.000000\n",
       "3  lasso_alpha_3       0.173162      0.000000\n",
       "4  lasso_alpha_4       0.173162      0.000000\n",
       "5  lasso_alpha_5       0.173162      0.000000\n",
       "6  poly_degree_2       0.172980      0.002091\n",
       "7  poly_degree_3       0.173013      0.001724\n",
       "8  poly_degree_4       0.173414     -0.002921\n",
       "9  poly_degree_5       0.175733     -0.029950"
      ]
     },
     "execution_count": 77,
     "metadata": {},
     "output_type": "execute_result"
    }
   ],
   "source": [
    "results_only_area13"
   ]
  },
  {
   "cell_type": "code",
   "execution_count": 79,
   "id": "bbe5c374",
   "metadata": {},
   "outputs": [
    {
     "data": {
      "text/plain": [
       "0.17226222437180053"
      ]
     },
     "execution_count": 79,
     "metadata": {},
     "output_type": "execute_result"
    }
   ],
   "source": [
    "target = y_train.columns[0]\n",
    "lm = LinearRegression(normalize=True)\n",
    "lm.fit(X_train, y_train[target])\n",
    "y_train[target+'_pred_lm'] = lm.predict(X_train)\n",
    "# evaluate: rmse\n",
    "rmse_train = mean_squared_error(y_train[target], y_train[target+'_pred_lm']) ** (1/2)\n",
    "rmse_train"
   ]
  },
  {
   "cell_type": "code",
   "execution_count": 88,
   "id": "4c8f18a6",
   "metadata": {},
   "outputs": [],
   "source": [
    "# BEST \n",
    "# price, bed, area023\n",
    "\n",
    "X_train = train[['price_per_sqft','bed','area', 'cluster_0','cluster_2', 'cluster_3']]\n",
    "\n",
    "X_validate = validate[['price_per_sqft','bed','area', 'cluster_0','cluster_2', 'cluster_3']]\n",
    "\n",
    "\n",
    "y_train = train['logerror']\n",
    "y_validate = validate['logerror']\n",
    "y_test = test['logerror']\n",
    "\n",
    "y_train  = pd.DataFrame(y_train)\n",
    "y_validate = pd.DataFrame(y_validate)\n",
    "\n",
    "results_only_area13 = pd.DataFrame()\n",
    "results_only_area13 = metric(X_train, y_train, X_validate, y_validate, results_only_area13)\n",
    "\n",
    "\n"
   ]
  },
  {
   "cell_type": "code",
   "execution_count": 89,
   "id": "1fb801eb",
   "metadata": {},
   "outputs": [
    {
     "data": {
      "text/html": [
       "<div>\n",
       "<style scoped>\n",
       "    .dataframe tbody tr th:only-of-type {\n",
       "        vertical-align: middle;\n",
       "    }\n",
       "\n",
       "    .dataframe tbody tr th {\n",
       "        vertical-align: top;\n",
       "    }\n",
       "\n",
       "    .dataframe thead th {\n",
       "        text-align: right;\n",
       "    }\n",
       "</style>\n",
       "<table border=\"1\" class=\"dataframe\">\n",
       "  <thead>\n",
       "    <tr style=\"text-align: right;\">\n",
       "      <th></th>\n",
       "      <th>model</th>\n",
       "      <th>RMSE_validate</th>\n",
       "      <th>r^2_validate</th>\n",
       "    </tr>\n",
       "  </thead>\n",
       "  <tbody>\n",
       "    <tr>\n",
       "      <th>0</th>\n",
       "      <td>mean_baseline</td>\n",
       "      <td>0.173162</td>\n",
       "      <td>0.000000</td>\n",
       "    </tr>\n",
       "    <tr>\n",
       "      <th>1</th>\n",
       "      <td>OLS Regressor</td>\n",
       "      <td>0.172696</td>\n",
       "      <td>0.005362</td>\n",
       "    </tr>\n",
       "    <tr>\n",
       "      <th>2</th>\n",
       "      <td>lasso_alpha_2</td>\n",
       "      <td>0.173162</td>\n",
       "      <td>0.000000</td>\n",
       "    </tr>\n",
       "    <tr>\n",
       "      <th>3</th>\n",
       "      <td>lasso_alpha_3</td>\n",
       "      <td>0.173162</td>\n",
       "      <td>0.000000</td>\n",
       "    </tr>\n",
       "    <tr>\n",
       "      <th>4</th>\n",
       "      <td>lasso_alpha_4</td>\n",
       "      <td>0.173162</td>\n",
       "      <td>0.000000</td>\n",
       "    </tr>\n",
       "    <tr>\n",
       "      <th>5</th>\n",
       "      <td>lasso_alpha_5</td>\n",
       "      <td>0.173162</td>\n",
       "      <td>0.000000</td>\n",
       "    </tr>\n",
       "    <tr>\n",
       "      <th>6</th>\n",
       "      <td>poly_degree_2</td>\n",
       "      <td>0.172983</td>\n",
       "      <td>0.002046</td>\n",
       "    </tr>\n",
       "    <tr>\n",
       "      <th>7</th>\n",
       "      <td>poly_degree_3</td>\n",
       "      <td>0.173378</td>\n",
       "      <td>-0.002510</td>\n",
       "    </tr>\n",
       "    <tr>\n",
       "      <th>8</th>\n",
       "      <td>poly_degree_4</td>\n",
       "      <td>0.173914</td>\n",
       "      <td>-0.008714</td>\n",
       "    </tr>\n",
       "    <tr>\n",
       "      <th>9</th>\n",
       "      <td>poly_degree_5</td>\n",
       "      <td>0.176558</td>\n",
       "      <td>-0.039636</td>\n",
       "    </tr>\n",
       "  </tbody>\n",
       "</table>\n",
       "</div>"
      ],
      "text/plain": [
       "           model  RMSE_validate  r^2_validate\n",
       "0  mean_baseline       0.173162      0.000000\n",
       "1  OLS Regressor       0.172696      0.005362\n",
       "2  lasso_alpha_2       0.173162      0.000000\n",
       "3  lasso_alpha_3       0.173162      0.000000\n",
       "4  lasso_alpha_4       0.173162      0.000000\n",
       "5  lasso_alpha_5       0.173162      0.000000\n",
       "6  poly_degree_2       0.172983      0.002046\n",
       "7  poly_degree_3       0.173378     -0.002510\n",
       "8  poly_degree_4       0.173914     -0.008714\n",
       "9  poly_degree_5       0.176558     -0.039636"
      ]
     },
     "execution_count": 89,
     "metadata": {},
     "output_type": "execute_result"
    }
   ],
   "source": [
    "results_only_area13"
   ]
  },
  {
   "cell_type": "code",
   "execution_count": 98,
   "id": "c8a7787b",
   "metadata": {},
   "outputs": [
    {
     "data": {
      "text/html": [
       "<div>\n",
       "<style scoped>\n",
       "    .dataframe tbody tr th:only-of-type {\n",
       "        vertical-align: middle;\n",
       "    }\n",
       "\n",
       "    .dataframe tbody tr th {\n",
       "        vertical-align: top;\n",
       "    }\n",
       "\n",
       "    .dataframe thead th {\n",
       "        text-align: right;\n",
       "    }\n",
       "</style>\n",
       "<table border=\"1\" class=\"dataframe\">\n",
       "  <thead>\n",
       "    <tr style=\"text-align: right;\">\n",
       "      <th></th>\n",
       "      <th>model</th>\n",
       "      <th>RMSE_validate</th>\n",
       "      <th>r^2_validate</th>\n",
       "    </tr>\n",
       "  </thead>\n",
       "  <tbody>\n",
       "    <tr>\n",
       "      <th>0</th>\n",
       "      <td>mean_baseline</td>\n",
       "      <td>0.173162</td>\n",
       "      <td>0.000000</td>\n",
       "    </tr>\n",
       "    <tr>\n",
       "      <th>1</th>\n",
       "      <td>OLS Regressor</td>\n",
       "      <td>0.172869</td>\n",
       "      <td>0.003367</td>\n",
       "    </tr>\n",
       "    <tr>\n",
       "      <th>2</th>\n",
       "      <td>lasso_alpha_2</td>\n",
       "      <td>0.173162</td>\n",
       "      <td>0.000000</td>\n",
       "    </tr>\n",
       "    <tr>\n",
       "      <th>3</th>\n",
       "      <td>lasso_alpha_3</td>\n",
       "      <td>0.173162</td>\n",
       "      <td>0.000000</td>\n",
       "    </tr>\n",
       "    <tr>\n",
       "      <th>4</th>\n",
       "      <td>lasso_alpha_4</td>\n",
       "      <td>0.173162</td>\n",
       "      <td>0.000000</td>\n",
       "    </tr>\n",
       "    <tr>\n",
       "      <th>5</th>\n",
       "      <td>lasso_alpha_5</td>\n",
       "      <td>0.173162</td>\n",
       "      <td>0.000000</td>\n",
       "    </tr>\n",
       "    <tr>\n",
       "      <th>6</th>\n",
       "      <td>poly_degree_2</td>\n",
       "      <td>0.172896</td>\n",
       "      <td>0.003068</td>\n",
       "    </tr>\n",
       "    <tr>\n",
       "      <th>7</th>\n",
       "      <td>poly_degree_3</td>\n",
       "      <td>0.172905</td>\n",
       "      <td>0.002959</td>\n",
       "    </tr>\n",
       "    <tr>\n",
       "      <th>8</th>\n",
       "      <td>poly_degree_4</td>\n",
       "      <td>0.172998</td>\n",
       "      <td>0.001881</td>\n",
       "    </tr>\n",
       "    <tr>\n",
       "      <th>9</th>\n",
       "      <td>poly_degree_5</td>\n",
       "      <td>0.173207</td>\n",
       "      <td>-0.000520</td>\n",
       "    </tr>\n",
       "  </tbody>\n",
       "</table>\n",
       "</div>"
      ],
      "text/plain": [
       "           model  RMSE_validate  r^2_validate\n",
       "0  mean_baseline       0.173162      0.000000\n",
       "1  OLS Regressor       0.172869      0.003367\n",
       "2  lasso_alpha_2       0.173162      0.000000\n",
       "3  lasso_alpha_3       0.173162      0.000000\n",
       "4  lasso_alpha_4       0.173162      0.000000\n",
       "5  lasso_alpha_5       0.173162      0.000000\n",
       "6  poly_degree_2       0.172896      0.003068\n",
       "7  poly_degree_3       0.172905      0.002959\n",
       "8  poly_degree_4       0.172998      0.001881\n",
       "9  poly_degree_5       0.173207     -0.000520"
      ]
     },
     "execution_count": 98,
     "metadata": {},
     "output_type": "execute_result"
    }
   ],
   "source": [
    "\n",
    "# price, bed, area01234\n",
    "\n",
    "X_train = train[['bed', 'cluster_0', 'cluster_1', 'cluster_2', 'cluster_3', 'cluster_4']]\n",
    "\n",
    "X_validate = validate[['bed', 'cluster_0', 'cluster_1', 'cluster_2', 'cluster_3', 'cluster_4']]\n",
    "\n",
    "\n",
    "y_train = train['logerror']\n",
    "y_validate = validate['logerror']\n",
    "y_test = test['logerror']\n",
    "\n",
    "y_train  = pd.DataFrame(y_train)\n",
    "y_validate = pd.DataFrame(y_validate)\n",
    "\n",
    "results_only_area13 = pd.DataFrame()\n",
    "results_only_area13 = metric(X_train, y_train, X_validate, y_validate, results_only_area13)\n",
    "\n",
    "results_only_area13"
   ]
  },
  {
   "cell_type": "code",
   "execution_count": 115,
   "id": "ed908c03",
   "metadata": {},
   "outputs": [
    {
     "data": {
      "text/html": [
       "<div>\n",
       "<style scoped>\n",
       "    .dataframe tbody tr th:only-of-type {\n",
       "        vertical-align: middle;\n",
       "    }\n",
       "\n",
       "    .dataframe tbody tr th {\n",
       "        vertical-align: top;\n",
       "    }\n",
       "\n",
       "    .dataframe thead th {\n",
       "        text-align: right;\n",
       "    }\n",
       "</style>\n",
       "<table border=\"1\" class=\"dataframe\">\n",
       "  <thead>\n",
       "    <tr style=\"text-align: right;\">\n",
       "      <th></th>\n",
       "      <th>model</th>\n",
       "      <th>RMSE_validate</th>\n",
       "      <th>r^2_validate</th>\n",
       "    </tr>\n",
       "  </thead>\n",
       "  <tbody>\n",
       "    <tr>\n",
       "      <th>0</th>\n",
       "      <td>mean_baseline</td>\n",
       "      <td>0.173162</td>\n",
       "      <td>0.000000</td>\n",
       "    </tr>\n",
       "    <tr>\n",
       "      <th>1</th>\n",
       "      <td>OLS Regressor</td>\n",
       "      <td>0.172681</td>\n",
       "      <td>0.005534</td>\n",
       "    </tr>\n",
       "    <tr>\n",
       "      <th>2</th>\n",
       "      <td>lasso_alpha_2</td>\n",
       "      <td>0.173162</td>\n",
       "      <td>0.000000</td>\n",
       "    </tr>\n",
       "    <tr>\n",
       "      <th>3</th>\n",
       "      <td>lasso_alpha_3</td>\n",
       "      <td>0.173162</td>\n",
       "      <td>0.000000</td>\n",
       "    </tr>\n",
       "    <tr>\n",
       "      <th>4</th>\n",
       "      <td>lasso_alpha_4</td>\n",
       "      <td>0.173162</td>\n",
       "      <td>0.000000</td>\n",
       "    </tr>\n",
       "    <tr>\n",
       "      <th>5</th>\n",
       "      <td>lasso_alpha_5</td>\n",
       "      <td>0.173162</td>\n",
       "      <td>0.000000</td>\n",
       "    </tr>\n",
       "    <tr>\n",
       "      <th>6</th>\n",
       "      <td>poly_degree_2</td>\n",
       "      <td>0.172736</td>\n",
       "      <td>0.004906</td>\n",
       "    </tr>\n",
       "    <tr>\n",
       "      <th>7</th>\n",
       "      <td>poly_degree_3</td>\n",
       "      <td>0.172778</td>\n",
       "      <td>0.004430</td>\n",
       "    </tr>\n",
       "    <tr>\n",
       "      <th>8</th>\n",
       "      <td>poly_degree_4</td>\n",
       "      <td>0.173654</td>\n",
       "      <td>-0.005695</td>\n",
       "    </tr>\n",
       "    <tr>\n",
       "      <th>9</th>\n",
       "      <td>poly_degree_5</td>\n",
       "      <td>0.178197</td>\n",
       "      <td>-0.058992</td>\n",
       "    </tr>\n",
       "  </tbody>\n",
       "</table>\n",
       "</div>"
      ],
      "text/plain": [
       "           model  RMSE_validate  r^2_validate\n",
       "0  mean_baseline       0.173162      0.000000\n",
       "1  OLS Regressor       0.172681      0.005534\n",
       "2  lasso_alpha_2       0.173162      0.000000\n",
       "3  lasso_alpha_3       0.173162      0.000000\n",
       "4  lasso_alpha_4       0.173162      0.000000\n",
       "5  lasso_alpha_5       0.173162      0.000000\n",
       "6  poly_degree_2       0.172736      0.004906\n",
       "7  poly_degree_3       0.172778      0.004430\n",
       "8  poly_degree_4       0.173654     -0.005695\n",
       "9  poly_degree_5       0.178197     -0.058992"
      ]
     },
     "execution_count": 115,
     "metadata": {},
     "output_type": "execute_result"
    }
   ],
   "source": [
    "# best and final bed, bath, tax amount scaled, cluster 0, 2, 3\n",
    "X_train = train[['bed_scaled','bath_scaled','tax_amount_scaled','cluster_0', 'cluster_2', 'cluster_3']]\n",
    "\n",
    "X_validate = validate[['bed_scaled', 'bath_scaled','tax_amount_scaled','cluster_0', 'cluster_2', 'cluster_3']]\n",
    "\n",
    "\n",
    "y_train = train['logerror']\n",
    "y_validate = validate['logerror']\n",
    "y_test = test['logerror']\n",
    "\n",
    "y_train  = pd.DataFrame(y_train)\n",
    "y_validate = pd.DataFrame(y_validate)\n",
    "\n",
    "results_only_area13 = pd.DataFrame()\n",
    "results_only_area13 = metric(X_train, y_train, X_validate, y_validate, results_only_area13)\n",
    "\n",
    "results_only_area13"
   ]
  },
  {
   "cell_type": "code",
   "execution_count": 116,
   "id": "18459ca3",
   "metadata": {},
   "outputs": [
    {
     "data": {
      "text/plain": [
       "0.17224335972016272"
      ]
     },
     "execution_count": 116,
     "metadata": {},
     "output_type": "execute_result"
    }
   ],
   "source": [
    "target = y_train.columns[0]\n",
    "lm = LinearRegression(normalize=True)\n",
    "lm.fit(X_train, y_train[target])\n",
    "y_train[target+'_pred_lm'] = lm.predict(X_train)\n",
    "# evaluate: rmse\n",
    "rmse_train = mean_squared_error(y_train[target], y_train[target+'_pred_lm']) ** (1/2)\n",
    "rmse_train"
   ]
  },
  {
   "cell_type": "code",
   "execution_count": null,
   "id": "93db4f39",
   "metadata": {},
   "outputs": [],
   "source": []
  }
 ],
 "metadata": {
  "kernelspec": {
   "display_name": "Python 3",
   "language": "python",
   "name": "python3"
  },
  "language_info": {
   "codemirror_mode": {
    "name": "ipython",
    "version": 3
   },
   "file_extension": ".py",
   "mimetype": "text/x-python",
   "name": "python",
   "nbconvert_exporter": "python",
   "pygments_lexer": "ipython3",
   "version": "3.8.8"
  }
 },
 "nbformat": 4,
 "nbformat_minor": 5
}
