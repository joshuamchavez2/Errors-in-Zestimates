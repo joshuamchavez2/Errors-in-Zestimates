{
 "cells": [
  {
   "cell_type": "code",
   "execution_count": 150,
   "id": "21cf61cf",
   "metadata": {},
   "outputs": [],
   "source": [
    "# Math \n",
    "from math import sqrt\n",
    "from scipy import stats\n",
    "import statistics\n",
    "import os\n",
    "\n",
    "# General\n",
    "import numpy as np\n",
    "import pandas as pd\n",
    "from pydataset import data\n",
    "\n",
    "# Sklearn tools\n",
    "from sklearn.model_selection import train_test_split\n",
    "from sklearn.feature_selection import SelectKBest, f_regression\n",
    "from sklearn.impute import SimpleImputer\n",
    "\n",
    "# Sklearn Metrics\n",
    "from sklearn.metrics import classification_report\n",
    "from sklearn.metrics import confusion_matrix\n",
    "from sklearn.metrics import mean_squared_error\n",
    "from sklearn.metrics import explained_variance_score\n",
    "\n",
    "\n",
    "# Sklearn Models\n",
    "from sklearn.tree import DecisionTreeClassifier\n",
    "from sklearn.ensemble import RandomForestClassifier\n",
    "from sklearn.neighbors import KNeighborsClassifier\n",
    "from sklearn.linear_model import LinearRegression, LassoLars, TweedieRegressor\n",
    "from sklearn.preprocessing import PolynomialFeatures, MinMaxScaler\n",
    "from sklearn.cluster import KMeans\n",
    "\n",
    "\n",
    "# Visuals\n",
    "import matplotlib.pyplot as plt\n",
    "import seaborn as sns\n",
    "from graphviz import Graph\n",
    "from tabulate import tabulate\n",
    "from sklearn.tree import export_graphviz\n",
    "\n",
    "# Custom Module's\n",
    "from wrangle import wrangle, wrangle_mode\n",
    "from acquire import acquire\n",
    "from functions import create_heatmap, explore_univariate, explore_bivariate, explore_multivariate\n",
    "import warnings\n",
    "warnings.filterwarnings(\"ignore\")"
   ]
  },
  {
   "cell_type": "markdown",
   "id": "dbfa1615",
   "metadata": {},
   "source": [
    "# Planning"
   ]
  },
  {
   "cell_type": "markdown",
   "id": "273fe9fc",
   "metadata": {},
   "source": [
    "#### Setup\n",
    "\n",
    "- Create a repo\n",
    "- Create a README.md\n",
    "- Update .gitignore\n",
    "- Create a draft and final in juypter notebook\n",
    "\n",
    "#### Acquire\n",
    "\n",
    "- Create an acquire.py module\n",
    "- Create a sql script\n",
    "- Setup acquire.py\n",
    "- Use python to grab the data from codeup database\n",
    "- plot distributions\n",
    "- Run .head(), .info(), .describe()\n",
    "\n",
    "#### Prepare\n",
    "\n",
    "- Create a prepare.py module\n",
    "\n",
    "- Clean data()\n",
    "   - Drop columns\n",
    "       - Document why I dropped columns\n",
    "   - Handle nulls\n",
    "       - Documnet which columns/rows will be dropped.\n",
    "       - Impute? document how and why\n",
    "   - Check datatypes\n",
    "   - Check for duplicates\n",
    "   - Rename columns\n",
    "   \n",
    "- Remove outliers()\n",
    "    \n",
    "- Split Data for modeling()\n",
    "    - Encode()\n",
    "        - Create dummies\n",
    "        - Scale Data on Train\n",
    "        - Transform Train, Validate, Test\n",
    "        \n",
    "- Split Data for exploration()\n",
    "    - No encoding\n",
    "    \n",
    "#### Explore\n",
    "\n",
    "- Ask and answer as many questions as i can\n",
    "- heatmap\n",
    "- convert some continous values to categorical\n",
    "- univariate, bivariate\n",
    "- initial hypothesis\n",
    "- hypothesis testing\n",
    "    - T-Test\n",
    "    - Correlation\n",
    "- feature engineering\n",
    "- clustering\n",
    "    - Try out different features\n",
    "        - Graph clusters\n",
    "        - graph k using inertia\n",
    "\n",
    "#### Model\n",
    "- For each cluster\n",
    "    - Run as many linear regression models as i can.\n",
    "        - Change out features\n",
    "            - Document\n",
    "        - Change out hyperparameters\n",
    "            - Document\n",
    "    - Select best model\n",
    "         - Compare Validate and Train rmse and look for drop offs\n",
    "         - plot residuals\n",
    "    - Run test\n",
    "    \n",
    "#### Deliver\n",
    "- Create a data dictionary\n",
    "- Finish up final notebook\n",
    "- Finish up READ.me"
   ]
  },
  {
   "cell_type": "code",
   "execution_count": 2,
   "id": "61493b94",
   "metadata": {},
   "outputs": [],
   "source": [
    "pd.set_option(\"display.max_rows\", None, \"display.max_columns\", None) \n",
    "\n",
    "pd.reset_option(\"display.max_rows\", \"display.max_columns\")"
   ]
  },
  {
   "cell_type": "markdown",
   "id": "e944f509",
   "metadata": {},
   "source": [
    "# Explore"
   ]
  },
  {
   "cell_type": "code",
   "execution_count": 3,
   "id": "af8513a2",
   "metadata": {},
   "outputs": [],
   "source": [
    "train, validate, test = wrangle_mode('intial_explore') # nothing is scaled"
   ]
  },
  {
   "cell_type": "code",
   "execution_count": 4,
   "id": "f50d386e",
   "metadata": {},
   "outputs": [
    {
     "name": "stdout",
     "output_type": "stream",
     "text": [
      "<class 'pandas.core.frame.DataFrame'>\n",
      "Int64Index: 29182 entries, 47145 to 43370\n",
      "Data columns (total 13 columns):\n",
      " #   Column          Non-Null Count  Dtype  \n",
      "---  ------          --------------  -----  \n",
      " 0   bath            29182 non-null  float64\n",
      " 1   bed             29182 non-null  float64\n",
      " 2   area            29182 non-null  float64\n",
      " 3   lat             29182 non-null  float64\n",
      " 4   long            29182 non-null  float64\n",
      " 5   lot_size        29182 non-null  float64\n",
      " 6   year            29182 non-null  float64\n",
      " 7   tax_value       29182 non-null  float64\n",
      " 8   tax_amount      29182 non-null  float64\n",
      " 9   logerror        29182 non-null  float64\n",
      " 10  heating_type    29182 non-null  object \n",
      " 11  county          29182 non-null  object \n",
      " 12  price_per_sqft  29182 non-null  float64\n",
      "dtypes: float64(11), object(2)\n",
      "memory usage: 3.1+ MB\n"
     ]
    }
   ],
   "source": [
    "train.info()"
   ]
  },
  {
   "cell_type": "code",
   "execution_count": 5,
   "id": "06e86397",
   "metadata": {},
   "outputs": [
    {
     "data": {
      "text/plain": [
       "<AxesSubplot:>"
      ]
     },
     "execution_count": 5,
     "metadata": {},
     "output_type": "execute_result"
    },
    {
     "data": {
      "image/png": "[encoded data removed]",
      "text/plain": [
       "<Figure size 432x288 with 1 Axes>"
      ]
     },
     "metadata": {
      "needs_background": "light"
     },
     "output_type": "display_data"
    }
   ],
   "source": [
    "train.bed.plot.box()"
   ]
  },
  {
   "cell_type": "markdown",
   "id": "72764e0f",
   "metadata": {},
   "source": [
    "Looks like 2 to 5 bed rooms is the average range for bedrooms"
   ]
  },
  {
   "cell_type": "code",
   "execution_count": 6,
   "id": "9c8f25ce",
   "metadata": {},
   "outputs": [
    {
     "data": {
      "text/plain": [
       "<AxesSubplot:>"
      ]
     },
     "execution_count": 6,
     "metadata": {},
     "output_type": "execute_result"
    },
    {
     "data": {
      "image/png": "[encoded data removed]",
      "text/plain": [
       "<Figure size 432x288 with 1 Axes>"
      ]
     },
     "metadata": {
      "needs_background": "light"
     },
     "output_type": "display_data"
    }
   ],
   "source": [
    "train.bath.plot.box()"
   ]
  },
  {
   "cell_type": "code",
   "execution_count": 7,
   "id": "a0e11672",
   "metadata": {},
   "outputs": [
    {
     "data": {
      "text/plain": [
       "<AxesSubplot:>"
      ]
     },
     "execution_count": 7,
     "metadata": {},
     "output_type": "execute_result"
    },
    {
     "data": {
      "image/png": "[encoded data removed]",
      "text/plain": [
       "<Figure size 432x288 with 1 Axes>"
      ]
     },
     "metadata": {
      "needs_background": "light"
     },
     "output_type": "display_data"
    }
   ],
   "source": [
    "train.area.plot.box()"
   ]
  },
  {
   "cell_type": "code",
   "execution_count": 8,
   "id": "4b21e13d",
   "metadata": {},
   "outputs": [
    {
     "data": {
      "text/plain": [
       "<AxesSubplot:>"
      ]
     },
     "execution_count": 8,
     "metadata": {},
     "output_type": "execute_result"
    },
    {
     "data": {
      "image/png": "[encoded data removed]",
      "text/plain": [
       "<Figure size 432x288 with 1 Axes>"
      ]
     },
     "metadata": {
      "needs_background": "light"
     },
     "output_type": "display_data"
    }
   ],
   "source": [
    "train.lot_size.plot.box()"
   ]
  },
  {
   "cell_type": "code",
   "execution_count": 9,
   "id": "7465b1e7",
   "metadata": {},
   "outputs": [
    {
     "data": {
      "text/plain": [
       "<AxesSubplot:>"
      ]
     },
     "execution_count": 9,
     "metadata": {},
     "output_type": "execute_result"
    },
    {
     "data": {
      "image/png": "[encoded data removed]",
      "text/plain": [
       "<Figure size 432x288 with 1 Axes>"
      ]
     },
     "metadata": {
      "needs_background": "light"
     },
     "output_type": "display_data"
    }
   ],
   "source": [
    "train.year.plot.box()"
   ]
  },
  {
   "cell_type": "code",
   "execution_count": 10,
   "id": "44b2d0dc",
   "metadata": {},
   "outputs": [
    {
     "data": {
      "text/plain": [
       "<AxesSubplot:>"
      ]
     },
     "execution_count": 10,
     "metadata": {},
     "output_type": "execute_result"
    },
    {
     "data": {
      "image/png": "[encoded data removed]",
      "text/plain": [
       "<Figure size 432x288 with 1 Axes>"
      ]
     },
     "metadata": {
      "needs_background": "light"
     },
     "output_type": "display_data"
    }
   ],
   "source": [
    "train.tax_value.plot.box()"
   ]
  },
  {
   "cell_type": "code",
   "execution_count": 11,
   "id": "d51b6422",
   "metadata": {},
   "outputs": [
    {
     "data": {
      "text/plain": [
       "<AxesSubplot:>"
      ]
     },
     "execution_count": 11,
     "metadata": {},
     "output_type": "execute_result"
    },
    {
     "data": {
      "image/png": "[encoded data removed]",
      "text/plain": [
       "<Figure size 432x288 with 1 Axes>"
      ]
     },
     "metadata": {
      "needs_background": "light"
     },
     "output_type": "display_data"
    }
   ],
   "source": [
    "train.tax_amount.plot.box()"
   ]
  },
  {
   "cell_type": "markdown",
   "id": "7b0b0090",
   "metadata": {},
   "source": [
    "## Questions"
   ]
  },
  {
   "cell_type": "markdown",
   "id": "4782667f",
   "metadata": {},
   "source": [
    "### Do the houses under the year 1912 have more area than houses above 1912? worth more?`"
   ]
  },
  {
   "cell_type": "code",
   "execution_count": 12,
   "id": "b6e1c041",
   "metadata": {},
   "outputs": [],
   "source": [
    "df_over_1912 = train[train['year']> 1912]"
   ]
  },
  {
   "cell_type": "code",
   "execution_count": 13,
   "id": "d70a7f14",
   "metadata": {},
   "outputs": [],
   "source": [
    "df_under_1912 = train[train['year']< 1912]"
   ]
  },
  {
   "cell_type": "code",
   "execution_count": 14,
   "id": "8b579051",
   "metadata": {},
   "outputs": [
    {
     "data": {
      "text/plain": [
       "(1564.4186046511627, 356119.9767441861)"
      ]
     },
     "execution_count": 14,
     "metadata": {},
     "output_type": "execute_result"
    }
   ],
   "source": [
    "df_under_1912.area.mean(), df_under_1912.tax_value.mean()"
   ]
  },
  {
   "cell_type": "code",
   "execution_count": 15,
   "id": "ac51240d",
   "metadata": {},
   "outputs": [
    {
     "data": {
      "text/plain": [
       "(1930.3569963497305, 528207.401251521)"
      ]
     },
     "execution_count": 15,
     "metadata": {},
     "output_type": "execute_result"
    }
   ],
   "source": [
    "df_over_1912.area.mean(), df_over_1912.tax_value.mean()"
   ]
  },
  {
   "cell_type": "markdown",
   "id": "c20ab86d",
   "metadata": {},
   "source": [
    "#### `Houses under 1912 on average are smaller and worth more money`\n"
   ]
  },
  {
   "cell_type": "markdown",
   "id": "725ad572",
   "metadata": {},
   "source": [
    "### What county has the most houses under 1912?"
   ]
  },
  {
   "cell_type": "code",
   "execution_count": 16,
   "id": "d10d24cc",
   "metadata": {},
   "outputs": [
    {
     "data": {
      "text/plain": [
       "Los Angeles    322\n",
       "Orange          15\n",
       "Ventura          7\n",
       "Name: county, dtype: int64"
      ]
     },
     "execution_count": 16,
     "metadata": {},
     "output_type": "execute_result"
    }
   ],
   "source": [
    "df_under_1912.county.value_counts()"
   ]
  },
  {
   "cell_type": "markdown",
   "id": "847d19d6",
   "metadata": {},
   "source": [
    "#### `LA has the most houses made under the year 1912`"
   ]
  },
  {
   "cell_type": "code",
   "execution_count": 17,
   "id": "431dd507",
   "metadata": {},
   "outputs": [
    {
     "data": {
      "text/plain": [
       "Los Angeles    18399\n",
       "Orange          7939\n",
       "Ventura         2427\n",
       "Name: county, dtype: int64"
      ]
     },
     "execution_count": 17,
     "metadata": {},
     "output_type": "execute_result"
    }
   ],
   "source": [
    "df_over_1912.county.value_counts()"
   ]
  },
  {
   "cell_type": "markdown",
   "id": "40d9928a",
   "metadata": {},
   "source": [
    "### What county on average has a  logerror?"
   ]
  },
  {
   "cell_type": "code",
   "execution_count": 18,
   "id": "1dbbce51",
   "metadata": {},
   "outputs": [
    {
     "data": {
      "text/plain": [
       "county\n",
       "Los Angeles    0.016114\n",
       "Orange         0.023558\n",
       "Ventura        0.014337\n",
       "Name: logerror, dtype: float64"
      ]
     },
     "execution_count": 18,
     "metadata": {},
     "output_type": "execute_result"
    }
   ],
   "source": [
    "train.groupby(\"county\").logerror.mean()"
   ]
  },
  {
   "cell_type": "code",
   "execution_count": 19,
   "id": "1902edcf",
   "metadata": {},
   "outputs": [
    {
     "data": {
      "text/plain": [
       "county\n",
       "Los Angeles    0.006804\n",
       "Orange         0.007825\n",
       "Ventura        0.005227\n",
       "Name: logerror, dtype: float64"
      ]
     },
     "execution_count": 19,
     "metadata": {},
     "output_type": "execute_result"
    }
   ],
   "source": [
    "train.groupby(\"county\").logerror.median()"
   ]
  },
  {
   "cell_type": "markdown",
   "id": "bb73203d",
   "metadata": {},
   "source": [
    "### What heating type has a higher on average logeror?"
   ]
  },
  {
   "cell_type": "code",
   "execution_count": 20,
   "id": "dab57f4c",
   "metadata": {},
   "outputs": [
    {
     "data": {
      "text/plain": [
       "heating_type\n",
       "Central       0.018752\n",
       "Floor/Wall    0.016255\n",
       "Forced air    0.002682\n",
       "Name: logerror, dtype: float64"
      ]
     },
     "execution_count": 20,
     "metadata": {},
     "output_type": "execute_result"
    }
   ],
   "source": [
    "train.groupby(\"heating_type\").logerror.mean()"
   ]
  },
  {
   "cell_type": "code",
   "execution_count": 21,
   "id": "76229cbc",
   "metadata": {},
   "outputs": [
    {
     "data": {
      "text/plain": [
       "heating_type\n",
       "Central       0.007373\n",
       "Floor/Wall    0.005630\n",
       "Forced air    0.005630\n",
       "Name: logerror, dtype: float64"
      ]
     },
     "execution_count": 21,
     "metadata": {},
     "output_type": "execute_result"
    }
   ],
   "source": [
    "train.groupby(\"heating_type\").logerror.median()"
   ]
  },
  {
   "cell_type": "markdown",
   "id": "0b020cdb",
   "metadata": {},
   "source": [
    "### What is the range in years?"
   ]
  },
  {
   "cell_type": "code",
   "execution_count": 22,
   "id": "4b8a1ca0",
   "metadata": {},
   "outputs": [
    {
     "data": {
      "text/plain": [
       "(1878.0, 2016.0)"
      ]
     },
     "execution_count": 22,
     "metadata": {},
     "output_type": "execute_result"
    }
   ],
   "source": [
    "train.year.min(), train.year.max()"
   ]
  },
  {
   "cell_type": "markdown",
   "id": "49a786e9",
   "metadata": {},
   "source": [
    "### Which county has the largest tax value houses? "
   ]
  },
  {
   "cell_type": "code",
   "execution_count": 23,
   "id": "fc1dfb88",
   "metadata": {},
   "outputs": [
    {
     "data": {
      "text/plain": [
       "county\n",
       "Los Angeles    24345695.0\n",
       "Orange          8020475.0\n",
       "Ventura         4732000.0\n",
       "Name: tax_value, dtype: float64"
      ]
     },
     "execution_count": 23,
     "metadata": {},
     "output_type": "execute_result"
    }
   ],
   "source": [
    "train.groupby('county').tax_value.max()"
   ]
  },
  {
   "cell_type": "code",
   "execution_count": 24,
   "id": "c6887377",
   "metadata": {},
   "outputs": [
    {
     "data": {
      "text/plain": [
       "county\n",
       "Los Angeles    10504.0\n",
       "Orange         13817.0\n",
       "Ventura         9242.0\n",
       "Name: tax_value, dtype: float64"
      ]
     },
     "execution_count": 24,
     "metadata": {},
     "output_type": "execute_result"
    }
   ],
   "source": [
    "train.groupby('county').tax_value.min()"
   ]
  },
  {
   "cell_type": "code",
   "execution_count": 25,
   "id": "08ff1683",
   "metadata": {},
   "outputs": [
    {
     "data": {
      "text/plain": [
       "county\n",
       "Los Angeles    320180.5\n",
       "Orange         476269.0\n",
       "Ventura        443591.5\n",
       "Name: tax_value, dtype: float64"
      ]
     },
     "execution_count": 25,
     "metadata": {},
     "output_type": "execute_result"
    }
   ],
   "source": [
    "train.groupby('county').tax_value.median()"
   ]
  },
  {
   "cell_type": "code",
   "execution_count": 26,
   "id": "700960b5",
   "metadata": {},
   "outputs": [
    {
     "data": {
      "text/plain": [
       "county\n",
       "Los Angeles    496274.299308\n",
       "Orange         598784.330611\n",
       "Ventura        513848.030403\n",
       "Name: tax_value, dtype: float64"
      ]
     },
     "execution_count": 26,
     "metadata": {},
     "output_type": "execute_result"
    }
   ],
   "source": [
    "train.groupby('county').tax_value.mean()"
   ]
  },
  {
   "cell_type": "markdown",
   "id": "fe13894b",
   "metadata": {},
   "source": [
    "### what county has bigger lots?"
   ]
  },
  {
   "cell_type": "code",
   "execution_count": 27,
   "id": "b4429351",
   "metadata": {},
   "outputs": [
    {
     "data": {
      "text/plain": [
       "county\n",
       "Los Angeles    12576.540926\n",
       "Orange          7382.580045\n",
       "Ventura        12807.225965\n",
       "Name: lot_size, dtype: float64"
      ]
     },
     "execution_count": 27,
     "metadata": {},
     "output_type": "execute_result"
    }
   ],
   "source": [
    "train.groupby('county').lot_size.mean()"
   ]
  },
  {
   "cell_type": "code",
   "execution_count": 28,
   "id": "ee17f42f",
   "metadata": {},
   "outputs": [
    {
     "data": {
      "text/plain": [
       "county\n",
       "Los Angeles    6894.0\n",
       "Orange         6371.5\n",
       "Ventura        7488.5\n",
       "Name: lot_size, dtype: float64"
      ]
     },
     "execution_count": 28,
     "metadata": {},
     "output_type": "execute_result"
    }
   ],
   "source": [
    "train.groupby('county').lot_size.median()"
   ]
  },
  {
   "cell_type": "code",
   "execution_count": 29,
   "id": "ca0e0ce8",
   "metadata": {},
   "outputs": [
    {
     "data": {
      "text/plain": [
       "county\n",
       "Los Angeles    6971010.0\n",
       "Orange          169884.0\n",
       "Ventura         482209.0\n",
       "Name: lot_size, dtype: float64"
      ]
     },
     "execution_count": 29,
     "metadata": {},
     "output_type": "execute_result"
    }
   ],
   "source": [
    "train.groupby('county').lot_size.max()"
   ]
  },
  {
   "cell_type": "code",
   "execution_count": 30,
   "id": "a0fcc17f",
   "metadata": {},
   "outputs": [
    {
     "data": {
      "text/plain": [
       "county\n",
       "Los Angeles    909.0\n",
       "Orange         540.0\n",
       "Ventura        236.0\n",
       "Name: lot_size, dtype: float64"
      ]
     },
     "execution_count": 30,
     "metadata": {},
     "output_type": "execute_result"
    }
   ],
   "source": [
    "train.groupby('county').lot_size.min()"
   ]
  },
  {
   "cell_type": "markdown",
   "id": "11bc5b7c",
   "metadata": {},
   "source": [
    "### how many house in LA have over a 1 million square feet?"
   ]
  },
  {
   "cell_type": "code",
   "execution_count": 31,
   "id": "43d309d0",
   "metadata": {},
   "outputs": [],
   "source": [
    "df_la = train[train.county == \"Los Angeles\"]"
   ]
  },
  {
   "cell_type": "code",
   "execution_count": 32,
   "id": "d27cfa1c",
   "metadata": {},
   "outputs": [],
   "source": [
    "df_la['price_per_sqft']= df_la.lot_size/df_la.tax_value"
   ]
  },
  {
   "cell_type": "code",
   "execution_count": 33,
   "id": "0e854643",
   "metadata": {},
   "outputs": [
    {
     "data": {
      "text/html": [
       "<div>\n",
       "<style scoped>\n",
       "    .dataframe tbody tr th:only-of-type {\n",
       "        vertical-align: middle;\n",
       "    }\n",
       "\n",
       "    .dataframe tbody tr th {\n",
       "        vertical-align: top;\n",
       "    }\n",
       "\n",
       "    .dataframe thead th {\n",
       "        text-align: right;\n",
       "    }\n",
       "</style>\n",
       "<table border=\"1\" class=\"dataframe\">\n",
       "  <thead>\n",
       "    <tr style=\"text-align: right;\">\n",
       "      <th></th>\n",
       "      <th>lot_size</th>\n",
       "      <th>tax_value</th>\n",
       "      <th>price_per_sqft</th>\n",
       "    </tr>\n",
       "  </thead>\n",
       "  <tbody>\n",
       "    <tr>\n",
       "      <th>53614</th>\n",
       "      <td>6971010.0</td>\n",
       "      <td>234191.0</td>\n",
       "      <td>29.766345</td>\n",
       "    </tr>\n",
       "    <tr>\n",
       "      <th>16575</th>\n",
       "      <td>6971010.0</td>\n",
       "      <td>263500.0</td>\n",
       "      <td>26.455446</td>\n",
       "    </tr>\n",
       "    <tr>\n",
       "      <th>61840</th>\n",
       "      <td>1774617.0</td>\n",
       "      <td>68310.0</td>\n",
       "      <td>25.978876</td>\n",
       "    </tr>\n",
       "    <tr>\n",
       "      <th>30189</th>\n",
       "      <td>6971010.0</td>\n",
       "      <td>295000.0</td>\n",
       "      <td>23.630542</td>\n",
       "    </tr>\n",
       "    <tr>\n",
       "      <th>52759</th>\n",
       "      <td>219917.0</td>\n",
       "      <td>26825.0</td>\n",
       "      <td>8.198211</td>\n",
       "    </tr>\n",
       "  </tbody>\n",
       "</table>\n",
       "</div>"
      ],
      "text/plain": [
       "        lot_size  tax_value  price_per_sqft\n",
       "53614  6971010.0   234191.0       29.766345\n",
       "16575  6971010.0   263500.0       26.455446\n",
       "61840  1774617.0    68310.0       25.978876\n",
       "30189  6971010.0   295000.0       23.630542\n",
       "52759   219917.0    26825.0        8.198211"
      ]
     },
     "execution_count": 33,
     "metadata": {},
     "output_type": "execute_result"
    }
   ],
   "source": [
    "df_la[['lot_size', 'tax_value','price_per_sqft']].sort_values(by=['price_per_sqft'], ascending=False).head()"
   ]
  },
  {
   "cell_type": "markdown",
   "id": "b8e2cc09",
   "metadata": {},
   "source": [
    "#### `Lot_size over 6 million are an error, price per sqft over like 3 I need to look into and I need to check low tax_value homes`"
   ]
  },
  {
   "cell_type": "markdown",
   "id": "82bf819f",
   "metadata": {},
   "source": [
    "#### `in the LA area, anyting over 2.5 price per sqft is an outlier`"
   ]
  },
  {
   "cell_type": "code",
   "execution_count": 34,
   "id": "58e1c702",
   "metadata": {},
   "outputs": [
    {
     "data": {
      "text/plain": [
       "<AxesSubplot:>"
      ]
     },
     "execution_count": 34,
     "metadata": {},
     "output_type": "execute_result"
    },
    {
     "data": {
      "image/png": "[encoded data removed]",
      "text/plain": [
       "<Figure size 432x288 with 1 Axes>"
      ]
     },
     "metadata": {
      "needs_background": "light"
     },
     "output_type": "display_data"
    }
   ],
   "source": [
    "df_la[df_la['price_per_sqft'] <2.5].price_per_sqft.hist()"
   ]
  },
  {
   "cell_type": "code",
   "execution_count": 35,
   "id": "8cd9a713",
   "metadata": {},
   "outputs": [
    {
     "data": {
      "text/plain": [
       "26"
      ]
     },
     "execution_count": 35,
     "metadata": {},
     "output_type": "execute_result"
    }
   ],
   "source": [
    "len(df_la[df_la['price_per_sqft'] >2.5])"
   ]
  },
  {
   "cell_type": "code",
   "execution_count": 36,
   "id": "213e587d",
   "metadata": {},
   "outputs": [
    {
     "data": {
      "text/plain": [
       "29182"
      ]
     },
     "execution_count": 36,
     "metadata": {},
     "output_type": "execute_result"
    }
   ],
   "source": [
    "len(train)"
   ]
  },
  {
   "cell_type": "code",
   "execution_count": 37,
   "id": "ad00a5e0",
   "metadata": {},
   "outputs": [
    {
     "data": {
      "text/plain": [
       "<AxesSubplot:>"
      ]
     },
     "execution_count": 37,
     "metadata": {},
     "output_type": "execute_result"
    },
    {
     "data": {
      "image/png": "[encoded data removed]",
      "text/plain": [
       "<Figure size 432x288 with 1 Axes>"
      ]
     },
     "metadata": {
      "needs_background": "light"
     },
     "output_type": "display_data"
    }
   ],
   "source": [
    "df_la.tax_value.plot.box()"
   ]
  },
  {
   "cell_type": "code",
   "execution_count": 38,
   "id": "a2d8f5a7",
   "metadata": {},
   "outputs": [],
   "source": [
    "# # Dropping extreme outliers \n",
    "# selRows = train[(train['price_per_sqft'] >2.5) & (train['county']=='Los Angeles')].index\n",
    "# train = train.drop(selRows, axis=0)\n",
    "# len(train)"
   ]
  },
  {
   "cell_type": "code",
   "execution_count": 39,
   "id": "4aa38f6c",
   "metadata": {},
   "outputs": [
    {
     "data": {
      "text/html": [
       "<div>\n",
       "<style scoped>\n",
       "    .dataframe tbody tr th:only-of-type {\n",
       "        vertical-align: middle;\n",
       "    }\n",
       "\n",
       "    .dataframe tbody tr th {\n",
       "        vertical-align: top;\n",
       "    }\n",
       "\n",
       "    .dataframe thead th {\n",
       "        text-align: right;\n",
       "    }\n",
       "</style>\n",
       "<table border=\"1\" class=\"dataframe\">\n",
       "  <thead>\n",
       "    <tr style=\"text-align: right;\">\n",
       "      <th></th>\n",
       "      <th>lot_size</th>\n",
       "      <th>tax_value</th>\n",
       "      <th>price_per_sqft</th>\n",
       "      <th>county</th>\n",
       "    </tr>\n",
       "  </thead>\n",
       "  <tbody>\n",
       "    <tr>\n",
       "      <th>30189</th>\n",
       "      <td>6971010.0</td>\n",
       "      <td>295000.0</td>\n",
       "      <td>23.630542</td>\n",
       "      <td>Los Angeles</td>\n",
       "    </tr>\n",
       "    <tr>\n",
       "      <th>16575</th>\n",
       "      <td>6971010.0</td>\n",
       "      <td>263500.0</td>\n",
       "      <td>26.455446</td>\n",
       "      <td>Los Angeles</td>\n",
       "    </tr>\n",
       "    <tr>\n",
       "      <th>53614</th>\n",
       "      <td>6971010.0</td>\n",
       "      <td>234191.0</td>\n",
       "      <td>29.766345</td>\n",
       "      <td>Los Angeles</td>\n",
       "    </tr>\n",
       "    <tr>\n",
       "      <th>63728</th>\n",
       "      <td>2831752.0</td>\n",
       "      <td>727000.0</td>\n",
       "      <td>3.895120</td>\n",
       "      <td>Los Angeles</td>\n",
       "    </tr>\n",
       "    <tr>\n",
       "      <th>68832</th>\n",
       "      <td>2562259.0</td>\n",
       "      <td>1336101.0</td>\n",
       "      <td>1.917714</td>\n",
       "      <td>Los Angeles</td>\n",
       "    </tr>\n",
       "    <tr>\n",
       "      <th>61840</th>\n",
       "      <td>1774617.0</td>\n",
       "      <td>68310.0</td>\n",
       "      <td>25.978876</td>\n",
       "      <td>Los Angeles</td>\n",
       "    </tr>\n",
       "    <tr>\n",
       "      <th>14081</th>\n",
       "      <td>1746019.0</td>\n",
       "      <td>259853.0</td>\n",
       "      <td>6.719257</td>\n",
       "      <td>Los Angeles</td>\n",
       "    </tr>\n",
       "    <tr>\n",
       "      <th>10720</th>\n",
       "      <td>941333.0</td>\n",
       "      <td>164685.0</td>\n",
       "      <td>5.715961</td>\n",
       "      <td>Los Angeles</td>\n",
       "    </tr>\n",
       "    <tr>\n",
       "      <th>26645</th>\n",
       "      <td>872645.0</td>\n",
       "      <td>2284312.0</td>\n",
       "      <td>0.382017</td>\n",
       "      <td>Los Angeles</td>\n",
       "    </tr>\n",
       "    <tr>\n",
       "      <th>31663</th>\n",
       "      <td>872158.0</td>\n",
       "      <td>198127.0</td>\n",
       "      <td>4.402015</td>\n",
       "      <td>Los Angeles</td>\n",
       "    </tr>\n",
       "    <tr>\n",
       "      <th>21361</th>\n",
       "      <td>862329.0</td>\n",
       "      <td>158886.0</td>\n",
       "      <td>5.427344</td>\n",
       "      <td>Los Angeles</td>\n",
       "    </tr>\n",
       "    <tr>\n",
       "      <th>52218</th>\n",
       "      <td>766570.0</td>\n",
       "      <td>509040.0</td>\n",
       "      <td>1.505913</td>\n",
       "      <td>Los Angeles</td>\n",
       "    </tr>\n",
       "    <tr>\n",
       "      <th>66501</th>\n",
       "      <td>672149.0</td>\n",
       "      <td>149515.0</td>\n",
       "      <td>4.495529</td>\n",
       "      <td>Los Angeles</td>\n",
       "    </tr>\n",
       "    <tr>\n",
       "      <th>40078</th>\n",
       "      <td>638766.0</td>\n",
       "      <td>5740519.0</td>\n",
       "      <td>0.111273</td>\n",
       "      <td>Los Angeles</td>\n",
       "    </tr>\n",
       "    <tr>\n",
       "      <th>39603</th>\n",
       "      <td>623746.0</td>\n",
       "      <td>270563.0</td>\n",
       "      <td>2.305363</td>\n",
       "      <td>Los Angeles</td>\n",
       "    </tr>\n",
       "    <tr>\n",
       "      <th>60465</th>\n",
       "      <td>588738.0</td>\n",
       "      <td>169000.0</td>\n",
       "      <td>3.483657</td>\n",
       "      <td>Los Angeles</td>\n",
       "    </tr>\n",
       "    <tr>\n",
       "      <th>5431</th>\n",
       "      <td>588738.0</td>\n",
       "      <td>104607.0</td>\n",
       "      <td>5.628094</td>\n",
       "      <td>Los Angeles</td>\n",
       "    </tr>\n",
       "    <tr>\n",
       "      <th>5520</th>\n",
       "      <td>584555.0</td>\n",
       "      <td>1139087.0</td>\n",
       "      <td>0.513179</td>\n",
       "      <td>Los Angeles</td>\n",
       "    </tr>\n",
       "    <tr>\n",
       "      <th>32591</th>\n",
       "      <td>563294.0</td>\n",
       "      <td>577500.0</td>\n",
       "      <td>0.975401</td>\n",
       "      <td>Los Angeles</td>\n",
       "    </tr>\n",
       "    <tr>\n",
       "      <th>8130</th>\n",
       "      <td>557296.0</td>\n",
       "      <td>216000.0</td>\n",
       "      <td>2.580074</td>\n",
       "      <td>Los Angeles</td>\n",
       "    </tr>\n",
       "    <tr>\n",
       "      <th>18625</th>\n",
       "      <td>529449.0</td>\n",
       "      <td>103000.0</td>\n",
       "      <td>5.140282</td>\n",
       "      <td>Los Angeles</td>\n",
       "    </tr>\n",
       "    <tr>\n",
       "      <th>65484</th>\n",
       "      <td>529449.0</td>\n",
       "      <td>120016.0</td>\n",
       "      <td>4.411487</td>\n",
       "      <td>Los Angeles</td>\n",
       "    </tr>\n",
       "    <tr>\n",
       "      <th>47093</th>\n",
       "      <td>529449.0</td>\n",
       "      <td>86000.0</td>\n",
       "      <td>6.156384</td>\n",
       "      <td>Los Angeles</td>\n",
       "    </tr>\n",
       "    <tr>\n",
       "      <th>52236</th>\n",
       "      <td>497496.0</td>\n",
       "      <td>768402.0</td>\n",
       "      <td>0.647442</td>\n",
       "      <td>Los Angeles</td>\n",
       "    </tr>\n",
       "    <tr>\n",
       "      <th>54611</th>\n",
       "      <td>482209.0</td>\n",
       "      <td>35339.0</td>\n",
       "      <td>13.645236</td>\n",
       "      <td>Ventura</td>\n",
       "    </tr>\n",
       "    <tr>\n",
       "      <th>68036</th>\n",
       "      <td>463656.0</td>\n",
       "      <td>670000.0</td>\n",
       "      <td>0.692024</td>\n",
       "      <td>Los Angeles</td>\n",
       "    </tr>\n",
       "    <tr>\n",
       "      <th>61328</th>\n",
       "      <td>443008.0</td>\n",
       "      <td>255000.0</td>\n",
       "      <td>1.737286</td>\n",
       "      <td>Los Angeles</td>\n",
       "    </tr>\n",
       "    <tr>\n",
       "      <th>16355</th>\n",
       "      <td>443008.0</td>\n",
       "      <td>115000.0</td>\n",
       "      <td>3.852243</td>\n",
       "      <td>Los Angeles</td>\n",
       "    </tr>\n",
       "    <tr>\n",
       "      <th>66078</th>\n",
       "      <td>440392.0</td>\n",
       "      <td>1431291.0</td>\n",
       "      <td>0.307689</td>\n",
       "      <td>Ventura</td>\n",
       "    </tr>\n",
       "    <tr>\n",
       "      <th>27706</th>\n",
       "      <td>439956.0</td>\n",
       "      <td>2919184.0</td>\n",
       "      <td>0.150712</td>\n",
       "      <td>Ventura</td>\n",
       "    </tr>\n",
       "  </tbody>\n",
       "</table>\n",
       "</div>"
      ],
      "text/plain": [
       "        lot_size  tax_value  price_per_sqft       county\n",
       "30189  6971010.0   295000.0       23.630542  Los Angeles\n",
       "16575  6971010.0   263500.0       26.455446  Los Angeles\n",
       "53614  6971010.0   234191.0       29.766345  Los Angeles\n",
       "63728  2831752.0   727000.0        3.895120  Los Angeles\n",
       "68832  2562259.0  1336101.0        1.917714  Los Angeles\n",
       "61840  1774617.0    68310.0       25.978876  Los Angeles\n",
       "14081  1746019.0   259853.0        6.719257  Los Angeles\n",
       "10720   941333.0   164685.0        5.715961  Los Angeles\n",
       "26645   872645.0  2284312.0        0.382017  Los Angeles\n",
       "31663   872158.0   198127.0        4.402015  Los Angeles\n",
       "21361   862329.0   158886.0        5.427344  Los Angeles\n",
       "52218   766570.0   509040.0        1.505913  Los Angeles\n",
       "66501   672149.0   149515.0        4.495529  Los Angeles\n",
       "40078   638766.0  5740519.0        0.111273  Los Angeles\n",
       "39603   623746.0   270563.0        2.305363  Los Angeles\n",
       "60465   588738.0   169000.0        3.483657  Los Angeles\n",
       "5431    588738.0   104607.0        5.628094  Los Angeles\n",
       "5520    584555.0  1139087.0        0.513179  Los Angeles\n",
       "32591   563294.0   577500.0        0.975401  Los Angeles\n",
       "8130    557296.0   216000.0        2.580074  Los Angeles\n",
       "18625   529449.0   103000.0        5.140282  Los Angeles\n",
       "65484   529449.0   120016.0        4.411487  Los Angeles\n",
       "47093   529449.0    86000.0        6.156384  Los Angeles\n",
       "52236   497496.0   768402.0        0.647442  Los Angeles\n",
       "54611   482209.0    35339.0       13.645236      Ventura\n",
       "68036   463656.0   670000.0        0.692024  Los Angeles\n",
       "61328   443008.0   255000.0        1.737286  Los Angeles\n",
       "16355   443008.0   115000.0        3.852243  Los Angeles\n",
       "66078   440392.0  1431291.0        0.307689      Ventura\n",
       "27706   439956.0  2919184.0        0.150712      Ventura"
      ]
     },
     "execution_count": 39,
     "metadata": {},
     "output_type": "execute_result"
    }
   ],
   "source": [
    "train[['lot_size', 'tax_value','price_per_sqft', 'county']].sort_values(by=['lot_size'], ascending=False).head(30)"
   ]
  },
  {
   "cell_type": "code",
   "execution_count": 40,
   "id": "075f1ef7",
   "metadata": {},
   "outputs": [
    {
     "data": {
      "text/plain": [
       "Los Angeles    18790\n",
       "Orange          7958\n",
       "Ventura         2434\n",
       "Name: county, dtype: int64"
      ]
     },
     "execution_count": 40,
     "metadata": {},
     "output_type": "execute_result"
    }
   ],
   "source": [
    "train.county.value_counts()"
   ]
  },
  {
   "cell_type": "markdown",
   "id": "4be2000e",
   "metadata": {},
   "source": [
    "# Orange county "
   ]
  },
  {
   "cell_type": "code",
   "execution_count": 41,
   "id": "10cf79ea",
   "metadata": {},
   "outputs": [
    {
     "data": {
      "text/plain": [
       "<AxesSubplot:>"
      ]
     },
     "execution_count": 41,
     "metadata": {},
     "output_type": "execute_result"
    },
    {
     "data": {
      "image/png": "[encoded data removed]",
      "text/plain": [
       "<Figure size 432x288 with 1 Axes>"
      ]
     },
     "metadata": {
      "needs_background": "light"
     },
     "output_type": "display_data"
    }
   ],
   "source": [
    "df_orange = train[train['county']=='Orange']\n",
    "df_orange['price_per_sqft'].hist()"
   ]
  },
  {
   "cell_type": "code",
   "execution_count": 42,
   "id": "27927635",
   "metadata": {},
   "outputs": [
    {
     "data": {
      "text/plain": [
       "0.012835427733733897"
      ]
     },
     "execution_count": 42,
     "metadata": {},
     "output_type": "execute_result"
    }
   ],
   "source": [
    "df_orange.price_per_sqft.median()"
   ]
  },
  {
   "cell_type": "code",
   "execution_count": 43,
   "id": "11cfab3e",
   "metadata": {},
   "outputs": [
    {
     "data": {
      "text/plain": [
       "7958"
      ]
     },
     "execution_count": 43,
     "metadata": {},
     "output_type": "execute_result"
    }
   ],
   "source": [
    "len(df_orange)"
   ]
  },
  {
   "cell_type": "code",
   "execution_count": 44,
   "id": "f1dc9cd0",
   "metadata": {},
   "outputs": [
    {
     "data": {
      "text/plain": [
       "632"
      ]
     },
     "execution_count": 44,
     "metadata": {},
     "output_type": "execute_result"
    }
   ],
   "source": [
    "len(df_orange[df_orange.price_per_sqft >.08])"
   ]
  },
  {
   "cell_type": "code",
   "execution_count": 45,
   "id": "3404ef61",
   "metadata": {},
   "outputs": [
    {
     "data": {
      "text/html": [
       "<div>\n",
       "<style scoped>\n",
       "    .dataframe tbody tr th:only-of-type {\n",
       "        vertical-align: middle;\n",
       "    }\n",
       "\n",
       "    .dataframe tbody tr th {\n",
       "        vertical-align: top;\n",
       "    }\n",
       "\n",
       "    .dataframe thead th {\n",
       "        text-align: right;\n",
       "    }\n",
       "</style>\n",
       "<table border=\"1\" class=\"dataframe\">\n",
       "  <thead>\n",
       "    <tr style=\"text-align: right;\">\n",
       "      <th></th>\n",
       "      <th>lot_size</th>\n",
       "      <th>tax_value</th>\n",
       "      <th>price_per_sqft</th>\n",
       "    </tr>\n",
       "  </thead>\n",
       "  <tbody>\n",
       "    <tr>\n",
       "      <th>8619</th>\n",
       "      <td>6850.0</td>\n",
       "      <td>14577.0</td>\n",
       "      <td>0.469918</td>\n",
       "    </tr>\n",
       "    <tr>\n",
       "      <th>55224</th>\n",
       "      <td>74052.0</td>\n",
       "      <td>160220.0</td>\n",
       "      <td>0.462189</td>\n",
       "    </tr>\n",
       "    <tr>\n",
       "      <th>15453</th>\n",
       "      <td>32855.0</td>\n",
       "      <td>76353.0</td>\n",
       "      <td>0.430304</td>\n",
       "    </tr>\n",
       "    <tr>\n",
       "      <th>33392</th>\n",
       "      <td>19656.0</td>\n",
       "      <td>48107.0</td>\n",
       "      <td>0.408589</td>\n",
       "    </tr>\n",
       "    <tr>\n",
       "      <th>36966</th>\n",
       "      <td>24002.0</td>\n",
       "      <td>63304.0</td>\n",
       "      <td>0.379155</td>\n",
       "    </tr>\n",
       "  </tbody>\n",
       "</table>\n",
       "</div>"
      ],
      "text/plain": [
       "       lot_size  tax_value  price_per_sqft\n",
       "8619     6850.0    14577.0        0.469918\n",
       "55224   74052.0   160220.0        0.462189\n",
       "15453   32855.0    76353.0        0.430304\n",
       "33392   19656.0    48107.0        0.408589\n",
       "36966   24002.0    63304.0        0.379155"
      ]
     },
     "execution_count": 45,
     "metadata": {},
     "output_type": "execute_result"
    }
   ],
   "source": [
    "df_orange[['lot_size', 'tax_value','price_per_sqft']].sort_values(by=['price_per_sqft'], ascending=False).head()"
   ]
  },
  {
   "cell_type": "code",
   "execution_count": 46,
   "id": "063aacb3",
   "metadata": {},
   "outputs": [
    {
     "data": {
      "text/plain": [
       "<AxesSubplot:>"
      ]
     },
     "execution_count": 46,
     "metadata": {},
     "output_type": "execute_result"
    },
    {
     "data": {
      "image/png": "[encoded data removed]",
      "text/plain": [
       "<Figure size 432x288 with 1 Axes>"
      ]
     },
     "metadata": {
      "needs_background": "light"
     },
     "output_type": "display_data"
    }
   ],
   "source": [
    "df_orange.tax_value.plot.box()"
   ]
  },
  {
   "cell_type": "code",
   "execution_count": 47,
   "id": "3f47cbf3",
   "metadata": {},
   "outputs": [
    {
     "data": {
      "text/plain": [
       "(13817.0, 8020475.0, 598784.3306107062, 476269.0)"
      ]
     },
     "execution_count": 47,
     "metadata": {},
     "output_type": "execute_result"
    }
   ],
   "source": [
    "df_orange.tax_value.min(), df_orange.tax_value.max(), df_orange.tax_value.mean(), df_orange.tax_value.median()"
   ]
  },
  {
   "cell_type": "code",
   "execution_count": 48,
   "id": "198320c9",
   "metadata": {},
   "outputs": [
    {
     "data": {
      "text/plain": [
       "22008"
      ]
     },
     "execution_count": 48,
     "metadata": {},
     "output_type": "execute_result"
    }
   ],
   "source": [
    "# found this record with an 11million dollar value,\n",
    "df_orange.tax_value.idxmax()"
   ]
  },
  {
   "cell_type": "code",
   "execution_count": 49,
   "id": "5d626618",
   "metadata": {
    "scrolled": false
   },
   "outputs": [
    {
     "data": {
      "text/plain": [
       "<AxesSubplot:>"
      ]
     },
     "execution_count": 49,
     "metadata": {},
     "output_type": "execute_result"
    },
    {
     "data": {
      "image/png": "[encoded data removed]",
      "text/plain": [
       "<Figure size 432x288 with 1 Axes>"
      ]
     },
     "metadata": {
      "needs_background": "light"
     },
     "output_type": "display_data"
    }
   ],
   "source": [
    "# Checking to see if there are any typos in the lower end of tax values\n",
    "df_orange[df_orange.tax_value < 100000].tax_value.hist()"
   ]
  },
  {
   "cell_type": "markdown",
   "id": "06d8825d",
   "metadata": {},
   "source": [
    "### `Removing houses in orange county where tax value is less than 55_000"
   ]
  },
  {
   "cell_type": "code",
   "execution_count": 50,
   "id": "46a0fb7f",
   "metadata": {},
   "outputs": [
    {
     "data": {
      "image/png": "[encoded data removed]",
      "text/plain": [
       "<Figure size 432x288 with 1 Axes>"
      ]
     },
     "metadata": {
      "needs_background": "light"
     },
     "output_type": "display_data"
    }
   ],
   "source": [
    "plt = df_orange[df_orange.tax_value < 2500000].tax_value.hist()\n",
    "plt.ticklabel_format(style = 'plain')"
   ]
  },
  {
   "cell_type": "code",
   "execution_count": 51,
   "id": "054eeb63",
   "metadata": {},
   "outputs": [
    {
     "data": {
      "image/png": "[encoded data removed]",
      "text/plain": [
       "<Figure size 432x288 with 1 Axes>"
      ]
     },
     "metadata": {
      "needs_background": "light"
     },
     "output_type": "display_data"
    }
   ],
   "source": [
    "plt = df_orange[df_orange.tax_value > 2500000].tax_value.hist()\n",
    "plt.ticklabel_format(style = 'plain')"
   ]
  },
  {
   "cell_type": "code",
   "execution_count": 52,
   "id": "b60ba1ef",
   "metadata": {},
   "outputs": [
    {
     "data": {
      "text/plain": [
       "984"
      ]
     },
     "execution_count": 52,
     "metadata": {},
     "output_type": "execute_result"
    }
   ],
   "source": [
    "# might want to remove these 981 rows of houses worth more than 1 million.  I'll keep them for now\n",
    "len(df_orange[df_orange.tax_value > 1000000])"
   ]
  },
  {
   "cell_type": "markdown",
   "id": "526b0dc8",
   "metadata": {},
   "source": [
    "# Ventura"
   ]
  },
  {
   "cell_type": "code",
   "execution_count": 53,
   "id": "8963a084",
   "metadata": {},
   "outputs": [
    {
     "data": {
      "text/plain": [
       "Los Angeles    18790\n",
       "Orange          7958\n",
       "Ventura         2434\n",
       "Name: county, dtype: int64"
      ]
     },
     "execution_count": 53,
     "metadata": {},
     "output_type": "execute_result"
    }
   ],
   "source": [
    "train.county.value_counts()"
   ]
  },
  {
   "cell_type": "code",
   "execution_count": 54,
   "id": "9a51f3ce",
   "metadata": {},
   "outputs": [
    {
     "data": {
      "text/plain": [
       "<AxesSubplot:>"
      ]
     },
     "execution_count": 54,
     "metadata": {},
     "output_type": "execute_result"
    },
    {
     "data": {
      "image/png": "[encoded data removed]",
      "text/plain": [
       "<Figure size 432x288 with 1 Axes>"
      ]
     },
     "metadata": {
      "needs_background": "light"
     },
     "output_type": "display_data"
    }
   ],
   "source": [
    "df_ven = train[train['county']=='Ventura']\n",
    "df_ven['price_per_sqft'].hist()"
   ]
  },
  {
   "cell_type": "code",
   "execution_count": 55,
   "id": "d432192f",
   "metadata": {},
   "outputs": [
    {
     "data": {
      "text/plain": [
       "54611    13.645236\n",
       "32996     1.620990\n",
       "50233     0.707508\n",
       "22208     0.687012\n",
       "26969     0.620141\n",
       "27733     0.616518\n",
       "73405     0.562649\n",
       "76350     0.388348\n",
       "52382     0.348451\n",
       "10310     0.332656\n",
       "Name: price_per_sqft, dtype: float64"
      ]
     },
     "execution_count": 55,
     "metadata": {},
     "output_type": "execute_result"
    }
   ],
   "source": [
    "# Looking for typo erros in price per sq ft\n",
    "df_ven['price_per_sqft'].sort_values(ascending=False).head(10)"
   ]
  },
  {
   "cell_type": "code",
   "execution_count": 56,
   "id": "c778a4d1",
   "metadata": {},
   "outputs": [
    {
     "data": {
      "text/html": [
       "<div>\n",
       "<style scoped>\n",
       "    .dataframe tbody tr th:only-of-type {\n",
       "        vertical-align: middle;\n",
       "    }\n",
       "\n",
       "    .dataframe tbody tr th {\n",
       "        vertical-align: top;\n",
       "    }\n",
       "\n",
       "    .dataframe thead th {\n",
       "        text-align: right;\n",
       "    }\n",
       "</style>\n",
       "<table border=\"1\" class=\"dataframe\">\n",
       "  <thead>\n",
       "    <tr style=\"text-align: right;\">\n",
       "      <th></th>\n",
       "      <th>bath</th>\n",
       "      <th>bed</th>\n",
       "      <th>area</th>\n",
       "      <th>lat</th>\n",
       "      <th>long</th>\n",
       "      <th>lot_size</th>\n",
       "      <th>year</th>\n",
       "      <th>tax_value</th>\n",
       "      <th>tax_amount</th>\n",
       "      <th>logerror</th>\n",
       "      <th>heating_type</th>\n",
       "      <th>county</th>\n",
       "      <th>price_per_sqft</th>\n",
       "    </tr>\n",
       "  </thead>\n",
       "  <tbody>\n",
       "    <tr>\n",
       "      <th>22208</th>\n",
       "      <td>2.0</td>\n",
       "      <td>4.0</td>\n",
       "      <td>1215.0</td>\n",
       "      <td>34262160.0</td>\n",
       "      <td>-118921436.0</td>\n",
       "      <td>43560.0</td>\n",
       "      <td>1976.0</td>\n",
       "      <td>63405.0</td>\n",
       "      <td>703.28</td>\n",
       "      <td>-0.104823</td>\n",
       "      <td>Central</td>\n",
       "      <td>Ventura</td>\n",
       "      <td>0.687012</td>\n",
       "    </tr>\n",
       "    <tr>\n",
       "      <th>47574</th>\n",
       "      <td>2.0</td>\n",
       "      <td>4.0</td>\n",
       "      <td>1559.0</td>\n",
       "      <td>34259082.0</td>\n",
       "      <td>-119191161.0</td>\n",
       "      <td>9772.0</td>\n",
       "      <td>1966.0</td>\n",
       "      <td>61005.0</td>\n",
       "      <td>684.06</td>\n",
       "      <td>0.206130</td>\n",
       "      <td>Central</td>\n",
       "      <td>Ventura</td>\n",
       "      <td>0.160184</td>\n",
       "    </tr>\n",
       "    <tr>\n",
       "      <th>62948</th>\n",
       "      <td>1.0</td>\n",
       "      <td>3.0</td>\n",
       "      <td>1143.0</td>\n",
       "      <td>34365301.0</td>\n",
       "      <td>-119055251.0</td>\n",
       "      <td>6000.0</td>\n",
       "      <td>1959.0</td>\n",
       "      <td>37307.0</td>\n",
       "      <td>488.12</td>\n",
       "      <td>0.176272</td>\n",
       "      <td>Central</td>\n",
       "      <td>Ventura</td>\n",
       "      <td>0.160828</td>\n",
       "    </tr>\n",
       "    <tr>\n",
       "      <th>72151</th>\n",
       "      <td>1.0</td>\n",
       "      <td>3.0</td>\n",
       "      <td>1144.0</td>\n",
       "      <td>34341365.0</td>\n",
       "      <td>-119086787.0</td>\n",
       "      <td>8998.0</td>\n",
       "      <td>1952.0</td>\n",
       "      <td>50092.0</td>\n",
       "      <td>579.36</td>\n",
       "      <td>0.124880</td>\n",
       "      <td>Central</td>\n",
       "      <td>Ventura</td>\n",
       "      <td>0.179629</td>\n",
       "    </tr>\n",
       "    <tr>\n",
       "      <th>1002</th>\n",
       "      <td>2.0</td>\n",
       "      <td>4.0</td>\n",
       "      <td>1795.0</td>\n",
       "      <td>34235428.0</td>\n",
       "      <td>-119172609.0</td>\n",
       "      <td>16291.0</td>\n",
       "      <td>1955.0</td>\n",
       "      <td>65437.0</td>\n",
       "      <td>725.90</td>\n",
       "      <td>0.254430</td>\n",
       "      <td>Central</td>\n",
       "      <td>Ventura</td>\n",
       "      <td>0.248957</td>\n",
       "    </tr>\n",
       "    <tr>\n",
       "      <th>...</th>\n",
       "      <td>...</td>\n",
       "      <td>...</td>\n",
       "      <td>...</td>\n",
       "      <td>...</td>\n",
       "      <td>...</td>\n",
       "      <td>...</td>\n",
       "      <td>...</td>\n",
       "      <td>...</td>\n",
       "      <td>...</td>\n",
       "      <td>...</td>\n",
       "      <td>...</td>\n",
       "      <td>...</td>\n",
       "      <td>...</td>\n",
       "    </tr>\n",
       "    <tr>\n",
       "      <th>19861</th>\n",
       "      <td>2.0</td>\n",
       "      <td>4.0</td>\n",
       "      <td>1311.0</td>\n",
       "      <td>34439054.0</td>\n",
       "      <td>-119295678.0</td>\n",
       "      <td>9552.0</td>\n",
       "      <td>1961.0</td>\n",
       "      <td>51677.0</td>\n",
       "      <td>1186.32</td>\n",
       "      <td>0.006837</td>\n",
       "      <td>Central</td>\n",
       "      <td>Ventura</td>\n",
       "      <td>0.184840</td>\n",
       "    </tr>\n",
       "    <tr>\n",
       "      <th>6640</th>\n",
       "      <td>2.0</td>\n",
       "      <td>3.0</td>\n",
       "      <td>1688.0</td>\n",
       "      <td>34222291.0</td>\n",
       "      <td>-118862033.0</td>\n",
       "      <td>21405.0</td>\n",
       "      <td>1961.0</td>\n",
       "      <td>70421.0</td>\n",
       "      <td>772.56</td>\n",
       "      <td>0.041310</td>\n",
       "      <td>Central</td>\n",
       "      <td>Ventura</td>\n",
       "      <td>0.303958</td>\n",
       "    </tr>\n",
       "    <tr>\n",
       "      <th>44380</th>\n",
       "      <td>2.0</td>\n",
       "      <td>3.0</td>\n",
       "      <td>1677.0</td>\n",
       "      <td>34293666.0</td>\n",
       "      <td>-118856116.0</td>\n",
       "      <td>15537.0</td>\n",
       "      <td>1973.0</td>\n",
       "      <td>80024.0</td>\n",
       "      <td>928.82</td>\n",
       "      <td>0.324139</td>\n",
       "      <td>Central</td>\n",
       "      <td>Ventura</td>\n",
       "      <td>0.194154</td>\n",
       "    </tr>\n",
       "    <tr>\n",
       "      <th>50233</th>\n",
       "      <td>0.0</td>\n",
       "      <td>3.0</td>\n",
       "      <td>2684.0</td>\n",
       "      <td>34293459.0</td>\n",
       "      <td>-119055024.0</td>\n",
       "      <td>101059.0</td>\n",
       "      <td>1964.0</td>\n",
       "      <td>142838.0</td>\n",
       "      <td>1563.64</td>\n",
       "      <td>0.083684</td>\n",
       "      <td>Central</td>\n",
       "      <td>Ventura</td>\n",
       "      <td>0.707508</td>\n",
       "    </tr>\n",
       "    <tr>\n",
       "      <th>54611</th>\n",
       "      <td>1.0</td>\n",
       "      <td>2.0</td>\n",
       "      <td>768.0</td>\n",
       "      <td>34260421.0</td>\n",
       "      <td>-118994956.0</td>\n",
       "      <td>482209.0</td>\n",
       "      <td>1971.0</td>\n",
       "      <td>35339.0</td>\n",
       "      <td>484.04</td>\n",
       "      <td>0.055792</td>\n",
       "      <td>Central</td>\n",
       "      <td>Ventura</td>\n",
       "      <td>13.645236</td>\n",
       "    </tr>\n",
       "  </tbody>\n",
       "</table>\n",
       "<p>71 rows × 13 columns</p>\n",
       "</div>"
      ],
      "text/plain": [
       "       bath  bed    area         lat         long  lot_size    year  \\\n",
       "22208   2.0  4.0  1215.0  34262160.0 -118921436.0   43560.0  1976.0   \n",
       "47574   2.0  4.0  1559.0  34259082.0 -119191161.0    9772.0  1966.0   \n",
       "62948   1.0  3.0  1143.0  34365301.0 -119055251.0    6000.0  1959.0   \n",
       "72151   1.0  3.0  1144.0  34341365.0 -119086787.0    8998.0  1952.0   \n",
       "1002    2.0  4.0  1795.0  34235428.0 -119172609.0   16291.0  1955.0   \n",
       "...     ...  ...     ...         ...          ...       ...     ...   \n",
       "19861   2.0  4.0  1311.0  34439054.0 -119295678.0    9552.0  1961.0   \n",
       "6640    2.0  3.0  1688.0  34222291.0 -118862033.0   21405.0  1961.0   \n",
       "44380   2.0  3.0  1677.0  34293666.0 -118856116.0   15537.0  1973.0   \n",
       "50233   0.0  3.0  2684.0  34293459.0 -119055024.0  101059.0  1964.0   \n",
       "54611   1.0  2.0   768.0  34260421.0 -118994956.0  482209.0  1971.0   \n",
       "\n",
       "       tax_value  tax_amount  logerror heating_type   county  price_per_sqft  \n",
       "22208    63405.0      703.28 -0.104823      Central  Ventura        0.687012  \n",
       "47574    61005.0      684.06  0.206130      Central  Ventura        0.160184  \n",
       "62948    37307.0      488.12  0.176272      Central  Ventura        0.160828  \n",
       "72151    50092.0      579.36  0.124880      Central  Ventura        0.179629  \n",
       "1002     65437.0      725.90  0.254430      Central  Ventura        0.248957  \n",
       "...          ...         ...       ...          ...      ...             ...  \n",
       "19861    51677.0     1186.32  0.006837      Central  Ventura        0.184840  \n",
       "6640     70421.0      772.56  0.041310      Central  Ventura        0.303958  \n",
       "44380    80024.0      928.82  0.324139      Central  Ventura        0.194154  \n",
       "50233   142838.0     1563.64  0.083684      Central  Ventura        0.707508  \n",
       "54611    35339.0      484.04  0.055792      Central  Ventura       13.645236  \n",
       "\n",
       "[71 rows x 13 columns]"
      ]
     },
     "execution_count": 56,
     "metadata": {},
     "output_type": "execute_result"
    }
   ],
   "source": [
    "df_ven[df_ven['price_per_sqft'] > .16]"
   ]
  },
  {
   "cell_type": "markdown",
   "id": "3050fd76",
   "metadata": {},
   "source": [
    "#### `Removing price_per_sqt > .16 for ventura`"
   ]
  },
  {
   "cell_type": "code",
   "execution_count": 57,
   "id": "8d537ef4",
   "metadata": {},
   "outputs": [
    {
     "data": {
      "text/plain": [
       "61"
      ]
     },
     "execution_count": 57,
     "metadata": {},
     "output_type": "execute_result"
    }
   ],
   "source": [
    "len(df_ven[df_ven.tax_value < 55000].tax_value)"
   ]
  },
  {
   "cell_type": "code",
   "execution_count": 58,
   "id": "92b0ebda",
   "metadata": {},
   "outputs": [
    {
     "data": {
      "text/plain": [
       "<AxesSubplot:>"
      ]
     },
     "execution_count": 58,
     "metadata": {},
     "output_type": "execute_result"
    },
    {
     "data": {
      "image/png": "[encoded data removed]",
      "text/plain": [
       "<Figure size 432x288 with 1 Axes>"
      ]
     },
     "metadata": {
      "needs_background": "light"
     },
     "output_type": "display_data"
    }
   ],
   "source": [
    "df_ven[df_ven.tax_value < 100000].tax_value.hist()"
   ]
  },
  {
   "cell_type": "markdown",
   "id": "5060608b",
   "metadata": {},
   "source": [
    "#### `Drop ven tax value < 55_000`"
   ]
  },
  {
   "cell_type": "code",
   "execution_count": 59,
   "id": "84f0e2ca",
   "metadata": {},
   "outputs": [
    {
     "data": {
      "image/png": "[encoded data removed]",
      "text/plain": [
       "<Figure size 432x288 with 1 Axes>"
      ]
     },
     "metadata": {
      "needs_background": "light"
     },
     "output_type": "display_data"
    }
   ],
   "source": [
    "plt = df_ven.lot_size.hist()\n",
    "plt.ticklabel_format(style = 'plain')"
   ]
  },
  {
   "cell_type": "code",
   "execution_count": 60,
   "id": "6d041b81",
   "metadata": {},
   "outputs": [
    {
     "data": {
      "text/html": [
       "<div>\n",
       "<style scoped>\n",
       "    .dataframe tbody tr th:only-of-type {\n",
       "        vertical-align: middle;\n",
       "    }\n",
       "\n",
       "    .dataframe tbody tr th {\n",
       "        vertical-align: top;\n",
       "    }\n",
       "\n",
       "    .dataframe thead th {\n",
       "        text-align: right;\n",
       "    }\n",
       "</style>\n",
       "<table border=\"1\" class=\"dataframe\">\n",
       "  <thead>\n",
       "    <tr style=\"text-align: right;\">\n",
       "      <th></th>\n",
       "      <th>bath</th>\n",
       "      <th>bed</th>\n",
       "      <th>area</th>\n",
       "      <th>lat</th>\n",
       "      <th>long</th>\n",
       "      <th>lot_size</th>\n",
       "      <th>year</th>\n",
       "      <th>tax_value</th>\n",
       "      <th>tax_amount</th>\n",
       "      <th>logerror</th>\n",
       "      <th>heating_type</th>\n",
       "      <th>county</th>\n",
       "      <th>price_per_sqft</th>\n",
       "    </tr>\n",
       "  </thead>\n",
       "  <tbody>\n",
       "    <tr>\n",
       "      <th>8535</th>\n",
       "      <td>2.0</td>\n",
       "      <td>2.0</td>\n",
       "      <td>961.0</td>\n",
       "      <td>34220057.0</td>\n",
       "      <td>-118993652.0</td>\n",
       "      <td>1584.0</td>\n",
       "      <td>1977.0</td>\n",
       "      <td>305998.0</td>\n",
       "      <td>3297.86</td>\n",
       "      <td>0.050132</td>\n",
       "      <td>Central</td>\n",
       "      <td>Ventura</td>\n",
       "      <td>0.005177</td>\n",
       "    </tr>\n",
       "    <tr>\n",
       "      <th>67001</th>\n",
       "      <td>3.0</td>\n",
       "      <td>3.0</td>\n",
       "      <td>2465.0</td>\n",
       "      <td>34262193.0</td>\n",
       "      <td>-118727145.0</td>\n",
       "      <td>236.0</td>\n",
       "      <td>2001.0</td>\n",
       "      <td>536798.0</td>\n",
       "      <td>6141.94</td>\n",
       "      <td>-0.061405</td>\n",
       "      <td>Central</td>\n",
       "      <td>Ventura</td>\n",
       "      <td>0.000440</td>\n",
       "    </tr>\n",
       "  </tbody>\n",
       "</table>\n",
       "</div>"
      ],
      "text/plain": [
       "       bath  bed    area         lat         long  lot_size    year  \\\n",
       "8535    2.0  2.0   961.0  34220057.0 -118993652.0    1584.0  1977.0   \n",
       "67001   3.0  3.0  2465.0  34262193.0 -118727145.0     236.0  2001.0   \n",
       "\n",
       "       tax_value  tax_amount  logerror heating_type   county  price_per_sqft  \n",
       "8535    305998.0     3297.86  0.050132      Central  Ventura        0.005177  \n",
       "67001   536798.0     6141.94 -0.061405      Central  Ventura        0.000440  "
      ]
     },
     "execution_count": 60,
     "metadata": {},
     "output_type": "execute_result"
    }
   ],
   "source": [
    "# checking small lots sizes.  Here is a group of houses built in the 70's price per sqft matches, keeping all these values\n",
    "df_ven[df_ven['lot_size'] < 1_700]"
   ]
  },
  {
   "cell_type": "code",
   "execution_count": 61,
   "id": "c1e77ba5",
   "metadata": {},
   "outputs": [
    {
     "data": {
      "text/html": [
       "<div>\n",
       "<style scoped>\n",
       "    .dataframe tbody tr th:only-of-type {\n",
       "        vertical-align: middle;\n",
       "    }\n",
       "\n",
       "    .dataframe tbody tr th {\n",
       "        vertical-align: top;\n",
       "    }\n",
       "\n",
       "    .dataframe thead th {\n",
       "        text-align: right;\n",
       "    }\n",
       "</style>\n",
       "<table border=\"1\" class=\"dataframe\">\n",
       "  <thead>\n",
       "    <tr style=\"text-align: right;\">\n",
       "      <th></th>\n",
       "      <th>bath</th>\n",
       "      <th>bed</th>\n",
       "      <th>area</th>\n",
       "      <th>lat</th>\n",
       "      <th>long</th>\n",
       "      <th>lot_size</th>\n",
       "      <th>year</th>\n",
       "      <th>tax_value</th>\n",
       "      <th>tax_amount</th>\n",
       "      <th>logerror</th>\n",
       "      <th>heating_type</th>\n",
       "      <th>county</th>\n",
       "      <th>price_per_sqft</th>\n",
       "    </tr>\n",
       "  </thead>\n",
       "  <tbody>\n",
       "    <tr>\n",
       "      <th>10310</th>\n",
       "      <td>2.0</td>\n",
       "      <td>4.0</td>\n",
       "      <td>2034.0</td>\n",
       "      <td>34295524.0</td>\n",
       "      <td>-118960502.0</td>\n",
       "      <td>292072.0</td>\n",
       "      <td>1936.0</td>\n",
       "      <td>878000.0</td>\n",
       "      <td>9557.48</td>\n",
       "      <td>-0.025770</td>\n",
       "      <td>Central</td>\n",
       "      <td>Ventura</td>\n",
       "      <td>0.332656</td>\n",
       "    </tr>\n",
       "    <tr>\n",
       "      <th>29993</th>\n",
       "      <td>3.5</td>\n",
       "      <td>4.0</td>\n",
       "      <td>4464.0</td>\n",
       "      <td>34252739.0</td>\n",
       "      <td>-118920081.0</td>\n",
       "      <td>287496.0</td>\n",
       "      <td>1992.0</td>\n",
       "      <td>1406936.0</td>\n",
       "      <td>15162.14</td>\n",
       "      <td>-0.009336</td>\n",
       "      <td>Central</td>\n",
       "      <td>Ventura</td>\n",
       "      <td>0.204342</td>\n",
       "    </tr>\n",
       "    <tr>\n",
       "      <th>27706</th>\n",
       "      <td>5.5</td>\n",
       "      <td>4.0</td>\n",
       "      <td>6864.0</td>\n",
       "      <td>34169761.0</td>\n",
       "      <td>-118804429.0</td>\n",
       "      <td>439956.0</td>\n",
       "      <td>2003.0</td>\n",
       "      <td>2919184.0</td>\n",
       "      <td>31640.58</td>\n",
       "      <td>-0.042657</td>\n",
       "      <td>Central</td>\n",
       "      <td>Ventura</td>\n",
       "      <td>0.150712</td>\n",
       "    </tr>\n",
       "    <tr>\n",
       "      <th>66078</th>\n",
       "      <td>6.5</td>\n",
       "      <td>5.0</td>\n",
       "      <td>6743.0</td>\n",
       "      <td>34251742.0</td>\n",
       "      <td>-118871155.0</td>\n",
       "      <td>440392.0</td>\n",
       "      <td>1996.0</td>\n",
       "      <td>1431291.0</td>\n",
       "      <td>15358.20</td>\n",
       "      <td>-0.043156</td>\n",
       "      <td>Central</td>\n",
       "      <td>Ventura</td>\n",
       "      <td>0.307689</td>\n",
       "    </tr>\n",
       "    <tr>\n",
       "      <th>24644</th>\n",
       "      <td>2.5</td>\n",
       "      <td>4.0</td>\n",
       "      <td>3379.0</td>\n",
       "      <td>34254240.0</td>\n",
       "      <td>-118915588.0</td>\n",
       "      <td>360560.0</td>\n",
       "      <td>1988.0</td>\n",
       "      <td>1232000.0</td>\n",
       "      <td>13334.14</td>\n",
       "      <td>0.134393</td>\n",
       "      <td>Central</td>\n",
       "      <td>Ventura</td>\n",
       "      <td>0.292662</td>\n",
       "    </tr>\n",
       "    <tr>\n",
       "      <th>59114</th>\n",
       "      <td>4.5</td>\n",
       "      <td>5.0</td>\n",
       "      <td>1120.0</td>\n",
       "      <td>34103059.0</td>\n",
       "      <td>-118943081.0</td>\n",
       "      <td>390733.0</td>\n",
       "      <td>2004.0</td>\n",
       "      <td>1461048.0</td>\n",
       "      <td>15893.18</td>\n",
       "      <td>0.339257</td>\n",
       "      <td>Central</td>\n",
       "      <td>Ventura</td>\n",
       "      <td>0.267433</td>\n",
       "    </tr>\n",
       "    <tr>\n",
       "      <th>54611</th>\n",
       "      <td>1.0</td>\n",
       "      <td>2.0</td>\n",
       "      <td>768.0</td>\n",
       "      <td>34260421.0</td>\n",
       "      <td>-118994956.0</td>\n",
       "      <td>482209.0</td>\n",
       "      <td>1971.0</td>\n",
       "      <td>35339.0</td>\n",
       "      <td>484.04</td>\n",
       "      <td>0.055792</td>\n",
       "      <td>Central</td>\n",
       "      <td>Ventura</td>\n",
       "      <td>13.645236</td>\n",
       "    </tr>\n",
       "  </tbody>\n",
       "</table>\n",
       "</div>"
      ],
      "text/plain": [
       "       bath  bed    area         lat         long  lot_size    year  \\\n",
       "10310   2.0  4.0  2034.0  34295524.0 -118960502.0  292072.0  1936.0   \n",
       "29993   3.5  4.0  4464.0  34252739.0 -118920081.0  287496.0  1992.0   \n",
       "27706   5.5  4.0  6864.0  34169761.0 -118804429.0  439956.0  2003.0   \n",
       "66078   6.5  5.0  6743.0  34251742.0 -118871155.0  440392.0  1996.0   \n",
       "24644   2.5  4.0  3379.0  34254240.0 -118915588.0  360560.0  1988.0   \n",
       "59114   4.5  5.0  1120.0  34103059.0 -118943081.0  390733.0  2004.0   \n",
       "54611   1.0  2.0   768.0  34260421.0 -118994956.0  482209.0  1971.0   \n",
       "\n",
       "       tax_value  tax_amount  logerror heating_type   county  price_per_sqft  \n",
       "10310   878000.0     9557.48 -0.025770      Central  Ventura        0.332656  \n",
       "29993  1406936.0    15162.14 -0.009336      Central  Ventura        0.204342  \n",
       "27706  2919184.0    31640.58 -0.042657      Central  Ventura        0.150712  \n",
       "66078  1431291.0    15358.20 -0.043156      Central  Ventura        0.307689  \n",
       "24644  1232000.0    13334.14  0.134393      Central  Ventura        0.292662  \n",
       "59114  1461048.0    15893.18  0.339257      Central  Ventura        0.267433  \n",
       "54611    35339.0      484.04  0.055792      Central  Ventura       13.645236  "
      ]
     },
     "execution_count": 61,
     "metadata": {},
     "output_type": "execute_result"
    }
   ],
   "source": [
    "# checking ventura lot_size\n",
    "\n",
    "df_ven[df_ven['lot_size'] > 250_000] "
   ]
  },
  {
   "cell_type": "code",
   "execution_count": 62,
   "id": "76f8fe71",
   "metadata": {},
   "outputs": [],
   "source": [
    "# Checking ventura tax value"
   ]
  },
  {
   "cell_type": "code",
   "execution_count": 63,
   "id": "77a060ed",
   "metadata": {},
   "outputs": [
    {
     "data": {
      "text/html": [
       "<div>\n",
       "<style scoped>\n",
       "    .dataframe tbody tr th:only-of-type {\n",
       "        vertical-align: middle;\n",
       "    }\n",
       "\n",
       "    .dataframe tbody tr th {\n",
       "        vertical-align: top;\n",
       "    }\n",
       "\n",
       "    .dataframe thead th {\n",
       "        text-align: right;\n",
       "    }\n",
       "</style>\n",
       "<table border=\"1\" class=\"dataframe\">\n",
       "  <thead>\n",
       "    <tr style=\"text-align: right;\">\n",
       "      <th></th>\n",
       "      <th>bath</th>\n",
       "      <th>bed</th>\n",
       "      <th>area</th>\n",
       "      <th>lat</th>\n",
       "      <th>long</th>\n",
       "      <th>lot_size</th>\n",
       "      <th>year</th>\n",
       "      <th>tax_value</th>\n",
       "      <th>tax_amount</th>\n",
       "      <th>logerror</th>\n",
       "      <th>heating_type</th>\n",
       "      <th>county</th>\n",
       "      <th>price_per_sqft</th>\n",
       "    </tr>\n",
       "  </thead>\n",
       "  <tbody>\n",
       "    <tr>\n",
       "      <th>27141</th>\n",
       "      <td>7.5</td>\n",
       "      <td>5.0</td>\n",
       "      <td>8531.0</td>\n",
       "      <td>34126136.0</td>\n",
       "      <td>-118880549.0</td>\n",
       "      <td>27098.0</td>\n",
       "      <td>2000.0</td>\n",
       "      <td>4112590.0</td>\n",
       "      <td>43858.62</td>\n",
       "      <td>0.095418</td>\n",
       "      <td>Central</td>\n",
       "      <td>Ventura</td>\n",
       "      <td>0.006589</td>\n",
       "    </tr>\n",
       "    <tr>\n",
       "      <th>70928</th>\n",
       "      <td>6.5</td>\n",
       "      <td>6.0</td>\n",
       "      <td>9660.0</td>\n",
       "      <td>34181495.0</td>\n",
       "      <td>-118804362.0</td>\n",
       "      <td>59242.0</td>\n",
       "      <td>1993.0</td>\n",
       "      <td>4732000.0</td>\n",
       "      <td>50548.12</td>\n",
       "      <td>0.114581</td>\n",
       "      <td>Central</td>\n",
       "      <td>Ventura</td>\n",
       "      <td>0.012519</td>\n",
       "    </tr>\n",
       "    <tr>\n",
       "      <th>59423</th>\n",
       "      <td>4.5</td>\n",
       "      <td>4.0</td>\n",
       "      <td>5590.0</td>\n",
       "      <td>34127225.0</td>\n",
       "      <td>-118881865.0</td>\n",
       "      <td>21901.0</td>\n",
       "      <td>2004.0</td>\n",
       "      <td>3547427.0</td>\n",
       "      <td>37840.00</td>\n",
       "      <td>0.069362</td>\n",
       "      <td>Central</td>\n",
       "      <td>Ventura</td>\n",
       "      <td>0.006174</td>\n",
       "    </tr>\n",
       "  </tbody>\n",
       "</table>\n",
       "</div>"
      ],
      "text/plain": [
       "       bath  bed    area         lat         long  lot_size    year  \\\n",
       "27141   7.5  5.0  8531.0  34126136.0 -118880549.0   27098.0  2000.0   \n",
       "70928   6.5  6.0  9660.0  34181495.0 -118804362.0   59242.0  1993.0   \n",
       "59423   4.5  4.0  5590.0  34127225.0 -118881865.0   21901.0  2004.0   \n",
       "\n",
       "       tax_value  tax_amount  logerror heating_type   county  price_per_sqft  \n",
       "27141  4112590.0    43858.62  0.095418      Central  Ventura        0.006589  \n",
       "70928  4732000.0    50548.12  0.114581      Central  Ventura        0.012519  \n",
       "59423  3547427.0    37840.00  0.069362      Central  Ventura        0.006174  "
      ]
     },
     "execution_count": 63,
     "metadata": {},
     "output_type": "execute_result"
    }
   ],
   "source": [
    "# Checking ventura tax value\n",
    "df_ven[df_ven['tax_value'] > 3_500_000]"
   ]
  },
  {
   "cell_type": "code",
   "execution_count": 64,
   "id": "2988de92",
   "metadata": {},
   "outputs": [],
   "source": [
    "# checking ventura price per sqft on smaller ends"
   ]
  },
  {
   "cell_type": "code",
   "execution_count": 65,
   "id": "e4a9efac",
   "metadata": {},
   "outputs": [
    {
     "data": {
      "text/html": [
       "<div>\n",
       "<style scoped>\n",
       "    .dataframe tbody tr th:only-of-type {\n",
       "        vertical-align: middle;\n",
       "    }\n",
       "\n",
       "    .dataframe tbody tr th {\n",
       "        vertical-align: top;\n",
       "    }\n",
       "\n",
       "    .dataframe thead th {\n",
       "        text-align: right;\n",
       "    }\n",
       "</style>\n",
       "<table border=\"1\" class=\"dataframe\">\n",
       "  <thead>\n",
       "    <tr style=\"text-align: right;\">\n",
       "      <th></th>\n",
       "      <th>bath</th>\n",
       "      <th>bed</th>\n",
       "      <th>area</th>\n",
       "      <th>lat</th>\n",
       "      <th>long</th>\n",
       "      <th>lot_size</th>\n",
       "      <th>year</th>\n",
       "      <th>tax_value</th>\n",
       "      <th>tax_amount</th>\n",
       "      <th>logerror</th>\n",
       "      <th>heating_type</th>\n",
       "      <th>county</th>\n",
       "      <th>price_per_sqft</th>\n",
       "    </tr>\n",
       "  </thead>\n",
       "  <tbody>\n",
       "    <tr>\n",
       "      <th>56002</th>\n",
       "      <td>2.0</td>\n",
       "      <td>3.0</td>\n",
       "      <td>1905.0</td>\n",
       "      <td>34150577.0</td>\n",
       "      <td>-119215138.0</td>\n",
       "      <td>2450.0</td>\n",
       "      <td>1952.0</td>\n",
       "      <td>811184.0</td>\n",
       "      <td>9067.58</td>\n",
       "      <td>0.001150</td>\n",
       "      <td>Central</td>\n",
       "      <td>Ventura</td>\n",
       "      <td>0.003020</td>\n",
       "    </tr>\n",
       "    <tr>\n",
       "      <th>72781</th>\n",
       "      <td>3.0</td>\n",
       "      <td>3.0</td>\n",
       "      <td>2770.0</td>\n",
       "      <td>34173045.0</td>\n",
       "      <td>-119232570.0</td>\n",
       "      <td>2450.0</td>\n",
       "      <td>2003.0</td>\n",
       "      <td>728342.0</td>\n",
       "      <td>8145.30</td>\n",
       "      <td>0.048526</td>\n",
       "      <td>Central</td>\n",
       "      <td>Ventura</td>\n",
       "      <td>0.003364</td>\n",
       "    </tr>\n",
       "    <tr>\n",
       "      <th>24307</th>\n",
       "      <td>3.0</td>\n",
       "      <td>6.0</td>\n",
       "      <td>2954.0</td>\n",
       "      <td>34257505.0</td>\n",
       "      <td>-119265149.0</td>\n",
       "      <td>4500.0</td>\n",
       "      <td>1965.0</td>\n",
       "      <td>1435521.0</td>\n",
       "      <td>15056.66</td>\n",
       "      <td>-0.037251</td>\n",
       "      <td>Central</td>\n",
       "      <td>Ventura</td>\n",
       "      <td>0.003135</td>\n",
       "    </tr>\n",
       "    <tr>\n",
       "      <th>7802</th>\n",
       "      <td>3.0</td>\n",
       "      <td>3.0</td>\n",
       "      <td>2178.0</td>\n",
       "      <td>34173169.0</td>\n",
       "      <td>-119233354.0</td>\n",
       "      <td>2625.0</td>\n",
       "      <td>1988.0</td>\n",
       "      <td>1893224.0</td>\n",
       "      <td>21315.70</td>\n",
       "      <td>-0.167552</td>\n",
       "      <td>Central</td>\n",
       "      <td>Ventura</td>\n",
       "      <td>0.001387</td>\n",
       "    </tr>\n",
       "    <tr>\n",
       "      <th>32931</th>\n",
       "      <td>2.5</td>\n",
       "      <td>3.0</td>\n",
       "      <td>2547.0</td>\n",
       "      <td>34161488.0</td>\n",
       "      <td>-119225434.0</td>\n",
       "      <td>2183.0</td>\n",
       "      <td>2001.0</td>\n",
       "      <td>1221866.0</td>\n",
       "      <td>13762.34</td>\n",
       "      <td>0.409077</td>\n",
       "      <td>Central</td>\n",
       "      <td>Ventura</td>\n",
       "      <td>0.001787</td>\n",
       "    </tr>\n",
       "  </tbody>\n",
       "</table>\n",
       "</div>"
      ],
      "text/plain": [
       "       bath  bed    area         lat         long  lot_size    year  \\\n",
       "56002   2.0  3.0  1905.0  34150577.0 -119215138.0    2450.0  1952.0   \n",
       "72781   3.0  3.0  2770.0  34173045.0 -119232570.0    2450.0  2003.0   \n",
       "24307   3.0  6.0  2954.0  34257505.0 -119265149.0    4500.0  1965.0   \n",
       "7802    3.0  3.0  2178.0  34173169.0 -119233354.0    2625.0  1988.0   \n",
       "32931   2.5  3.0  2547.0  34161488.0 -119225434.0    2183.0  2001.0   \n",
       "\n",
       "       tax_value  tax_amount  logerror heating_type   county  price_per_sqft  \n",
       "56002   811184.0     9067.58  0.001150      Central  Ventura        0.003020  \n",
       "72781   728342.0     8145.30  0.048526      Central  Ventura        0.003364  \n",
       "24307  1435521.0    15056.66 -0.037251      Central  Ventura        0.003135  \n",
       "7802   1893224.0    21315.70 -0.167552      Central  Ventura        0.001387  \n",
       "32931  1221866.0    13762.34  0.409077      Central  Ventura        0.001787  "
      ]
     },
     "execution_count": 65,
     "metadata": {},
     "output_type": "execute_result"
    }
   ],
   "source": [
    "df_ven[df_ven['price_per_sqft'] < .0035].head()"
   ]
  },
  {
   "cell_type": "code",
   "execution_count": 66,
   "id": "3c0f169b",
   "metadata": {},
   "outputs": [
    {
     "name": "stdout",
     "output_type": "stream",
     "text": [
      "<class 'pandas.core.frame.DataFrame'>\n",
      "Int64Index: 29182 entries, 47145 to 43370\n",
      "Data columns (total 13 columns):\n",
      " #   Column          Non-Null Count  Dtype  \n",
      "---  ------          --------------  -----  \n",
      " 0   bath            29182 non-null  float64\n",
      " 1   bed             29182 non-null  float64\n",
      " 2   area            29182 non-null  float64\n",
      " 3   lat             29182 non-null  float64\n",
      " 4   long            29182 non-null  float64\n",
      " 5   lot_size        29182 non-null  float64\n",
      " 6   year            29182 non-null  float64\n",
      " 7   tax_value       29182 non-null  float64\n",
      " 8   tax_amount      29182 non-null  float64\n",
      " 9   logerror        29182 non-null  float64\n",
      " 10  heating_type    29182 non-null  object \n",
      " 11  county          29182 non-null  object \n",
      " 12  price_per_sqft  29182 non-null  float64\n",
      "dtypes: float64(11), object(2)\n",
      "memory usage: 3.1+ MB\n"
     ]
    }
   ],
   "source": [
    "train.info()"
   ]
  },
  {
   "cell_type": "markdown",
   "id": "037b6db1",
   "metadata": {},
   "source": [
    "# Explore by county Take aways"
   ]
  },
  {
   "cell_type": "markdown",
   "id": "4c2919d3",
   "metadata": {},
   "source": [
    "### Ventura \n",
    "\n",
    "- Removing Ventura lots_size > than 250_000\n",
    "- Leaving Ventura lots_size on the smaller ends \n",
    "\n",
    "- Leaving Ventura Tax Value on the higher ends\n",
    "- Removing Ventura Tax Value < 55_000\n",
    "\n",
    "- Removing Ventura price_per_sqft > .16\n",
    "- Leaving Ventura price_per_sqft on the lower ends \n",
    "\n",
    "### Orange county\n",
    "\n",
    "- Removing Orange County lot_size >\n",
    "- Removing Orange County lot_size <\n",
    "\n",
    "- Removing Orange County tax_value > 2_000_000\n",
    "- Removing Orange County tax_value < 55_000\n",
    "\n",
    "- Removing Orange County price_per_sqft > .08\n",
    "- Leaving Orange County price_per_sqft  on the lower ends\n",
    "\n",
    "### LA\n",
    "\n",
    "- Removing LA lot_size >\n",
    "- Removing LA lot_size <\n",
    "\n",
    "- Removing LA tax_value >\n",
    "- Removing LA tax_value <\n",
    "\n",
    "- Removing LA price_per_sqft > 2.5\n",
    "- Removing LA price_per_sqft < "
   ]
  },
  {
   "cell_type": "code",
   "execution_count": 67,
   "id": "9b490c1d",
   "metadata": {},
   "outputs": [],
   "source": [
    "# #Ventura\n",
    "# selRows = train[(train['lot_size'] > 250_000) & (train['county']=='Ventura')].index\n",
    "# train = train.drop(selRows, axis=0)\n",
    "\n",
    "# selRows = train[(train['tax_value'] < 55_000) & (train['county']=='Ventura')].index\n",
    "# train = train.drop(selRows, axis=0)\n",
    "\n",
    "# selRows = train[(train['price_per_sqft'] > .16) & (train['county']=='Ventura')].index\n",
    "# train = train.drop(selRows, axis=0)"
   ]
  },
  {
   "cell_type": "code",
   "execution_count": 68,
   "id": "f9b29824",
   "metadata": {},
   "outputs": [],
   "source": [
    "# #Orange County\n",
    "# selRows = train[(train['tax_value'] > 2_000_000) & (train['county']=='Orange')].index           \n",
    "# train = train.drop(selRows, axis=0)\n",
    "\n",
    "# selRows = train[(train['tax_value'] < 55_000) & (train['county']=='Orange')].index           \n",
    "# train = train.drop(selRows, axis=0)\n",
    "\n",
    "# selRows = train[(train['price_per_sqft'] > .08) & (train['county']=='Orange')].index           \n",
    "# train = train.drop(selRows, axis=0)"
   ]
  },
  {
   "cell_type": "markdown",
   "id": "4c96a782",
   "metadata": {},
   "source": [
    "# Hypothesis Testing"
   ]
  },
  {
   "cell_type": "code",
   "execution_count": 69,
   "id": "e08039dc",
   "metadata": {},
   "outputs": [],
   "source": [
    "alpha = .05"
   ]
  },
  {
   "cell_type": "markdown",
   "id": "75fbd53f",
   "metadata": {},
   "source": [
    "State Hypotheses**\n",
    "\n",
    "$H_{0}$: population means of the price per square feet for the three counties, Orange, Ventura & Los Angeles, are all equal.  \n",
    "\n",
    "$H_{a}$: population means of the price per square feet for the three counties, Orange, Ventura & Los Angeles, are NOT all equal. "
   ]
  },
  {
   "cell_type": "markdown",
   "id": "824ad6cd",
   "metadata": {},
   "source": [
    "### Checking distributions"
   ]
  },
  {
   "cell_type": "code",
   "execution_count": 70,
   "id": "15d9145a",
   "metadata": {},
   "outputs": [
    {
     "data": {
      "text/plain": [
       "<AxesSubplot:>"
      ]
     },
     "execution_count": 70,
     "metadata": {},
     "output_type": "execute_result"
    },
    {
     "data": {
      "image/png": "[encoded data removed]",
      "text/plain": [
       "<Figure size 432x288 with 1 Axes>"
      ]
     },
     "metadata": {
      "needs_background": "light"
     },
     "output_type": "display_data"
    }
   ],
   "source": [
    "train[train['county']=='Orange'].price_per_sqft.hist()"
   ]
  },
  {
   "cell_type": "code",
   "execution_count": 71,
   "id": "d563b6b1",
   "metadata": {},
   "outputs": [
    {
     "data": {
      "text/plain": [
       "<AxesSubplot:>"
      ]
     },
     "execution_count": 71,
     "metadata": {},
     "output_type": "execute_result"
    },
    {
     "data": {
      "image/png": "[encoded data removed]",
      "text/plain": [
       "<Figure size 432x288 with 1 Axes>"
      ]
     },
     "metadata": {
      "needs_background": "light"
     },
     "output_type": "display_data"
    }
   ],
   "source": [
    "train[train['county']=='Ventura'].price_per_sqft.hist()"
   ]
  },
  {
   "cell_type": "code",
   "execution_count": 72,
   "id": "42d6f315",
   "metadata": {},
   "outputs": [
    {
     "data": {
      "text/plain": [
       "<AxesSubplot:>"
      ]
     },
     "execution_count": 72,
     "metadata": {},
     "output_type": "execute_result"
    },
    {
     "data": {
      "image/png": "[encoded data removed]",
      "text/plain": [
       "<Figure size 432x288 with 1 Axes>"
      ]
     },
     "metadata": {
      "needs_background": "light"
     },
     "output_type": "display_data"
    }
   ],
   "source": [
    "train[train['county']=='Los Angeles'].price_per_sqft.hist()"
   ]
  },
  {
   "cell_type": "code",
   "execution_count": 73,
   "id": "2ce51a85",
   "metadata": {},
   "outputs": [],
   "source": [
    "orange_mean = train[train['county']=='Orange'].price_per_sqft.mean()\n",
    "ventura_mean = train[train['county']=='Ventura'].price_per_sqft.mean()\n",
    "la_mean = train[train['county']=='Los Angeles'].price_per_sqft.mean()"
   ]
  },
  {
   "cell_type": "code",
   "execution_count": 74,
   "id": "331521a0",
   "metadata": {},
   "outputs": [
    {
     "data": {
      "text/plain": [
       "(0.024982980685200742, 0.041229158408873125, 0.057041158868416014)"
      ]
     },
     "execution_count": 74,
     "metadata": {},
     "output_type": "execute_result"
    }
   ],
   "source": [
    "orange_mean, ventura_mean, la_mean"
   ]
  },
  {
   "cell_type": "code",
   "execution_count": 75,
   "id": "36d86289",
   "metadata": {},
   "outputs": [],
   "source": [
    "orange_mean = train[train['county']=='Orange'].price_per_sqft\n",
    "ventura_mean = train[train['county']=='Ventura'].price_per_sqft\n",
    "la_mean = train[train['county']=='Los Angeles'].price_per_sqft"
   ]
  },
  {
   "cell_type": "code",
   "execution_count": 76,
   "id": "f00af589",
   "metadata": {},
   "outputs": [],
   "source": [
    "# used a kruskal because distributions weren't normal\n",
    "f, p = stats.kruskal(orange_mean, ventura_mean, la_mean)"
   ]
  },
  {
   "cell_type": "code",
   "execution_count": 77,
   "id": "88cc24cd",
   "metadata": {},
   "outputs": [
    {
     "data": {
      "text/plain": [
       "(1991.3480388058108, 0.0)"
      ]
     },
     "execution_count": 77,
     "metadata": {},
     "output_type": "execute_result"
    }
   ],
   "source": [
    "f, p"
   ]
  },
  {
   "cell_type": "code",
   "execution_count": 78,
   "id": "dbb89f5b",
   "metadata": {},
   "outputs": [
    {
     "name": "stdout",
     "output_type": "stream",
     "text": [
      "We reject $H_{0}$\n"
     ]
    }
   ],
   "source": [
    "if p < alpha:\n",
    "    print(\"We reject $H_{0}$\")\n",
    "else:\n",
    "    print(\"We fail to reject $H_{0}$\")"
   ]
  },
  {
   "cell_type": "markdown",
   "id": "e4d14db7",
   "metadata": {},
   "source": [
    "State Hypotheses**\n",
    "\n",
    "$H_{0}$: population means of the tax value for the three counties, Orange, Ventura & Los Angeles, are all equal.  \n",
    "\n",
    "$H_{a}$: population means of the tax value feet for the three counties, Orange, Ventura & Los Angeles, are NOT all equal. "
   ]
  },
  {
   "cell_type": "code",
   "execution_count": 79,
   "id": "d7943f28",
   "metadata": {},
   "outputs": [],
   "source": [
    "orange_tax_value = train[train['county']=='Orange'].tax_value\n",
    "ventura_tax_value = train[train['county']=='Ventura'].tax_value\n",
    "la_tax_value = train[train['county']=='Los Angeles'].tax_value"
   ]
  },
  {
   "cell_type": "code",
   "execution_count": 80,
   "id": "c6fbf3ff",
   "metadata": {},
   "outputs": [
    {
     "data": {
      "text/plain": [
       "<AxesSubplot:>"
      ]
     },
     "execution_count": 80,
     "metadata": {},
     "output_type": "execute_result"
    },
    {
     "data": {
      "image/png": "[encoded data removed]",
      "text/plain": [
       "<Figure size 432x288 with 1 Axes>"
      ]
     },
     "metadata": {
      "needs_background": "light"
     },
     "output_type": "display_data"
    }
   ],
   "source": [
    "orange_tax_value.hist()"
   ]
  },
  {
   "cell_type": "code",
   "execution_count": 81,
   "id": "3f360ea1",
   "metadata": {},
   "outputs": [
    {
     "data": {
      "text/plain": [
       "<AxesSubplot:>"
      ]
     },
     "execution_count": 81,
     "metadata": {},
     "output_type": "execute_result"
    },
    {
     "data": {
      "image/png": "[encoded data removed]",
      "text/plain": [
       "<Figure size 432x288 with 1 Axes>"
      ]
     },
     "metadata": {
      "needs_background": "light"
     },
     "output_type": "display_data"
    }
   ],
   "source": [
    "ventura_tax_value.hist()"
   ]
  },
  {
   "cell_type": "code",
   "execution_count": 82,
   "id": "803bcc58",
   "metadata": {},
   "outputs": [
    {
     "data": {
      "text/plain": [
       "<AxesSubplot:>"
      ]
     },
     "execution_count": 82,
     "metadata": {},
     "output_type": "execute_result"
    },
    {
     "data": {
      "image/png": "[encoded data removed]",
      "text/plain": [
       "<Figure size 432x288 with 1 Axes>"
      ]
     },
     "metadata": {
      "needs_background": "light"
     },
     "output_type": "display_data"
    }
   ],
   "source": [
    "la_tax_value.hist()"
   ]
  },
  {
   "cell_type": "code",
   "execution_count": 83,
   "id": "a913a1bd",
   "metadata": {},
   "outputs": [],
   "source": [
    "f, p = stats.kruskal(orange_tax_value, ventura_tax_value, la_tax_value)"
   ]
  },
  {
   "cell_type": "code",
   "execution_count": 84,
   "id": "b1880afc",
   "metadata": {},
   "outputs": [
    {
     "data": {
      "text/plain": [
       "(1027.962375675702, 6.036793495878407e-224)"
      ]
     },
     "execution_count": 84,
     "metadata": {},
     "output_type": "execute_result"
    }
   ],
   "source": [
    "f, p"
   ]
  },
  {
   "cell_type": "code",
   "execution_count": 85,
   "id": "c560b6e1",
   "metadata": {},
   "outputs": [
    {
     "name": "stdout",
     "output_type": "stream",
     "text": [
      "We reject $H_{0}$\n"
     ]
    }
   ],
   "source": [
    "if p < alpha:\n",
    "    print(\"We reject $H_{0}$\")\n",
    "else:\n",
    "    print(\"We fail to reject $H_{0}$\")"
   ]
  },
  {
   "cell_type": "code",
   "execution_count": 86,
   "id": "77126e10",
   "metadata": {},
   "outputs": [
    {
     "name": "stdout",
     "output_type": "stream",
     "text": [
      "<class 'pandas.core.frame.DataFrame'>\n",
      "Int64Index: 29182 entries, 47145 to 43370\n",
      "Data columns (total 13 columns):\n",
      " #   Column          Non-Null Count  Dtype  \n",
      "---  ------          --------------  -----  \n",
      " 0   bath            29182 non-null  float64\n",
      " 1   bed             29182 non-null  float64\n",
      " 2   area            29182 non-null  float64\n",
      " 3   lat             29182 non-null  float64\n",
      " 4   long            29182 non-null  float64\n",
      " 5   lot_size        29182 non-null  float64\n",
      " 6   year            29182 non-null  float64\n",
      " 7   tax_value       29182 non-null  float64\n",
      " 8   tax_amount      29182 non-null  float64\n",
      " 9   logerror        29182 non-null  float64\n",
      " 10  heating_type    29182 non-null  object \n",
      " 11  county          29182 non-null  object \n",
      " 12  price_per_sqft  29182 non-null  float64\n",
      "dtypes: float64(11), object(2)\n",
      "memory usage: 3.1+ MB\n"
     ]
    }
   ],
   "source": [
    "train.info()"
   ]
  },
  {
   "cell_type": "markdown",
   "id": "1cb3219a",
   "metadata": {},
   "source": [
    "# Clusterings"
   ]
  },
  {
   "cell_type": "code",
   "execution_count": 87,
   "id": "5b8cf220",
   "metadata": {},
   "outputs": [],
   "source": [
    "quant_vars = ['bath', 'bed', 'area', 'lot_size', 'year', 'tax_value', 'tax_amount', 'price_per_sqft']\n",
    "cat_vars=['county', 'heating_type']\n",
    "target = 'logerror'"
   ]
  },
  {
   "cell_type": "code",
   "execution_count": 88,
   "id": "a99c120d",
   "metadata": {},
   "outputs": [
    {
     "data": {
      "image/png": "[encoded data removed]",
      "text/plain": [
       "<Figure size 144x144 with 1 Axes>"
      ]
     },
     "metadata": {
      "needs_background": "light"
     },
     "output_type": "display_data"
    },
    {
     "name": "stdout",
     "output_type": "stream",
     "text": [
      "                  county  Count  Percent\n",
      "Los Angeles  Los Angeles  18790    64.39\n",
      "Orange            Orange   7958    27.27\n",
      "Ventura          Ventura   2434     8.34\n",
      "_________________________________________________________________\n"
     ]
    },
    {
     "data": {
      "image/png": "[encoded data removed]",
      "text/plain": [
       "<Figure size 144x144 with 1 Axes>"
      ]
     },
     "metadata": {
      "needs_background": "light"
     },
     "output_type": "display_data"
    },
    {
     "name": "stdout",
     "output_type": "stream",
     "text": [
      "           heating_type  Count  Percent\n",
      "Central      Floor/Wall  21932    75.16\n",
      "Floor/Wall      Central   6959    23.85\n",
      "Forced air   Forced air    291     1.00\n",
      "_________________________________________________________________\n"
     ]
    },
    {
     "data": {
      "image/png": "[encoded data removed]",
      "text/plain": [
       "<Figure size 576x144 with 2 Axes>"
      ]
     },
     "metadata": {
      "needs_background": "light"
     },
     "output_type": "display_data"
    },
    {
     "name": "stdout",
     "output_type": "stream",
     "text": [
      "count    29182.000000\n",
      "mean         2.306799\n",
      "std          1.020635\n",
      "min          0.000000\n",
      "25%          2.000000\n",
      "50%          2.000000\n",
      "75%          3.000000\n",
      "max         13.000000\n",
      "Name: bath, dtype: float64\n"
     ]
    },
    {
     "data": {
      "image/png": "[encoded data removed]",
      "text/plain": [
       "<Figure size 576x144 with 2 Axes>"
      ]
     },
     "metadata": {
      "needs_background": "light"
     },
     "output_type": "display_data"
    },
    {
     "name": "stdout",
     "output_type": "stream",
     "text": [
      "count    29182.000000\n",
      "mean         3.309746\n",
      "std          0.935997\n",
      "min          0.000000\n",
      "25%          3.000000\n",
      "50%          3.000000\n",
      "75%          4.000000\n",
      "max         10.000000\n",
      "Name: bed, dtype: float64\n"
     ]
    },
    {
     "data": {
      "image/png": "[encoded data removed]",
      "text/plain": [
       "<Figure size 576x144 with 2 Axes>"
      ]
     },
     "metadata": {
      "needs_background": "light"
     },
     "output_type": "display_data"
    },
    {
     "name": "stdout",
     "output_type": "stream",
     "text": [
      "count    29182.000000\n",
      "mean      1924.889110\n",
      "std        995.970421\n",
      "min        128.000000\n",
      "25%       1269.000000\n",
      "50%       1665.000000\n",
      "75%       2309.000000\n",
      "max      21929.000000\n",
      "Name: area, dtype: float64\n"
     ]
    },
    {
     "data": {
      "image/png": "[encoded data removed]",
      "text/plain": [
       "<Figure size 576x144 with 2 Axes>"
      ]
     },
     "metadata": {
      "needs_background": "light"
     },
     "output_type": "display_data"
    },
    {
     "name": "stdout",
     "output_type": "stream",
     "text": [
      "count    2.918200e+04\n",
      "mean     1.117938e+04\n",
      "std      7.908429e+04\n",
      "min      2.360000e+02\n",
      "25%      5.596000e+03\n",
      "50%      6.818000e+03\n",
      "75%      8.731750e+03\n",
      "max      6.971010e+06\n",
      "Name: lot_size, dtype: float64\n"
     ]
    },
    {
     "data": {
      "image/png": "[encoded data removed]",
      "text/plain": [
       "<Figure size 576x144 with 2 Axes>"
      ]
     },
     "metadata": {
      "needs_background": "light"
     },
     "output_type": "display_data"
    },
    {
     "name": "stdout",
     "output_type": "stream",
     "text": [
      "count    29182.000000\n",
      "mean      1963.475464\n",
      "std         23.170459\n",
      "min       1878.000000\n",
      "25%       1950.000000\n",
      "50%       1961.000000\n",
      "75%       1979.000000\n",
      "max       2016.000000\n",
      "Name: year, dtype: float64\n"
     ]
    },
    {
     "data": {
      "image/png": "[encoded data removed]",
      "text/plain": [
       "<Figure size 576x144 with 2 Axes>"
      ]
     },
     "metadata": {
      "needs_background": "light"
     },
     "output_type": "display_data"
    },
    {
     "name": "stdout",
     "output_type": "stream",
     "text": [
      "count    2.918200e+04\n",
      "mean     5.256948e+05\n",
      "std      6.996639e+05\n",
      "min      9.242000e+03\n",
      "25%      1.915370e+05\n",
      "50%      3.741400e+05\n",
      "75%      6.208902e+05\n",
      "max      2.434570e+07\n",
      "Name: tax_value, dtype: float64\n"
     ]
    },
    {
     "data": {
      "image/png": "[encoded data removed]",
      "text/plain": [
       "<Figure size 576x144 with 2 Axes>"
      ]
     },
     "metadata": {
      "needs_background": "light"
     },
     "output_type": "display_data"
    },
    {
     "name": "stdout",
     "output_type": "stream",
     "text": [
      "count     29182.000000\n",
      "mean       6400.767593\n",
      "std        8151.558950\n",
      "min          85.000000\n",
      "25%        2629.470000\n",
      "50%        4643.340000\n",
      "75%        7402.990000\n",
      "max      290998.060000\n",
      "Name: tax_amount, dtype: float64\n"
     ]
    },
    {
     "data": {
      "image/png": "[encoded data removed]",
      "text/plain": [
       "<Figure size 576x144 with 2 Axes>"
      ]
     },
     "metadata": {
      "needs_background": "light"
     },
     "output_type": "display_data"
    },
    {
     "name": "stdout",
     "output_type": "stream",
     "text": [
      "count    29182.000000\n",
      "mean         0.046980\n",
      "std          0.355464\n",
      "min          0.000304\n",
      "25%          0.011110\n",
      "50%          0.019141\n",
      "75%          0.040556\n",
      "max         29.766345\n",
      "Name: price_per_sqft, dtype: float64\n"
     ]
    }
   ],
   "source": [
    "explore_univariate(train, cat_vars, quant_vars)"
   ]
  },
  {
   "cell_type": "code",
   "execution_count": 89,
   "id": "69221c30",
   "metadata": {
    "scrolled": true
   },
   "outputs": [],
   "source": [
    "# nothing fruitful here\n",
    "# explore_bivariate(train.sample(100), target, cat_vars, quant_vars)"
   ]
  },
  {
   "cell_type": "code",
   "execution_count": 90,
   "id": "5a38504e",
   "metadata": {},
   "outputs": [],
   "source": [
    "cols=['bath', 'bed', 'area', 'lot_size', 'year', 'tax_value', 'tax_amount', 'price_per_sqft']"
   ]
  },
  {
   "cell_type": "code",
   "execution_count": 91,
   "id": "8eba23b0",
   "metadata": {},
   "outputs": [
    {
     "data": {
      "text/plain": [
       "'bath'"
      ]
     },
     "execution_count": 91,
     "metadata": {},
     "output_type": "execute_result"
    }
   ],
   "source": [
    "cols[0]"
   ]
  },
  {
   "cell_type": "code",
   "execution_count": 92,
   "id": "15bf9184",
   "metadata": {},
   "outputs": [],
   "source": [
    "X = train[cols]"
   ]
  },
  {
   "cell_type": "code",
   "execution_count": 93,
   "id": "24e88774",
   "metadata": {},
   "outputs": [],
   "source": [
    "scaler = MinMaxScaler().fit(X)"
   ]
  },
  {
   "cell_type": "code",
   "execution_count": 94,
   "id": "79b422f4",
   "metadata": {},
   "outputs": [],
   "source": [
    "X_scaled = pd.DataFrame(scaler.transform(X), columns= X.columns).set_index([X.index.values])"
   ]
  },
  {
   "cell_type": "code",
   "execution_count": 95,
   "id": "f22998d6",
   "metadata": {},
   "outputs": [
    {
     "name": "stdout",
     "output_type": "stream",
     "text": [
      "|       |      bath |   bed |      area |    lot_size |     year |   tax_value |   tax_amount |   price_per_sqft |\n",
      "|------:|----------:|------:|----------:|------------:|---------:|------------:|-------------:|-----------------:|\n",
      "| 47145 | 0.0769231 |   0.2 | 0.0315582 | 0.000854424 | 0.471014 |  0.00155996 |   0.00228329 |      0.00439647  |\n",
      "| 42533 | 0.230769  |   0.5 | 0.10417   | 0.000652582 | 0.847826 |  0.045585   |   0.0429739  |      0.000133482 |\n",
      "|  8452 | 0.153846  |   0.3 | 0.0560066 | 0.000495497 | 0.688406 |  0.00959076 |   0.0097106  |      0.000500668 |\n",
      "| 51842 | 0.153846  |   0.3 | 0.0569699 | 0.000953122 | 0.681159 |  0.0222745  |   0.0192994  |      0.000409012 |\n",
      "| 13230 | 0.153846  |   0.3 | 0.0540342 | 0.000653443 | 0.789855 |  0.0228364  |   0.022968   |      0.000274651 |\n"
     ]
    }
   ],
   "source": [
    "print(X_scaled.head().to_markdown())"
   ]
  },
  {
   "cell_type": "code",
   "execution_count": 96,
   "id": "28e866c8",
   "metadata": {},
   "outputs": [
    {
     "data": {
      "text/plain": [
       "array([2, 1, 0, ..., 1, 2, 0], dtype=int32)"
      ]
     },
     "execution_count": 96,
     "metadata": {},
     "output_type": "execute_result"
    }
   ],
   "source": [
    "# sklearn implementation of KMeans\n",
    "\n",
    "#define the thing\n",
    "kmeans = KMeans(n_clusters=3, random_state=1349)\n",
    "\n",
    "# fit the thing\n",
    "kmeans.fit(X_scaled)\n",
    "\n",
    "# Use (predict using) the thing \n",
    "kmeans.predict(X_scaled)"
   ]
  },
  {
   "cell_type": "code",
   "execution_count": 97,
   "id": "fa74b10d",
   "metadata": {},
   "outputs": [],
   "source": [
    "train['cluster'] = kmeans.predict(X_scaled)\n",
    "\n",
    "X_scaled['cluster'] = kmeans.predict(X_scaled)"
   ]
  },
  {
   "cell_type": "code",
   "execution_count": 98,
   "id": "9445abf9",
   "metadata": {},
   "outputs": [
    {
     "name": "stdout",
     "output_type": "stream",
     "text": [
      "|       |   cluster |\n",
      "|------:|----------:|\n",
      "| 20675 |         2 |\n",
      "| 33801 |         0 |\n",
      "|  3390 |         0 |\n",
      "|  2260 |         0 |\n",
      "|  6931 |         2 |\n",
      "| 32789 |         1 |\n",
      "| 12554 |         0 |\n",
      "|  5831 |         2 |\n",
      "| 16055 |         2 |\n",
      "| 18340 |         0 |\n"
     ]
    }
   ],
   "source": [
    "print(train.sample(10).cluster.to_markdown())"
   ]
  },
  {
   "cell_type": "code",
   "execution_count": 99,
   "id": "cdff4ccf",
   "metadata": {},
   "outputs": [],
   "source": [
    "#[['bath', 'bed', 'area', 'lot_size', 'year', 'tax_value', 'tax_amount', 'price_per_sqft']]"
   ]
  },
  {
   "cell_type": "code",
   "execution_count": 105,
   "id": "b7f6054c",
   "metadata": {},
   "outputs": [
    {
     "name": "stdout",
     "output_type": "stream",
     "text": [
      "<class 'pandas.core.frame.DataFrame'>\n",
      "Int64Index: 29182 entries, 47145 to 43370\n",
      "Data columns (total 14 columns):\n",
      " #   Column          Non-Null Count  Dtype  \n",
      "---  ------          --------------  -----  \n",
      " 0   bath            29182 non-null  float64\n",
      " 1   bed             29182 non-null  float64\n",
      " 2   area            29182 non-null  float64\n",
      " 3   lat             29182 non-null  float64\n",
      " 4   long            29182 non-null  float64\n",
      " 5   lot_size        29182 non-null  float64\n",
      " 6   year            29182 non-null  float64\n",
      " 7   tax_value       29182 non-null  float64\n",
      " 8   tax_amount      29182 non-null  float64\n",
      " 9   logerror        29182 non-null  float64\n",
      " 10  heating_type    29182 non-null  object \n",
      " 11  county          29182 non-null  object \n",
      " 12  price_per_sqft  29182 non-null  float64\n",
      " 13  cluster         29182 non-null  int32  \n",
      "dtypes: float64(11), int32(1), object(2)\n",
      "memory usage: 3.2+ MB\n"
     ]
    }
   ],
   "source": [
    "train.info()"
   ]
  },
  {
   "cell_type": "code",
   "execution_count": 102,
   "id": "4314aa4b",
   "metadata": {},
   "outputs": [],
   "source": [
    "cols=['bath', 'bed']"
   ]
  },
  {
   "cell_type": "code",
   "execution_count": 107,
   "id": "e6e61dae",
   "metadata": {
    "scrolled": false
   },
   "outputs": [
    {
     "ename": "TypeError",
     "evalue": "'Figure' object is not callable",
     "output_type": "error",
     "traceback": [
      "\u001b[0;31m---------------------------------------------------------------------------\u001b[0m",
      "\u001b[0;31mTypeError\u001b[0m                                 Traceback (most recent call last)",
      "\u001b[0;32m<ipython-input-107-0d1c2019984f>\u001b[0m in \u001b[0;36m<module>\u001b[0;34m\u001b[0m\n\u001b[1;32m     13\u001b[0m \u001b[0mX_scaled\u001b[0m\u001b[0;34m[\u001b[0m\u001b[0;34m'cluster'\u001b[0m\u001b[0;34m]\u001b[0m \u001b[0;34m=\u001b[0m \u001b[0mkmeans\u001b[0m\u001b[0;34m.\u001b[0m\u001b[0mpredict\u001b[0m\u001b[0;34m(\u001b[0m\u001b[0mX_scaled\u001b[0m\u001b[0;34m)\u001b[0m\u001b[0;34m\u001b[0m\u001b[0;34m\u001b[0m\u001b[0m\n\u001b[1;32m     14\u001b[0m \u001b[0;34m\u001b[0m\u001b[0m\n\u001b[0;32m---> 15\u001b[0;31m \u001b[0mplt\u001b[0m\u001b[0;34m.\u001b[0m\u001b[0mfigure\u001b[0m\u001b[0;34m(\u001b[0m\u001b[0mfigsize\u001b[0m\u001b[0;34m=\u001b[0m\u001b[0;34m(\u001b[0m\u001b[0;36m14\u001b[0m\u001b[0;34m,\u001b[0m \u001b[0;36m9\u001b[0m\u001b[0;34m)\u001b[0m\u001b[0;34m)\u001b[0m\u001b[0;34m\u001b[0m\u001b[0;34m\u001b[0m\u001b[0m\n\u001b[0m\u001b[1;32m     16\u001b[0m \u001b[0;32mfor\u001b[0m \u001b[0mcluster\u001b[0m\u001b[0;34m,\u001b[0m \u001b[0msubset\u001b[0m \u001b[0;32min\u001b[0m \u001b[0mtrain\u001b[0m\u001b[0;34m.\u001b[0m\u001b[0mgroupby\u001b[0m\u001b[0;34m(\u001b[0m\u001b[0;34m'cluster'\u001b[0m\u001b[0;34m)\u001b[0m\u001b[0;34m:\u001b[0m\u001b[0;34m\u001b[0m\u001b[0;34m\u001b[0m\u001b[0m\n\u001b[1;32m     17\u001b[0m     \u001b[0mplt\u001b[0m\u001b[0;34m.\u001b[0m\u001b[0mscatter\u001b[0m\u001b[0;34m(\u001b[0m\u001b[0msubset\u001b[0m\u001b[0;34m.\u001b[0m\u001b[0mbath\u001b[0m\u001b[0;34m.\u001b[0m\u001b[0msample\u001b[0m\u001b[0;34m(\u001b[0m\u001b[0;36m150\u001b[0m\u001b[0;34m)\u001b[0m\u001b[0;34m,\u001b[0m \u001b[0msubset\u001b[0m\u001b[0;34m.\u001b[0m\u001b[0mbed\u001b[0m\u001b[0;34m.\u001b[0m\u001b[0msample\u001b[0m\u001b[0;34m(\u001b[0m\u001b[0;36m150\u001b[0m\u001b[0;34m)\u001b[0m\u001b[0;34m,\u001b[0m \u001b[0mlabel\u001b[0m\u001b[0;34m=\u001b[0m\u001b[0;34m'cluster '\u001b[0m \u001b[0;34m+\u001b[0m \u001b[0mstr\u001b[0m\u001b[0;34m(\u001b[0m\u001b[0mcluster\u001b[0m\u001b[0;34m)\u001b[0m\u001b[0;34m,\u001b[0m \u001b[0malpha\u001b[0m\u001b[0;34m=\u001b[0m\u001b[0;36m.5\u001b[0m\u001b[0;34m,\u001b[0m \u001b[0mcmap\u001b[0m\u001b[0;34m=\u001b[0m\u001b[0;34m'reds'\u001b[0m\u001b[0;34m)\u001b[0m\u001b[0;34m\u001b[0m\u001b[0;34m\u001b[0m\u001b[0m\n",
      "\u001b[0;31mTypeError\u001b[0m: 'Figure' object is not callable"
     ]
    }
   ],
   "source": [
    "X = train[['bath', 'bed']]\n",
    "scaler = MinMaxScaler().fit(X)\n",
    "X_scaled = pd.DataFrame(scaler.transform(X), columns= X.columns).set_index([X.index.values])\n",
    "#define the thing\n",
    "kmeans = KMeans(n_clusters=3, random_state=1349)\n",
    "\n",
    "# fit the thing\n",
    "kmeans.fit(X_scaled)\n",
    "\n",
    "# Use (predict using) the thing \n",
    "kmeans.predict(X_scaled)\n",
    "train['cluster'] = kmeans.predict(X_scaled)\n",
    "X_scaled['cluster'] = kmeans.predict(X_scaled)\n",
    "\n",
    "plt.figure(figsize=(14, 9))\n",
    "for cluster, subset in train.groupby('cluster'):\n",
    "    plt.scatter(subset.bath.sample(150), subset.bed.sample(150), label='cluster ' + str(cluster), alpha=.5, cmap='reds')\n",
    "plt.legend()\n",
    "plt.xlabel('price_per_sqft')\n",
    "plt.ylabel('tax_value')\n",
    "plt.title('Visualizing Clusters')\n",
    "plt.show()\n",
    "\n",
    "\n",
    "plt.figure(figsize=(14, 9))\n",
    "for cluster, subset in train.groupby('county'):\n",
    "    plt.scatter(subset.bath.sample(150), subset.bed.sample(150), label=str(cluster), alpha=.5)\n",
    "# centroids.plot.scatter(y='petal_length', x='sepal_length', c='black', marker='x', s=1000, ax=plt.gca(), label='centroid')\n",
    "\n",
    "plt.legend()\n",
    "plt.xlabel('price_per_sqft')\n",
    "plt.ylabel('tax_value')\n",
    "plt.title('Visualizing counties')\n",
    "plt.show()\n",
    "\n",
    "\n",
    "centroids = train.groupby('cluster')[cols].mean()\n",
    "centroids\n",
    "plt.figure(figsize=(14, 9))\n",
    "for cluster, subset in train.groupby('cluster'):\n",
    "    plt.scatter(subset.bath.sample(150), subset.bed.sample(150), label='cluster ' + str(cluster), alpha=.6)\n",
    "\n",
    "centroids.plot.scatter(y='bath', x='bed', c='black', marker='x', s=1000, ax=plt.gca(), label='centroid')\n",
    "\n",
    "plt.legend()\n",
    "plt.xlabel('sepal_length')\n",
    "plt.ylabel('petal_length')\n",
    "plt.title('Visualizing Cluster Centers')\n",
    "\n",
    "with plt.style.context('seaborn-whitegrid'):\n",
    "    plt.figure(figsize=(9, 6))\n",
    "    pd.Series({k: KMeans(k).fit(X_scaled).inertia_ for k in range(2, 12)}).plot(marker='x')\n",
    "    plt.xticks(range(2, 12))\n",
    "    plt.xlabel('k')\n",
    "    plt.ylabel('inertia')\n",
    "    plt.title('Change in inertia as k increases')"
   ]
  },
  {
   "cell_type": "code",
   "execution_count": null,
   "id": "6dbad613",
   "metadata": {},
   "outputs": [],
   "source": []
  },
  {
   "cell_type": "code",
   "execution_count": 108,
   "id": "c1f0a211",
   "metadata": {},
   "outputs": [
    {
     "name": "stdout",
     "output_type": "stream",
     "text": [
      "<class 'pandas.core.frame.DataFrame'>\n",
      "Int64Index: 29182 entries, 47145 to 43370\n",
      "Data columns (total 14 columns):\n",
      " #   Column          Non-Null Count  Dtype  \n",
      "---  ------          --------------  -----  \n",
      " 0   bath            29182 non-null  float64\n",
      " 1   bed             29182 non-null  float64\n",
      " 2   area            29182 non-null  float64\n",
      " 3   lat             29182 non-null  float64\n",
      " 4   long            29182 non-null  float64\n",
      " 5   lot_size        29182 non-null  float64\n",
      " 6   year            29182 non-null  float64\n",
      " 7   tax_value       29182 non-null  float64\n",
      " 8   tax_amount      29182 non-null  float64\n",
      " 9   logerror        29182 non-null  float64\n",
      " 10  heating_type    29182 non-null  object \n",
      " 11  county          29182 non-null  object \n",
      " 12  price_per_sqft  29182 non-null  float64\n",
      " 13  cluster         29182 non-null  int32  \n",
      "dtypes: float64(11), int32(1), object(2)\n",
      "memory usage: 3.2+ MB\n"
     ]
    }
   ],
   "source": [
    "train.info()"
   ]
  },
  {
   "cell_type": "code",
   "execution_count": 109,
   "id": "26eb9e87",
   "metadata": {},
   "outputs": [],
   "source": [
    "train, validate, test = wrangle_mode('intial_explore')"
   ]
  },
  {
   "cell_type": "code",
   "execution_count": 110,
   "id": "d7facbbb",
   "metadata": {},
   "outputs": [],
   "source": [
    "LA = train[train.county == 'Los Angeles']\n",
    "LA[\"bracket\"] = pd.cut(LA.tax_value, [0, 500_000, 1_000_000, 25_000_000], labels=[\"Low\", \"median\", \"high\"])"
   ]
  },
  {
   "cell_type": "code",
   "execution_count": 111,
   "id": "20e806a2",
   "metadata": {},
   "outputs": [],
   "source": [
    "['bath', 'bed', 'area', 'lot_size', 'year', 'tax_value', 'tax_amount', 'price_per_sqft']\n",
    "cols=['tax_value', 'year']"
   ]
  },
  {
   "cell_type": "code",
   "execution_count": 112,
   "id": "eb5a07eb",
   "metadata": {},
   "outputs": [
    {
     "data": {
      "text/plain": [
       "(10504.0, 24345695.0, 320180.5)"
      ]
     },
     "execution_count": 112,
     "metadata": {},
     "output_type": "execute_result"
    }
   ],
   "source": [
    "LA.tax_value.min(), LA.tax_value.max(), LA.tax_value.median()"
   ]
  },
  {
   "cell_type": "code",
   "execution_count": 113,
   "id": "4be980f2",
   "metadata": {},
   "outputs": [
    {
     "data": {
      "text/html": [
       "<div>\n",
       "<style scoped>\n",
       "    .dataframe tbody tr th:only-of-type {\n",
       "        vertical-align: middle;\n",
       "    }\n",
       "\n",
       "    .dataframe tbody tr th {\n",
       "        vertical-align: top;\n",
       "    }\n",
       "\n",
       "    .dataframe thead th {\n",
       "        text-align: right;\n",
       "    }\n",
       "</style>\n",
       "<table border=\"1\" class=\"dataframe\">\n",
       "  <thead>\n",
       "    <tr style=\"text-align: right;\">\n",
       "      <th></th>\n",
       "      <th>bath</th>\n",
       "      <th>bed</th>\n",
       "      <th>area</th>\n",
       "      <th>lat</th>\n",
       "      <th>long</th>\n",
       "      <th>lot_size</th>\n",
       "      <th>year</th>\n",
       "      <th>tax_value</th>\n",
       "      <th>tax_amount</th>\n",
       "      <th>logerror</th>\n",
       "      <th>heating_type</th>\n",
       "      <th>county</th>\n",
       "      <th>price_per_sqft</th>\n",
       "      <th>bracket</th>\n",
       "    </tr>\n",
       "  </thead>\n",
       "  <tbody>\n",
       "    <tr>\n",
       "      <th>47145</th>\n",
       "      <td>1.0</td>\n",
       "      <td>2.0</td>\n",
       "      <td>816.0</td>\n",
       "      <td>34159874.0</td>\n",
       "      <td>-118105208.0</td>\n",
       "      <td>6192.0</td>\n",
       "      <td>1943.0</td>\n",
       "      <td>47206.0</td>\n",
       "      <td>749.24</td>\n",
       "      <td>-0.100223</td>\n",
       "      <td>Floor/Wall</td>\n",
       "      <td>Los Angeles</td>\n",
       "      <td>0.131170</td>\n",
       "      <td>Low</td>\n",
       "    </tr>\n",
       "    <tr>\n",
       "      <th>13230</th>\n",
       "      <td>2.0</td>\n",
       "      <td>3.0</td>\n",
       "      <td>1306.0</td>\n",
       "      <td>33977024.0</td>\n",
       "      <td>-117850612.0</td>\n",
       "      <td>4791.0</td>\n",
       "      <td>1987.0</td>\n",
       "      <td>565000.0</td>\n",
       "      <td>6766.69</td>\n",
       "      <td>0.004758</td>\n",
       "      <td>Central</td>\n",
       "      <td>Los Angeles</td>\n",
       "      <td>0.008480</td>\n",
       "      <td>median</td>\n",
       "    </tr>\n",
       "    <tr>\n",
       "      <th>926</th>\n",
       "      <td>2.0</td>\n",
       "      <td>4.0</td>\n",
       "      <td>1236.0</td>\n",
       "      <td>34254021.0</td>\n",
       "      <td>-118416540.0</td>\n",
       "      <td>7500.0</td>\n",
       "      <td>1952.0</td>\n",
       "      <td>79584.0</td>\n",
       "      <td>1094.25</td>\n",
       "      <td>-0.002321</td>\n",
       "      <td>Floor/Wall</td>\n",
       "      <td>Los Angeles</td>\n",
       "      <td>0.094240</td>\n",
       "      <td>Low</td>\n",
       "    </tr>\n",
       "    <tr>\n",
       "      <th>41218</th>\n",
       "      <td>2.0</td>\n",
       "      <td>2.0</td>\n",
       "      <td>1382.0</td>\n",
       "      <td>33769979.0</td>\n",
       "      <td>-118417068.0</td>\n",
       "      <td>7015.0</td>\n",
       "      <td>1954.0</td>\n",
       "      <td>1177690.0</td>\n",
       "      <td>13812.47</td>\n",
       "      <td>0.002123</td>\n",
       "      <td>Central</td>\n",
       "      <td>Los Angeles</td>\n",
       "      <td>0.005957</td>\n",
       "      <td>high</td>\n",
       "    </tr>\n",
       "    <tr>\n",
       "      <th>10392</th>\n",
       "      <td>1.0</td>\n",
       "      <td>2.0</td>\n",
       "      <td>744.0</td>\n",
       "      <td>33978960.0</td>\n",
       "      <td>-118291418.0</td>\n",
       "      <td>2458.0</td>\n",
       "      <td>1924.0</td>\n",
       "      <td>206754.0</td>\n",
       "      <td>2575.31</td>\n",
       "      <td>-0.114342</td>\n",
       "      <td>Floor/Wall</td>\n",
       "      <td>Los Angeles</td>\n",
       "      <td>0.011889</td>\n",
       "      <td>Low</td>\n",
       "    </tr>\n",
       "  </tbody>\n",
       "</table>\n",
       "</div>"
      ],
      "text/plain": [
       "       bath  bed    area         lat         long  lot_size    year  \\\n",
       "47145   1.0  2.0   816.0  34159874.0 -118105208.0    6192.0  1943.0   \n",
       "13230   2.0  3.0  1306.0  33977024.0 -117850612.0    4791.0  1987.0   \n",
       "926     2.0  4.0  1236.0  34254021.0 -118416540.0    7500.0  1952.0   \n",
       "41218   2.0  2.0  1382.0  33769979.0 -118417068.0    7015.0  1954.0   \n",
       "10392   1.0  2.0   744.0  33978960.0 -118291418.0    2458.0  1924.0   \n",
       "\n",
       "       tax_value  tax_amount  logerror heating_type       county  \\\n",
       "47145    47206.0      749.24 -0.100223   Floor/Wall  Los Angeles   \n",
       "13230   565000.0     6766.69  0.004758      Central  Los Angeles   \n",
       "926      79584.0     1094.25 -0.002321   Floor/Wall  Los Angeles   \n",
       "41218  1177690.0    13812.47  0.002123      Central  Los Angeles   \n",
       "10392   206754.0     2575.31 -0.114342   Floor/Wall  Los Angeles   \n",
       "\n",
       "       price_per_sqft bracket  \n",
       "47145        0.131170     Low  \n",
       "13230        0.008480  median  \n",
       "926          0.094240     Low  \n",
       "41218        0.005957    high  \n",
       "10392        0.011889     Low  "
      ]
     },
     "execution_count": 113,
     "metadata": {},
     "output_type": "execute_result"
    }
   ],
   "source": [
    "LA.head()"
   ]
  },
  {
   "cell_type": "code",
   "execution_count": 114,
   "id": "75ab0bcb",
   "metadata": {},
   "outputs": [],
   "source": [
    "X = LA[['bath', 'area', 'lot_size', 'year', 'tax_value', 'tax_amount', 'price_per_sqft']]"
   ]
  },
  {
   "cell_type": "code",
   "execution_count": 115,
   "id": "53b7c924",
   "metadata": {},
   "outputs": [],
   "source": [
    "X = LA[['area', 'price_per_sqft']]\n",
    "scaler = MinMaxScaler().fit(X)\n",
    "X_scaled = pd.DataFrame(scaler.transform(X), columns= X.columns).set_index([X.index.values])\n",
    "#define the thing\n",
    "kmeans = KMeans(n_clusters=3, random_state=1349)\n",
    "\n",
    "# fit the thing\n",
    "kmeans.fit(X_scaled)\n",
    "\n",
    "# Use (predict using) the thing \n",
    "kmeans.predict(X_scaled)\n",
    "LA['cluster'] = kmeans.predict(X_scaled)\n",
    "X_scaled['cluster'] = kmeans.predict(X_scaled)"
   ]
  },
  {
   "cell_type": "code",
   "execution_count": 116,
   "id": "ae1edc4a",
   "metadata": {
    "scrolled": false
   },
   "outputs": [
    {
     "ename": "TypeError",
     "evalue": "'Figure' object is not callable",
     "output_type": "error",
     "traceback": [
      "\u001b[0;31m---------------------------------------------------------------------------\u001b[0m",
      "\u001b[0;31mTypeError\u001b[0m                                 Traceback (most recent call last)",
      "\u001b[0;32m<ipython-input-116-7295140435a2>\u001b[0m in \u001b[0;36m<module>\u001b[0;34m\u001b[0m\n\u001b[0;32m----> 1\u001b[0;31m \u001b[0mplt\u001b[0m\u001b[0;34m.\u001b[0m\u001b[0mfigure\u001b[0m\u001b[0;34m(\u001b[0m\u001b[0mfigsize\u001b[0m\u001b[0;34m=\u001b[0m\u001b[0;34m(\u001b[0m\u001b[0;36m14\u001b[0m\u001b[0;34m,\u001b[0m \u001b[0;36m9\u001b[0m\u001b[0;34m)\u001b[0m\u001b[0;34m)\u001b[0m\u001b[0;34m\u001b[0m\u001b[0;34m\u001b[0m\u001b[0m\n\u001b[0m\u001b[1;32m      2\u001b[0m \u001b[0;32mfor\u001b[0m \u001b[0mcluster\u001b[0m\u001b[0;34m,\u001b[0m \u001b[0msubset\u001b[0m \u001b[0;32min\u001b[0m \u001b[0mLA\u001b[0m\u001b[0;34m.\u001b[0m\u001b[0mgroupby\u001b[0m\u001b[0;34m(\u001b[0m\u001b[0;34m'cluster'\u001b[0m\u001b[0;34m)\u001b[0m\u001b[0;34m:\u001b[0m\u001b[0;34m\u001b[0m\u001b[0;34m\u001b[0m\u001b[0m\n\u001b[1;32m      3\u001b[0m \u001b[0;34m\u001b[0m\u001b[0m\n\u001b[1;32m      4\u001b[0m     \u001b[0;31m# Here\u001b[0m\u001b[0;34m\u001b[0m\u001b[0;34m\u001b[0m\u001b[0;34m\u001b[0m\u001b[0m\n\u001b[1;32m      5\u001b[0m     \u001b[0mplt\u001b[0m\u001b[0;34m.\u001b[0m\u001b[0mscatter\u001b[0m\u001b[0;34m(\u001b[0m\u001b[0msubset\u001b[0m\u001b[0;34m.\u001b[0m\u001b[0mtax_value\u001b[0m\u001b[0;34m.\u001b[0m\u001b[0msample\u001b[0m\u001b[0;34m(\u001b[0m\u001b[0;36m150\u001b[0m\u001b[0;34m)\u001b[0m\u001b[0;34m,\u001b[0m \u001b[0msubset\u001b[0m\u001b[0;34m.\u001b[0m\u001b[0marea\u001b[0m\u001b[0;34m.\u001b[0m\u001b[0msample\u001b[0m\u001b[0;34m(\u001b[0m\u001b[0;36m150\u001b[0m\u001b[0;34m)\u001b[0m\u001b[0;34m,\u001b[0m \u001b[0mlabel\u001b[0m\u001b[0;34m=\u001b[0m\u001b[0;34m'cluster '\u001b[0m \u001b[0;34m+\u001b[0m \u001b[0mstr\u001b[0m\u001b[0;34m(\u001b[0m\u001b[0mcluster\u001b[0m\u001b[0;34m)\u001b[0m\u001b[0;34m,\u001b[0m \u001b[0malpha\u001b[0m\u001b[0;34m=\u001b[0m\u001b[0;36m.5\u001b[0m\u001b[0;34m,\u001b[0m \u001b[0mcmap\u001b[0m\u001b[0;34m=\u001b[0m\u001b[0;34m'reds'\u001b[0m\u001b[0;34m)\u001b[0m\u001b[0;34m\u001b[0m\u001b[0;34m\u001b[0m\u001b[0m\n",
      "\u001b[0;31mTypeError\u001b[0m: 'Figure' object is not callable"
     ]
    }
   ],
   "source": [
    "plt.figure(figsize=(14, 9))\n",
    "for cluster, subset in LA.groupby('cluster'):\n",
    "    \n",
    "    # Here\n",
    "    plt.scatter(subset.tax_value.sample(150), subset.area.sample(150), label='cluster ' + str(cluster), alpha=.5, cmap='reds')\n",
    "    \n",
    "    \n",
    "plt.legend()\n",
    "plt.xlabel('tax_value')\n",
    "plt.ylabel('area')\n",
    "plt.title('Visualizing Clusters')\n",
    "plt.show()"
   ]
  },
  {
   "cell_type": "code",
   "execution_count": 117,
   "id": "59b753c6",
   "metadata": {},
   "outputs": [
    {
     "ename": "TypeError",
     "evalue": "'Figure' object is not callable",
     "output_type": "error",
     "traceback": [
      "\u001b[0;31m---------------------------------------------------------------------------\u001b[0m",
      "\u001b[0;31mTypeError\u001b[0m                                 Traceback (most recent call last)",
      "\u001b[0;32m<ipython-input-117-1e3c12709879>\u001b[0m in \u001b[0;36m<module>\u001b[0;34m\u001b[0m\n\u001b[0;32m----> 1\u001b[0;31m \u001b[0mplt\u001b[0m\u001b[0;34m.\u001b[0m\u001b[0mfigure\u001b[0m\u001b[0;34m(\u001b[0m\u001b[0mfigsize\u001b[0m\u001b[0;34m=\u001b[0m\u001b[0;34m(\u001b[0m\u001b[0;36m14\u001b[0m\u001b[0;34m,\u001b[0m \u001b[0;36m9\u001b[0m\u001b[0;34m)\u001b[0m\u001b[0;34m)\u001b[0m\u001b[0;34m\u001b[0m\u001b[0;34m\u001b[0m\u001b[0m\n\u001b[0m\u001b[1;32m      2\u001b[0m \u001b[0;32mfor\u001b[0m \u001b[0mcluster\u001b[0m\u001b[0;34m,\u001b[0m \u001b[0msubset\u001b[0m \u001b[0;32min\u001b[0m \u001b[0mLA\u001b[0m\u001b[0;34m.\u001b[0m\u001b[0mgroupby\u001b[0m\u001b[0;34m(\u001b[0m\u001b[0;34m'bracket'\u001b[0m\u001b[0;34m)\u001b[0m\u001b[0;34m:\u001b[0m\u001b[0;34m\u001b[0m\u001b[0;34m\u001b[0m\u001b[0m\n\u001b[1;32m      3\u001b[0m \u001b[0;34m\u001b[0m\u001b[0m\n\u001b[1;32m      4\u001b[0m     \u001b[0;31m# Here\u001b[0m\u001b[0;34m\u001b[0m\u001b[0;34m\u001b[0m\u001b[0;34m\u001b[0m\u001b[0m\n\u001b[1;32m      5\u001b[0m     \u001b[0mplt\u001b[0m\u001b[0;34m.\u001b[0m\u001b[0mscatter\u001b[0m\u001b[0;34m(\u001b[0m\u001b[0msubset\u001b[0m\u001b[0;34m.\u001b[0m\u001b[0marea\u001b[0m\u001b[0;34m.\u001b[0m\u001b[0msample\u001b[0m\u001b[0;34m(\u001b[0m\u001b[0;36m150\u001b[0m\u001b[0;34m)\u001b[0m\u001b[0;34m,\u001b[0m \u001b[0msubset\u001b[0m\u001b[0;34m.\u001b[0m\u001b[0mtax_value\u001b[0m\u001b[0;34m.\u001b[0m\u001b[0msample\u001b[0m\u001b[0;34m(\u001b[0m\u001b[0;36m150\u001b[0m\u001b[0;34m)\u001b[0m\u001b[0;34m,\u001b[0m \u001b[0mlabel\u001b[0m\u001b[0;34m=\u001b[0m\u001b[0mstr\u001b[0m\u001b[0;34m(\u001b[0m\u001b[0mcluster\u001b[0m\u001b[0;34m)\u001b[0m\u001b[0;34m,\u001b[0m \u001b[0malpha\u001b[0m\u001b[0;34m=\u001b[0m\u001b[0;36m.5\u001b[0m\u001b[0;34m)\u001b[0m\u001b[0;34m\u001b[0m\u001b[0;34m\u001b[0m\u001b[0m\n",
      "\u001b[0;31mTypeError\u001b[0m: 'Figure' object is not callable"
     ]
    }
   ],
   "source": [
    "plt.figure(figsize=(14, 9))\n",
    "for cluster, subset in LA.groupby('bracket'):\n",
    "    \n",
    "    # Here\n",
    "    plt.scatter(subset.area.sample(150), subset.tax_value.sample(150), label=str(cluster), alpha=.5)\n",
    "\n",
    "\n",
    "plt.legend()\n",
    "plt.xlabel('area')\n",
    "plt.ylabel('tax_value')\n",
    "plt.title('Visualizing counties')\n",
    "plt.show()"
   ]
  },
  {
   "cell_type": "code",
   "execution_count": 118,
   "id": "17d6abeb",
   "metadata": {},
   "outputs": [
    {
     "data": {
      "text/html": [
       "<div>\n",
       "<style scoped>\n",
       "    .dataframe tbody tr th:only-of-type {\n",
       "        vertical-align: middle;\n",
       "    }\n",
       "\n",
       "    .dataframe tbody tr th {\n",
       "        vertical-align: top;\n",
       "    }\n",
       "\n",
       "    .dataframe thead th {\n",
       "        text-align: right;\n",
       "    }\n",
       "</style>\n",
       "<table border=\"1\" class=\"dataframe\">\n",
       "  <thead>\n",
       "    <tr style=\"text-align: right;\">\n",
       "      <th></th>\n",
       "      <th>area</th>\n",
       "      <th>lot_size</th>\n",
       "      <th>tax_value</th>\n",
       "    </tr>\n",
       "    <tr>\n",
       "      <th>cluster</th>\n",
       "      <th></th>\n",
       "      <th></th>\n",
       "      <th></th>\n",
       "    </tr>\n",
       "  </thead>\n",
       "  <tbody>\n",
       "    <tr>\n",
       "      <th>0</th>\n",
       "      <td>2532.650157</td>\n",
       "      <td>14863.421691</td>\n",
       "      <td>6.662247e+05</td>\n",
       "    </tr>\n",
       "    <tr>\n",
       "      <th>1</th>\n",
       "      <td>4918.711679</td>\n",
       "      <td>31850.765207</td>\n",
       "      <td>2.203449e+06</td>\n",
       "    </tr>\n",
       "    <tr>\n",
       "      <th>2</th>\n",
       "      <td>1327.447667</td>\n",
       "      <td>10436.198834</td>\n",
       "      <td>3.196487e+05</td>\n",
       "    </tr>\n",
       "  </tbody>\n",
       "</table>\n",
       "</div>"
      ],
      "text/plain": [
       "                area      lot_size     tax_value\n",
       "cluster                                         \n",
       "0        2532.650157  14863.421691  6.662247e+05\n",
       "1        4918.711679  31850.765207  2.203449e+06\n",
       "2        1327.447667  10436.198834  3.196487e+05"
      ]
     },
     "execution_count": 118,
     "metadata": {},
     "output_type": "execute_result"
    }
   ],
   "source": [
    "centroids = LA.groupby('cluster')['area', 'lot_size','tax_value'].mean()\n",
    "centroids"
   ]
  },
  {
   "cell_type": "code",
   "execution_count": 119,
   "id": "28a28042",
   "metadata": {
    "scrolled": false
   },
   "outputs": [
    {
     "ename": "TypeError",
     "evalue": "'Figure' object is not callable",
     "output_type": "error",
     "traceback": [
      "\u001b[0;31m---------------------------------------------------------------------------\u001b[0m",
      "\u001b[0;31mTypeError\u001b[0m                                 Traceback (most recent call last)",
      "\u001b[0;32m<ipython-input-119-694fb71577e6>\u001b[0m in \u001b[0;36m<module>\u001b[0;34m\u001b[0m\n\u001b[0;32m----> 1\u001b[0;31m \u001b[0mplt\u001b[0m\u001b[0;34m.\u001b[0m\u001b[0mfigure\u001b[0m\u001b[0;34m(\u001b[0m\u001b[0mfigsize\u001b[0m\u001b[0;34m=\u001b[0m\u001b[0;34m(\u001b[0m\u001b[0;36m14\u001b[0m\u001b[0;34m,\u001b[0m \u001b[0;36m9\u001b[0m\u001b[0;34m)\u001b[0m\u001b[0;34m)\u001b[0m\u001b[0;34m\u001b[0m\u001b[0;34m\u001b[0m\u001b[0m\n\u001b[0m\u001b[1;32m      2\u001b[0m \u001b[0;32mfor\u001b[0m \u001b[0mcluster\u001b[0m\u001b[0;34m,\u001b[0m \u001b[0msubset\u001b[0m \u001b[0;32min\u001b[0m \u001b[0mLA\u001b[0m\u001b[0;34m.\u001b[0m\u001b[0mgroupby\u001b[0m\u001b[0;34m(\u001b[0m\u001b[0;34m'cluster'\u001b[0m\u001b[0;34m)\u001b[0m\u001b[0;34m:\u001b[0m\u001b[0;34m\u001b[0m\u001b[0;34m\u001b[0m\u001b[0m\n\u001b[1;32m      3\u001b[0m \u001b[0;34m\u001b[0m\u001b[0m\n\u001b[1;32m      4\u001b[0m     \u001b[0;31m# Here\u001b[0m\u001b[0;34m\u001b[0m\u001b[0;34m\u001b[0m\u001b[0;34m\u001b[0m\u001b[0m\n\u001b[1;32m      5\u001b[0m     \u001b[0mplt\u001b[0m\u001b[0;34m.\u001b[0m\u001b[0mscatter\u001b[0m\u001b[0;34m(\u001b[0m\u001b[0msubset\u001b[0m\u001b[0;34m.\u001b[0m\u001b[0marea\u001b[0m\u001b[0;34m.\u001b[0m\u001b[0msample\u001b[0m\u001b[0;34m(\u001b[0m\u001b[0;36m250\u001b[0m\u001b[0;34m)\u001b[0m\u001b[0;34m,\u001b[0m \u001b[0msubset\u001b[0m\u001b[0;34m.\u001b[0m\u001b[0mlot_size\u001b[0m\u001b[0;34m.\u001b[0m\u001b[0msample\u001b[0m\u001b[0;34m(\u001b[0m\u001b[0;36m250\u001b[0m\u001b[0;34m)\u001b[0m\u001b[0;34m,\u001b[0m \u001b[0mlabel\u001b[0m\u001b[0;34m=\u001b[0m\u001b[0;34m'cluster '\u001b[0m \u001b[0;34m+\u001b[0m \u001b[0mstr\u001b[0m\u001b[0;34m(\u001b[0m\u001b[0mcluster\u001b[0m\u001b[0;34m)\u001b[0m\u001b[0;34m,\u001b[0m \u001b[0malpha\u001b[0m\u001b[0;34m=\u001b[0m\u001b[0;36m.6\u001b[0m\u001b[0;34m)\u001b[0m\u001b[0;34m\u001b[0m\u001b[0;34m\u001b[0m\u001b[0m\n",
      "\u001b[0;31mTypeError\u001b[0m: 'Figure' object is not callable"
     ]
    }
   ],
   "source": [
    "plt.figure(figsize=(14, 9))\n",
    "for cluster, subset in LA.groupby('cluster'):\n",
    "    \n",
    "    # Here\n",
    "    plt.scatter(subset.area.sample(250), subset.lot_size.sample(250), label='cluster ' + str(cluster), alpha=.6)\n",
    "\n",
    "    # Here\n",
    "centroids.plot.scatter(y='lot_size', x='area', c='black', marker='x', s=1000, ax=plt.gca(), label='centroid')\n",
    "\n",
    "plt.legend()\n",
    "plt.xlabel('area')\n",
    "plt.ylabel('lot size')\n",
    "plt.title('Visualizing Cluster Centers')"
   ]
  },
  {
   "cell_type": "code",
   "execution_count": 120,
   "id": "f0a1454e",
   "metadata": {},
   "outputs": [
    {
     "ename": "AttributeError",
     "evalue": "'AxesSubplot' object has no attribute 'style'",
     "output_type": "error",
     "traceback": [
      "\u001b[0;31m---------------------------------------------------------------------------\u001b[0m",
      "\u001b[0;31mAttributeError\u001b[0m                            Traceback (most recent call last)",
      "\u001b[0;32m<ipython-input-120-5256e0ba7082>\u001b[0m in \u001b[0;36m<module>\u001b[0;34m\u001b[0m\n\u001b[0;32m----> 1\u001b[0;31m \u001b[0;32mwith\u001b[0m \u001b[0mplt\u001b[0m\u001b[0;34m.\u001b[0m\u001b[0mstyle\u001b[0m\u001b[0;34m.\u001b[0m\u001b[0mcontext\u001b[0m\u001b[0;34m(\u001b[0m\u001b[0;34m'seaborn-whitegrid'\u001b[0m\u001b[0;34m)\u001b[0m\u001b[0;34m:\u001b[0m\u001b[0;34m\u001b[0m\u001b[0;34m\u001b[0m\u001b[0m\n\u001b[0m\u001b[1;32m      2\u001b[0m     \u001b[0mplt\u001b[0m\u001b[0;34m.\u001b[0m\u001b[0mfigure\u001b[0m\u001b[0;34m(\u001b[0m\u001b[0mfigsize\u001b[0m\u001b[0;34m=\u001b[0m\u001b[0;34m(\u001b[0m\u001b[0;36m9\u001b[0m\u001b[0;34m,\u001b[0m \u001b[0;36m6\u001b[0m\u001b[0;34m)\u001b[0m\u001b[0;34m)\u001b[0m\u001b[0;34m\u001b[0m\u001b[0;34m\u001b[0m\u001b[0m\n\u001b[1;32m      3\u001b[0m     \u001b[0mpd\u001b[0m\u001b[0;34m.\u001b[0m\u001b[0mSeries\u001b[0m\u001b[0;34m(\u001b[0m\u001b[0;34m{\u001b[0m\u001b[0mk\u001b[0m\u001b[0;34m:\u001b[0m \u001b[0mKMeans\u001b[0m\u001b[0;34m(\u001b[0m\u001b[0mk\u001b[0m\u001b[0;34m)\u001b[0m\u001b[0;34m.\u001b[0m\u001b[0mfit\u001b[0m\u001b[0;34m(\u001b[0m\u001b[0mX_scaled\u001b[0m\u001b[0;34m)\u001b[0m\u001b[0;34m.\u001b[0m\u001b[0minertia_\u001b[0m \u001b[0;32mfor\u001b[0m \u001b[0mk\u001b[0m \u001b[0;32min\u001b[0m \u001b[0mrange\u001b[0m\u001b[0;34m(\u001b[0m\u001b[0;36m2\u001b[0m\u001b[0;34m,\u001b[0m \u001b[0;36m12\u001b[0m\u001b[0;34m)\u001b[0m\u001b[0;34m}\u001b[0m\u001b[0;34m)\u001b[0m\u001b[0;34m.\u001b[0m\u001b[0mplot\u001b[0m\u001b[0;34m(\u001b[0m\u001b[0mmarker\u001b[0m\u001b[0;34m=\u001b[0m\u001b[0;34m'x'\u001b[0m\u001b[0;34m)\u001b[0m\u001b[0;34m\u001b[0m\u001b[0;34m\u001b[0m\u001b[0m\n\u001b[1;32m      4\u001b[0m     \u001b[0mplt\u001b[0m\u001b[0;34m.\u001b[0m\u001b[0mxticks\u001b[0m\u001b[0;34m(\u001b[0m\u001b[0mrange\u001b[0m\u001b[0;34m(\u001b[0m\u001b[0;36m2\u001b[0m\u001b[0;34m,\u001b[0m \u001b[0;36m12\u001b[0m\u001b[0;34m)\u001b[0m\u001b[0;34m)\u001b[0m\u001b[0;34m\u001b[0m\u001b[0;34m\u001b[0m\u001b[0m\n\u001b[1;32m      5\u001b[0m     \u001b[0mplt\u001b[0m\u001b[0;34m.\u001b[0m\u001b[0mxlabel\u001b[0m\u001b[0;34m(\u001b[0m\u001b[0;34m'k'\u001b[0m\u001b[0;34m)\u001b[0m\u001b[0;34m\u001b[0m\u001b[0;34m\u001b[0m\u001b[0m\n",
      "\u001b[0;31mAttributeError\u001b[0m: 'AxesSubplot' object has no attribute 'style'"
     ]
    }
   ],
   "source": [
    "with plt.style.context('seaborn-whitegrid'):\n",
    "    plt.figure(figsize=(9, 6))\n",
    "    pd.Series({k: KMeans(k).fit(X_scaled).inertia_ for k in range(2, 12)}).plot(marker='x')\n",
    "    plt.xticks(range(2, 12))\n",
    "    plt.xlabel('k')\n",
    "    plt.ylabel('inertia')\n",
    "    plt.title('Change in inertia as k increases')"
   ]
  },
  {
   "cell_type": "markdown",
   "id": "12811a4e",
   "metadata": {},
   "source": [
    "# LA Clusters"
   ]
  },
  {
   "cell_type": "code",
   "execution_count": 121,
   "id": "96591951",
   "metadata": {},
   "outputs": [
    {
     "data": {
      "text/plain": [
       "2    12860\n",
       "0     5108\n",
       "1      822\n",
       "Name: cluster, dtype: int64"
      ]
     },
     "execution_count": 121,
     "metadata": {},
     "output_type": "execute_result"
    }
   ],
   "source": [
    "LA.cluster.value_counts()"
   ]
  },
  {
   "cell_type": "code",
   "execution_count": 122,
   "id": "12a3ff50",
   "metadata": {},
   "outputs": [],
   "source": [
    "pd.set_option('display.float_format', lambda x: '%.3f' % x)"
   ]
  },
  {
   "cell_type": "code",
   "execution_count": 123,
   "id": "8e5af640",
   "metadata": {},
   "outputs": [
    {
     "data": {
      "text/plain": [
       "cluster\n",
       "0    509029.500\n",
       "1   1479943.000\n",
       "2    256910.000\n",
       "Name: tax_value, dtype: float64"
      ]
     },
     "execution_count": 123,
     "metadata": {},
     "output_type": "execute_result"
    }
   ],
   "source": [
    "LA.groupby(\"cluster\").tax_value.median()"
   ]
  },
  {
   "cell_type": "code",
   "execution_count": 124,
   "id": "d336c526",
   "metadata": {},
   "outputs": [
    {
     "data": {
      "text/plain": [
       "14863.42169146437"
      ]
     },
     "execution_count": 124,
     "metadata": {},
     "output_type": "execute_result"
    }
   ],
   "source": [
    "LA[LA.cluster == 0].lot_size.mean()"
   ]
  },
  {
   "cell_type": "code",
   "execution_count": 125,
   "id": "3ed3e117",
   "metadata": {},
   "outputs": [
    {
     "data": {
      "text/plain": [
       "<AxesSubplot:>"
      ]
     },
     "execution_count": 125,
     "metadata": {},
     "output_type": "execute_result"
    },
    {
     "data": {
      "image/png": "[encoded data removed]",
      "text/plain": [
       "<Figure size 432x288 with 1 Axes>"
      ]
     },
     "metadata": {
      "needs_background": "light"
     },
     "output_type": "display_data"
    }
   ],
   "source": [
    "LA[LA.cluster == 0].lot_size.hist()"
   ]
  },
  {
   "cell_type": "code",
   "execution_count": 126,
   "id": "1c657332",
   "metadata": {},
   "outputs": [
    {
     "data": {
      "text/plain": [
       "<AxesSubplot:>"
      ]
     },
     "execution_count": 126,
     "metadata": {},
     "output_type": "execute_result"
    },
    {
     "data": {
      "image/png": "[encoded data removed]",
      "text/plain": [
       "<Figure size 432x288 with 1 Axes>"
      ]
     },
     "metadata": {
      "needs_background": "light"
     },
     "output_type": "display_data"
    }
   ],
   "source": [
    "LA[LA.cluster == 0].price_per_sqft.hist()"
   ]
  },
  {
   "cell_type": "markdown",
   "id": "55136917",
   "metadata": {},
   "source": [
    "### Going to use what learned from LA custers and see if it applies to the whole DF"
   ]
  },
  {
   "cell_type": "code",
   "execution_count": 127,
   "id": "709ccfda",
   "metadata": {},
   "outputs": [
    {
     "data": {
      "text/html": [
       "<div>\n",
       "<style scoped>\n",
       "    .dataframe tbody tr th:only-of-type {\n",
       "        vertical-align: middle;\n",
       "    }\n",
       "\n",
       "    .dataframe tbody tr th {\n",
       "        vertical-align: top;\n",
       "    }\n",
       "\n",
       "    .dataframe thead th {\n",
       "        text-align: right;\n",
       "    }\n",
       "</style>\n",
       "<table border=\"1\" class=\"dataframe\">\n",
       "  <thead>\n",
       "    <tr style=\"text-align: right;\">\n",
       "      <th></th>\n",
       "      <th>bath</th>\n",
       "      <th>bed</th>\n",
       "      <th>area</th>\n",
       "      <th>lat</th>\n",
       "      <th>long</th>\n",
       "      <th>lot_size</th>\n",
       "      <th>year</th>\n",
       "      <th>tax_value</th>\n",
       "      <th>tax_amount</th>\n",
       "      <th>logerror</th>\n",
       "      <th>heating_type</th>\n",
       "      <th>county</th>\n",
       "      <th>price_per_sqft</th>\n",
       "    </tr>\n",
       "  </thead>\n",
       "  <tbody>\n",
       "    <tr>\n",
       "      <th>47145</th>\n",
       "      <td>1.000</td>\n",
       "      <td>2.000</td>\n",
       "      <td>816.000</td>\n",
       "      <td>34159874.000</td>\n",
       "      <td>-118105208.000</td>\n",
       "      <td>6192.000</td>\n",
       "      <td>1943.000</td>\n",
       "      <td>47206.000</td>\n",
       "      <td>749.240</td>\n",
       "      <td>-0.100</td>\n",
       "      <td>Floor/Wall</td>\n",
       "      <td>Los Angeles</td>\n",
       "      <td>0.131</td>\n",
       "    </tr>\n",
       "    <tr>\n",
       "      <th>42533</th>\n",
       "      <td>3.000</td>\n",
       "      <td>5.000</td>\n",
       "      <td>2399.000</td>\n",
       "      <td>33692471.000</td>\n",
       "      <td>-117800825.000</td>\n",
       "      <td>4785.000</td>\n",
       "      <td>1995.000</td>\n",
       "      <td>1118618.000</td>\n",
       "      <td>12586.680</td>\n",
       "      <td>0.013</td>\n",
       "      <td>Central</td>\n",
       "      <td>Orange</td>\n",
       "      <td>0.004</td>\n",
       "    </tr>\n",
       "    <tr>\n",
       "      <th>8452</th>\n",
       "      <td>2.000</td>\n",
       "      <td>3.000</td>\n",
       "      <td>1349.000</td>\n",
       "      <td>33672955.000</td>\n",
       "      <td>-117991743.000</td>\n",
       "      <td>3690.000</td>\n",
       "      <td>1973.000</td>\n",
       "      <td>242647.000</td>\n",
       "      <td>2909.940</td>\n",
       "      <td>0.065</td>\n",
       "      <td>Forced air</td>\n",
       "      <td>Orange</td>\n",
       "      <td>0.015</td>\n",
       "    </tr>\n",
       "    <tr>\n",
       "      <th>51842</th>\n",
       "      <td>2.000</td>\n",
       "      <td>3.000</td>\n",
       "      <td>1370.000</td>\n",
       "      <td>33625761.000</td>\n",
       "      <td>-117668032.000</td>\n",
       "      <td>6880.000</td>\n",
       "      <td>1972.000</td>\n",
       "      <td>551324.000</td>\n",
       "      <td>5699.440</td>\n",
       "      <td>0.013</td>\n",
       "      <td>Central</td>\n",
       "      <td>Orange</td>\n",
       "      <td>0.012</td>\n",
       "    </tr>\n",
       "    <tr>\n",
       "      <th>13230</th>\n",
       "      <td>2.000</td>\n",
       "      <td>3.000</td>\n",
       "      <td>1306.000</td>\n",
       "      <td>33977024.000</td>\n",
       "      <td>-117850612.000</td>\n",
       "      <td>4791.000</td>\n",
       "      <td>1987.000</td>\n",
       "      <td>565000.000</td>\n",
       "      <td>6766.690</td>\n",
       "      <td>0.005</td>\n",
       "      <td>Central</td>\n",
       "      <td>Los Angeles</td>\n",
       "      <td>0.008</td>\n",
       "    </tr>\n",
       "    <tr>\n",
       "      <th>...</th>\n",
       "      <td>...</td>\n",
       "      <td>...</td>\n",
       "      <td>...</td>\n",
       "      <td>...</td>\n",
       "      <td>...</td>\n",
       "      <td>...</td>\n",
       "      <td>...</td>\n",
       "      <td>...</td>\n",
       "      <td>...</td>\n",
       "      <td>...</td>\n",
       "      <td>...</td>\n",
       "      <td>...</td>\n",
       "      <td>...</td>\n",
       "    </tr>\n",
       "    <tr>\n",
       "      <th>21460</th>\n",
       "      <td>2.000</td>\n",
       "      <td>3.000</td>\n",
       "      <td>1500.000</td>\n",
       "      <td>34167209.000</td>\n",
       "      <td>-118938046.000</td>\n",
       "      <td>7422.000</td>\n",
       "      <td>1971.000</td>\n",
       "      <td>548830.000</td>\n",
       "      <td>5794.060</td>\n",
       "      <td>-0.020</td>\n",
       "      <td>Central</td>\n",
       "      <td>Ventura</td>\n",
       "      <td>0.014</td>\n",
       "    </tr>\n",
       "    <tr>\n",
       "      <th>39892</th>\n",
       "      <td>2.000</td>\n",
       "      <td>2.000</td>\n",
       "      <td>952.000</td>\n",
       "      <td>34276243.000</td>\n",
       "      <td>-118898023.000</td>\n",
       "      <td>4260.000</td>\n",
       "      <td>1984.000</td>\n",
       "      <td>215180.000</td>\n",
       "      <td>2455.160</td>\n",
       "      <td>0.040</td>\n",
       "      <td>Central</td>\n",
       "      <td>Ventura</td>\n",
       "      <td>0.020</td>\n",
       "    </tr>\n",
       "    <tr>\n",
       "      <th>48122</th>\n",
       "      <td>3.500</td>\n",
       "      <td>4.000</td>\n",
       "      <td>3383.000</td>\n",
       "      <td>33722740.000</td>\n",
       "      <td>-117753319.000</td>\n",
       "      <td>8400.000</td>\n",
       "      <td>1996.000</td>\n",
       "      <td>646415.000</td>\n",
       "      <td>8192.920</td>\n",
       "      <td>0.014</td>\n",
       "      <td>Central</td>\n",
       "      <td>Orange</td>\n",
       "      <td>0.013</td>\n",
       "    </tr>\n",
       "    <tr>\n",
       "      <th>26163</th>\n",
       "      <td>1.000</td>\n",
       "      <td>3.000</td>\n",
       "      <td>1180.000</td>\n",
       "      <td>34218261.000</td>\n",
       "      <td>-118510278.000</td>\n",
       "      <td>6056.000</td>\n",
       "      <td>1951.000</td>\n",
       "      <td>473106.000</td>\n",
       "      <td>5685.680</td>\n",
       "      <td>-0.004</td>\n",
       "      <td>Floor/Wall</td>\n",
       "      <td>Los Angeles</td>\n",
       "      <td>0.013</td>\n",
       "    </tr>\n",
       "    <tr>\n",
       "      <th>43370</th>\n",
       "      <td>3.000</td>\n",
       "      <td>3.000</td>\n",
       "      <td>2364.000</td>\n",
       "      <td>33759718.000</td>\n",
       "      <td>-118345951.000</td>\n",
       "      <td>79638.000</td>\n",
       "      <td>1961.000</td>\n",
       "      <td>2200000.000</td>\n",
       "      <td>25216.550</td>\n",
       "      <td>0.275</td>\n",
       "      <td>Central</td>\n",
       "      <td>Los Angeles</td>\n",
       "      <td>0.036</td>\n",
       "    </tr>\n",
       "  </tbody>\n",
       "</table>\n",
       "<p>29182 rows × 13 columns</p>\n",
       "</div>"
      ],
      "text/plain": [
       "       bath   bed     area          lat           long  lot_size     year  \\\n",
       "47145 1.000 2.000  816.000 34159874.000 -118105208.000  6192.000 1943.000   \n",
       "42533 3.000 5.000 2399.000 33692471.000 -117800825.000  4785.000 1995.000   \n",
       "8452  2.000 3.000 1349.000 33672955.000 -117991743.000  3690.000 1973.000   \n",
       "51842 2.000 3.000 1370.000 33625761.000 -117668032.000  6880.000 1972.000   \n",
       "13230 2.000 3.000 1306.000 33977024.000 -117850612.000  4791.000 1987.000   \n",
       "...     ...   ...      ...          ...            ...       ...      ...   \n",
       "21460 2.000 3.000 1500.000 34167209.000 -118938046.000  7422.000 1971.000   \n",
       "39892 2.000 2.000  952.000 34276243.000 -118898023.000  4260.000 1984.000   \n",
       "48122 3.500 4.000 3383.000 33722740.000 -117753319.000  8400.000 1996.000   \n",
       "26163 1.000 3.000 1180.000 34218261.000 -118510278.000  6056.000 1951.000   \n",
       "43370 3.000 3.000 2364.000 33759718.000 -118345951.000 79638.000 1961.000   \n",
       "\n",
       "        tax_value  tax_amount  logerror heating_type       county  \\\n",
       "47145   47206.000     749.240    -0.100   Floor/Wall  Los Angeles   \n",
       "42533 1118618.000   12586.680     0.013      Central       Orange   \n",
       "8452   242647.000    2909.940     0.065   Forced air       Orange   \n",
       "51842  551324.000    5699.440     0.013      Central       Orange   \n",
       "13230  565000.000    6766.690     0.005      Central  Los Angeles   \n",
       "...           ...         ...       ...          ...          ...   \n",
       "21460  548830.000    5794.060    -0.020      Central      Ventura   \n",
       "39892  215180.000    2455.160     0.040      Central      Ventura   \n",
       "48122  646415.000    8192.920     0.014      Central       Orange   \n",
       "26163  473106.000    5685.680    -0.004   Floor/Wall  Los Angeles   \n",
       "43370 2200000.000   25216.550     0.275      Central  Los Angeles   \n",
       "\n",
       "       price_per_sqft  \n",
       "47145           0.131  \n",
       "42533           0.004  \n",
       "8452            0.015  \n",
       "51842           0.012  \n",
       "13230           0.008  \n",
       "...               ...  \n",
       "21460           0.014  \n",
       "39892           0.020  \n",
       "48122           0.013  \n",
       "26163           0.013  \n",
       "43370           0.036  \n",
       "\n",
       "[29182 rows x 13 columns]"
      ]
     },
     "execution_count": 127,
     "metadata": {},
     "output_type": "execute_result"
    }
   ],
   "source": [
    "train"
   ]
  },
  {
   "cell_type": "code",
   "execution_count": 128,
   "id": "d7bc5391",
   "metadata": {},
   "outputs": [],
   "source": [
    "X = train[[\"area\", \"price_per_sqft\"]]\n",
    "scaler = MinMaxScaler().fit(X)\n",
    "X_scaled = pd.DataFrame(scaler.transform(X), columns= X.columns).set_index([X.index.values])\n",
    "#define the thing\n",
    "kmeans = KMeans(n_clusters=3, random_state=1349)\n",
    "\n",
    "# fit the thing\n",
    "kmeans.fit(X_scaled)\n",
    "\n",
    "# Use (predict using) the thing \n",
    "kmeans.predict(X_scaled)\n",
    "train['cluster'] = kmeans.predict(X_scaled)\n",
    "X_scaled['cluster'] = kmeans.predict(X_scaled)"
   ]
  },
  {
   "cell_type": "code",
   "execution_count": 129,
   "id": "acbf8bd1",
   "metadata": {},
   "outputs": [
    {
     "ename": "TypeError",
     "evalue": "'Figure' object is not callable",
     "output_type": "error",
     "traceback": [
      "\u001b[0;31m---------------------------------------------------------------------------\u001b[0m",
      "\u001b[0;31mTypeError\u001b[0m                                 Traceback (most recent call last)",
      "\u001b[0;32m<ipython-input-129-67a26079fedf>\u001b[0m in \u001b[0;36m<module>\u001b[0;34m\u001b[0m\n\u001b[0;32m----> 1\u001b[0;31m \u001b[0mplt\u001b[0m\u001b[0;34m.\u001b[0m\u001b[0mfigure\u001b[0m\u001b[0;34m(\u001b[0m\u001b[0mfigsize\u001b[0m\u001b[0;34m=\u001b[0m\u001b[0;34m(\u001b[0m\u001b[0;36m14\u001b[0m\u001b[0;34m,\u001b[0m \u001b[0;36m9\u001b[0m\u001b[0;34m)\u001b[0m\u001b[0;34m)\u001b[0m\u001b[0;34m\u001b[0m\u001b[0;34m\u001b[0m\u001b[0m\n\u001b[0m\u001b[1;32m      2\u001b[0m \u001b[0;32mfor\u001b[0m \u001b[0mcluster\u001b[0m\u001b[0;34m,\u001b[0m \u001b[0msubset\u001b[0m \u001b[0;32min\u001b[0m \u001b[0mtrain\u001b[0m\u001b[0;34m.\u001b[0m\u001b[0mgroupby\u001b[0m\u001b[0;34m(\u001b[0m\u001b[0;34m'cluster'\u001b[0m\u001b[0;34m)\u001b[0m\u001b[0;34m:\u001b[0m\u001b[0;34m\u001b[0m\u001b[0;34m\u001b[0m\u001b[0m\n\u001b[1;32m      3\u001b[0m \u001b[0;34m\u001b[0m\u001b[0m\n\u001b[1;32m      4\u001b[0m     \u001b[0;31m# Here\u001b[0m\u001b[0;34m\u001b[0m\u001b[0;34m\u001b[0m\u001b[0;34m\u001b[0m\u001b[0m\n\u001b[1;32m      5\u001b[0m     \u001b[0mplt\u001b[0m\u001b[0;34m.\u001b[0m\u001b[0mscatter\u001b[0m\u001b[0;34m(\u001b[0m\u001b[0msubset\u001b[0m\u001b[0;34m.\u001b[0m\u001b[0mtax_value\u001b[0m\u001b[0;34m.\u001b[0m\u001b[0msample\u001b[0m\u001b[0;34m(\u001b[0m\u001b[0;36m150\u001b[0m\u001b[0;34m)\u001b[0m\u001b[0;34m,\u001b[0m \u001b[0msubset\u001b[0m\u001b[0;34m.\u001b[0m\u001b[0marea\u001b[0m\u001b[0;34m.\u001b[0m\u001b[0msample\u001b[0m\u001b[0;34m(\u001b[0m\u001b[0;36m150\u001b[0m\u001b[0;34m)\u001b[0m\u001b[0;34m,\u001b[0m \u001b[0mlabel\u001b[0m\u001b[0;34m=\u001b[0m\u001b[0;34m'cluster '\u001b[0m \u001b[0;34m+\u001b[0m \u001b[0mstr\u001b[0m\u001b[0;34m(\u001b[0m\u001b[0mcluster\u001b[0m\u001b[0;34m)\u001b[0m\u001b[0;34m,\u001b[0m \u001b[0malpha\u001b[0m\u001b[0;34m=\u001b[0m\u001b[0;36m.5\u001b[0m\u001b[0;34m,\u001b[0m \u001b[0mcmap\u001b[0m\u001b[0;34m=\u001b[0m\u001b[0;34m'reds'\u001b[0m\u001b[0;34m)\u001b[0m\u001b[0;34m\u001b[0m\u001b[0;34m\u001b[0m\u001b[0m\n",
      "\u001b[0;31mTypeError\u001b[0m: 'Figure' object is not callable"
     ]
    }
   ],
   "source": [
    "plt.figure(figsize=(14, 9))\n",
    "for cluster, subset in train.groupby('cluster'):\n",
    "    \n",
    "    # Here\n",
    "    plt.scatter(subset.tax_value.sample(150), subset.area.sample(150), label='cluster ' + str(cluster), alpha=.5, cmap='reds')\n",
    "    \n",
    "    \n",
    "plt.legend()\n",
    "plt.xlabel('tax_value')\n",
    "plt.ylabel('area')\n",
    "plt.title('Visualizing Clusters')\n",
    "plt.show()"
   ]
  },
  {
   "cell_type": "code",
   "execution_count": 130,
   "id": "7a0a710e",
   "metadata": {},
   "outputs": [
    {
     "ename": "TypeError",
     "evalue": "'Figure' object is not callable",
     "output_type": "error",
     "traceback": [
      "\u001b[0;31m---------------------------------------------------------------------------\u001b[0m",
      "\u001b[0;31mTypeError\u001b[0m                                 Traceback (most recent call last)",
      "\u001b[0;32m<ipython-input-130-d2c75a65ad58>\u001b[0m in \u001b[0;36m<module>\u001b[0;34m\u001b[0m\n\u001b[0;32m----> 1\u001b[0;31m \u001b[0mplt\u001b[0m\u001b[0;34m.\u001b[0m\u001b[0mfigure\u001b[0m\u001b[0;34m(\u001b[0m\u001b[0mfigsize\u001b[0m\u001b[0;34m=\u001b[0m\u001b[0;34m(\u001b[0m\u001b[0;36m14\u001b[0m\u001b[0;34m,\u001b[0m \u001b[0;36m9\u001b[0m\u001b[0;34m)\u001b[0m\u001b[0;34m)\u001b[0m\u001b[0;34m\u001b[0m\u001b[0;34m\u001b[0m\u001b[0m\n\u001b[0m\u001b[1;32m      2\u001b[0m \u001b[0;32mfor\u001b[0m \u001b[0mcluster\u001b[0m\u001b[0;34m,\u001b[0m \u001b[0msubset\u001b[0m \u001b[0;32min\u001b[0m \u001b[0mtrain\u001b[0m\u001b[0;34m.\u001b[0m\u001b[0mgroupby\u001b[0m\u001b[0;34m(\u001b[0m\u001b[0;34m'county'\u001b[0m\u001b[0;34m)\u001b[0m\u001b[0;34m:\u001b[0m\u001b[0;34m\u001b[0m\u001b[0;34m\u001b[0m\u001b[0m\n\u001b[1;32m      3\u001b[0m \u001b[0;34m\u001b[0m\u001b[0m\n\u001b[1;32m      4\u001b[0m     \u001b[0;31m# Here\u001b[0m\u001b[0;34m\u001b[0m\u001b[0;34m\u001b[0m\u001b[0;34m\u001b[0m\u001b[0m\n\u001b[1;32m      5\u001b[0m     \u001b[0mplt\u001b[0m\u001b[0;34m.\u001b[0m\u001b[0mscatter\u001b[0m\u001b[0;34m(\u001b[0m\u001b[0msubset\u001b[0m\u001b[0;34m.\u001b[0m\u001b[0mtax_value\u001b[0m\u001b[0;34m.\u001b[0m\u001b[0msample\u001b[0m\u001b[0;34m(\u001b[0m\u001b[0;36m150\u001b[0m\u001b[0;34m)\u001b[0m\u001b[0;34m,\u001b[0m \u001b[0msubset\u001b[0m\u001b[0;34m.\u001b[0m\u001b[0marea\u001b[0m\u001b[0;34m.\u001b[0m\u001b[0msample\u001b[0m\u001b[0;34m(\u001b[0m\u001b[0;36m150\u001b[0m\u001b[0;34m)\u001b[0m\u001b[0;34m,\u001b[0m \u001b[0mlabel\u001b[0m\u001b[0;34m=\u001b[0m\u001b[0mstr\u001b[0m\u001b[0;34m(\u001b[0m\u001b[0mcluster\u001b[0m\u001b[0;34m)\u001b[0m\u001b[0;34m,\u001b[0m \u001b[0malpha\u001b[0m\u001b[0;34m=\u001b[0m\u001b[0;36m.5\u001b[0m\u001b[0;34m)\u001b[0m\u001b[0;34m\u001b[0m\u001b[0;34m\u001b[0m\u001b[0m\n",
      "\u001b[0;31mTypeError\u001b[0m: 'Figure' object is not callable"
     ]
    }
   ],
   "source": [
    "plt.figure(figsize=(14, 9))\n",
    "for cluster, subset in train.groupby('county'):\n",
    "    \n",
    "    # Here\n",
    "    plt.scatter(subset.tax_value.sample(150), subset.area.sample(150), label=str(cluster), alpha=.5)\n",
    "\n",
    "\n",
    "plt.legend()\n",
    "plt.xlabel('area')\n",
    "plt.ylabel('tax_value')\n",
    "plt.title('Visualizing counties')\n",
    "plt.show()"
   ]
  },
  {
   "cell_type": "markdown",
   "id": "c43f6ce5",
   "metadata": {},
   "source": [
    "# Removing more Outliers k = 1.5"
   ]
  },
  {
   "cell_type": "code",
   "execution_count": 131,
   "id": "9a2feaca",
   "metadata": {},
   "outputs": [],
   "source": [
    "train, validate, test = wrangle_mode('cluster')"
   ]
  },
  {
   "cell_type": "code",
   "execution_count": 132,
   "id": "90d2f69a",
   "metadata": {},
   "outputs": [],
   "source": [
    "X = train[[\"area\", \"price_per_sqft\"]]\n",
    "scaler = MinMaxScaler().fit(X)\n",
    "X_scaled = pd.DataFrame(scaler.transform(X), columns= X.columns).set_index([X.index.values])\n",
    "#define the thing\n",
    "kmeans = KMeans(n_clusters=3, random_state=1349)\n",
    "\n",
    "# fit the thing\n",
    "kmeans.fit(X_scaled)\n",
    "\n",
    "# Use (predict using) the thing \n",
    "kmeans.predict(X_scaled)\n",
    "train['cluster'] = kmeans.predict(X_scaled)\n",
    "X_scaled['cluster'] = kmeans.predict(X_scaled)"
   ]
  },
  {
   "cell_type": "code",
   "execution_count": 133,
   "id": "49b94685",
   "metadata": {},
   "outputs": [
    {
     "ename": "TypeError",
     "evalue": "'Figure' object is not callable",
     "output_type": "error",
     "traceback": [
      "\u001b[0;31m---------------------------------------------------------------------------\u001b[0m",
      "\u001b[0;31mTypeError\u001b[0m                                 Traceback (most recent call last)",
      "\u001b[0;32m<ipython-input-133-67a26079fedf>\u001b[0m in \u001b[0;36m<module>\u001b[0;34m\u001b[0m\n\u001b[0;32m----> 1\u001b[0;31m \u001b[0mplt\u001b[0m\u001b[0;34m.\u001b[0m\u001b[0mfigure\u001b[0m\u001b[0;34m(\u001b[0m\u001b[0mfigsize\u001b[0m\u001b[0;34m=\u001b[0m\u001b[0;34m(\u001b[0m\u001b[0;36m14\u001b[0m\u001b[0;34m,\u001b[0m \u001b[0;36m9\u001b[0m\u001b[0;34m)\u001b[0m\u001b[0;34m)\u001b[0m\u001b[0;34m\u001b[0m\u001b[0;34m\u001b[0m\u001b[0m\n\u001b[0m\u001b[1;32m      2\u001b[0m \u001b[0;32mfor\u001b[0m \u001b[0mcluster\u001b[0m\u001b[0;34m,\u001b[0m \u001b[0msubset\u001b[0m \u001b[0;32min\u001b[0m \u001b[0mtrain\u001b[0m\u001b[0;34m.\u001b[0m\u001b[0mgroupby\u001b[0m\u001b[0;34m(\u001b[0m\u001b[0;34m'cluster'\u001b[0m\u001b[0;34m)\u001b[0m\u001b[0;34m:\u001b[0m\u001b[0;34m\u001b[0m\u001b[0;34m\u001b[0m\u001b[0m\n\u001b[1;32m      3\u001b[0m \u001b[0;34m\u001b[0m\u001b[0m\n\u001b[1;32m      4\u001b[0m     \u001b[0;31m# Here\u001b[0m\u001b[0;34m\u001b[0m\u001b[0;34m\u001b[0m\u001b[0;34m\u001b[0m\u001b[0m\n\u001b[1;32m      5\u001b[0m     \u001b[0mplt\u001b[0m\u001b[0;34m.\u001b[0m\u001b[0mscatter\u001b[0m\u001b[0;34m(\u001b[0m\u001b[0msubset\u001b[0m\u001b[0;34m.\u001b[0m\u001b[0mtax_value\u001b[0m\u001b[0;34m.\u001b[0m\u001b[0msample\u001b[0m\u001b[0;34m(\u001b[0m\u001b[0;36m150\u001b[0m\u001b[0;34m)\u001b[0m\u001b[0;34m,\u001b[0m \u001b[0msubset\u001b[0m\u001b[0;34m.\u001b[0m\u001b[0marea\u001b[0m\u001b[0;34m.\u001b[0m\u001b[0msample\u001b[0m\u001b[0;34m(\u001b[0m\u001b[0;36m150\u001b[0m\u001b[0;34m)\u001b[0m\u001b[0;34m,\u001b[0m \u001b[0mlabel\u001b[0m\u001b[0;34m=\u001b[0m\u001b[0;34m'cluster '\u001b[0m \u001b[0;34m+\u001b[0m \u001b[0mstr\u001b[0m\u001b[0;34m(\u001b[0m\u001b[0mcluster\u001b[0m\u001b[0;34m)\u001b[0m\u001b[0;34m,\u001b[0m \u001b[0malpha\u001b[0m\u001b[0;34m=\u001b[0m\u001b[0;36m.5\u001b[0m\u001b[0;34m,\u001b[0m \u001b[0mcmap\u001b[0m\u001b[0;34m=\u001b[0m\u001b[0;34m'reds'\u001b[0m\u001b[0;34m)\u001b[0m\u001b[0;34m\u001b[0m\u001b[0;34m\u001b[0m\u001b[0m\n",
      "\u001b[0;31mTypeError\u001b[0m: 'Figure' object is not callable"
     ]
    }
   ],
   "source": [
    "plt.figure(figsize=(14, 9))\n",
    "for cluster, subset in train.groupby('cluster'):\n",
    "    \n",
    "    # Here\n",
    "    plt.scatter(subset.tax_value.sample(150), subset.area.sample(150), label='cluster ' + str(cluster), alpha=.5, cmap='reds')\n",
    "    \n",
    "    \n",
    "plt.legend()\n",
    "plt.xlabel('tax_value')\n",
    "plt.ylabel('area')\n",
    "plt.title('Visualizing Clusters')\n",
    "plt.show()"
   ]
  },
  {
   "cell_type": "code",
   "execution_count": null,
   "id": "de028f5c",
   "metadata": {},
   "outputs": [],
   "source": [
    "train[\"bracket\"] = pd.cut(train.tax_value, [0, 500_000, 1_000_000, 25_000_000], labels=['low', 'mid', 'high'])"
   ]
  },
  {
   "cell_type": "code",
   "execution_count": null,
   "id": "b8995afb",
   "metadata": {},
   "outputs": [],
   "source": [
    "plt.figure(figsize=(14, 9))\n",
    "for cluster, subset in train.groupby(\"bracket\"):\n",
    "    \n",
    "    # Here\n",
    "    plt.scatter(subset.area, subset.tax_value, label=str(cluster), alpha=.5)\n",
    "\n",
    "\n",
    "plt.legend()\n",
    "plt.xlabel('area')\n",
    "plt.ylabel('tax_value')\n",
    "plt.title('Visualizing counties')\n",
    "plt.show()"
   ]
  },
  {
   "cell_type": "code",
   "execution_count": null,
   "id": "93062e57",
   "metadata": {},
   "outputs": [],
   "source": [
    "plt.figure(figsize=(14, 9))\n",
    "for cluster, subset in train.groupby('county'):\n",
    "    \n",
    "    # Here\n",
    "    plt.scatter(subset.tax_value.sample(150), subset.area.sample(150), label=str(cluster), alpha=.5)\n",
    "\n",
    "\n",
    "plt.legend()\n",
    "plt.xlabel('area')\n",
    "plt.ylabel('tax_value')\n",
    "plt.title('Visualizing counties')\n",
    "plt.show()"
   ]
  },
  {
   "cell_type": "markdown",
   "id": "ca06f286",
   "metadata": {},
   "source": [
    "# Removing more Outliers k = 2.5"
   ]
  },
  {
   "cell_type": "code",
   "execution_count": 142,
   "id": "5db0c2a8",
   "metadata": {},
   "outputs": [
    {
     "ename": "TypeError",
     "evalue": "'Figure' object is not callable",
     "output_type": "error",
     "traceback": [
      "\u001b[0;31m---------------------------------------------------------------------------\u001b[0m",
      "\u001b[0;31mTypeError\u001b[0m                                 Traceback (most recent call last)",
      "\u001b[0;32m<ipython-input-142-31ccb2a08b73>\u001b[0m in \u001b[0;36m<module>\u001b[0;34m\u001b[0m\n\u001b[1;32m     15\u001b[0m \u001b[0mX_scaled\u001b[0m\u001b[0;34m[\u001b[0m\u001b[0;34m'cluster'\u001b[0m\u001b[0;34m]\u001b[0m \u001b[0;34m=\u001b[0m \u001b[0mkmeans\u001b[0m\u001b[0;34m.\u001b[0m\u001b[0mpredict\u001b[0m\u001b[0;34m(\u001b[0m\u001b[0mX_scaled\u001b[0m\u001b[0;34m)\u001b[0m\u001b[0;34m\u001b[0m\u001b[0;34m\u001b[0m\u001b[0m\n\u001b[1;32m     16\u001b[0m \u001b[0;34m\u001b[0m\u001b[0m\n\u001b[0;32m---> 17\u001b[0;31m \u001b[0mplt\u001b[0m\u001b[0;34m.\u001b[0m\u001b[0mfigure\u001b[0m\u001b[0;34m(\u001b[0m\u001b[0mfigsize\u001b[0m\u001b[0;34m=\u001b[0m\u001b[0;34m(\u001b[0m\u001b[0;36m14\u001b[0m\u001b[0;34m,\u001b[0m \u001b[0;36m9\u001b[0m\u001b[0;34m)\u001b[0m\u001b[0;34m)\u001b[0m\u001b[0;34m\u001b[0m\u001b[0;34m\u001b[0m\u001b[0m\n\u001b[0m\u001b[1;32m     18\u001b[0m \u001b[0;32mfor\u001b[0m \u001b[0mcluster\u001b[0m\u001b[0;34m,\u001b[0m \u001b[0msubset\u001b[0m \u001b[0;32min\u001b[0m \u001b[0mtrain\u001b[0m\u001b[0;34m.\u001b[0m\u001b[0mgroupby\u001b[0m\u001b[0;34m(\u001b[0m\u001b[0;34m'cluster'\u001b[0m\u001b[0;34m)\u001b[0m\u001b[0;34m:\u001b[0m\u001b[0;34m\u001b[0m\u001b[0;34m\u001b[0m\u001b[0m\n\u001b[1;32m     19\u001b[0m \u001b[0;34m\u001b[0m\u001b[0m\n",
      "\u001b[0;31mTypeError\u001b[0m: 'Figure' object is not callable"
     ]
    }
   ],
   "source": [
    "train, validate, test = wrangle_mode('cluster')\n",
    "\n",
    "X = train[[\"area\", \"price_per_sqft\"]]\n",
    "scaler = MinMaxScaler().fit(X)\n",
    "X_scaled = pd.DataFrame(scaler.transform(X), columns= X.columns).set_index([X.index.values])\n",
    "#define the thing\n",
    "kmeans = KMeans(n_clusters=3, random_state=1349)\n",
    "\n",
    "# fit the thing\n",
    "kmeans.fit(X_scaled)\n",
    "\n",
    "# Use (predict using) the thing \n",
    "kmeans.predict(X_scaled)\n",
    "train['cluster'] = kmeans.predict(X_scaled)\n",
    "X_scaled['cluster'] = kmeans.predict(X_scaled)\n",
    "\n",
    "plt.figure(figsize=(14, 9))\n",
    "for cluster, subset in train.groupby('cluster'):\n",
    "    \n",
    "    # Here\n",
    "    plt.scatter(subset.tax_value.sample(150), subset.area.sample(150), label='cluster ' + str(cluster), alpha=.5, cmap='reds')\n",
    "    \n",
    "    \n",
    "plt.legend()\n",
    "plt.xlabel('tax_value')\n",
    "plt.ylabel('area')\n",
    "plt.title('Visualizing Clusters')\n",
    "plt.show()"
   ]
  },
  {
   "cell_type": "code",
   "execution_count": null,
   "id": "cf9ec78d",
   "metadata": {},
   "outputs": [],
   "source": [
    "train[\"bracket\"] = pd.cut(train.tax_value, [0, 500_000, 1_000_000, 25_000_000], labels=['low', 'mid', 'high'])\n",
    "\n",
    "plt.figure(figsize=(14, 9))\n",
    "for cluster, subset in train.groupby(\"bracket\"):\n",
    "    \n",
    "    # Here\n",
    "    plt.scatter(subset.area.sample(150), subset.tax_value.sample(150), label=str(cluster), alpha=.5)\n",
    "\n",
    "\n",
    "plt.legend()\n",
    "plt.xlabel('area')\n",
    "plt.ylabel('tax_value')\n",
    "plt.title('Visualizing counties')\n",
    "plt.show()"
   ]
  },
  {
   "cell_type": "code",
   "execution_count": 143,
   "id": "b248cd5c",
   "metadata": {},
   "outputs": [
    {
     "data": {
      "text/html": [
       "<div>\n",
       "<style scoped>\n",
       "    .dataframe tbody tr th:only-of-type {\n",
       "        vertical-align: middle;\n",
       "    }\n",
       "\n",
       "    .dataframe tbody tr th {\n",
       "        vertical-align: top;\n",
       "    }\n",
       "\n",
       "    .dataframe thead th {\n",
       "        text-align: right;\n",
       "    }\n",
       "</style>\n",
       "<table border=\"1\" class=\"dataframe\">\n",
       "  <thead>\n",
       "    <tr style=\"text-align: right;\">\n",
       "      <th></th>\n",
       "      <th>area</th>\n",
       "      <th>price_per_sqft</th>\n",
       "    </tr>\n",
       "    <tr>\n",
       "      <th>cluster</th>\n",
       "      <th></th>\n",
       "      <th></th>\n",
       "    </tr>\n",
       "  </thead>\n",
       "  <tbody>\n",
       "    <tr>\n",
       "      <th>0</th>\n",
       "      <td>4501.364</td>\n",
       "      <td>0.021</td>\n",
       "    </tr>\n",
       "    <tr>\n",
       "      <th>1</th>\n",
       "      <td>2506.984</td>\n",
       "      <td>0.026</td>\n",
       "    </tr>\n",
       "    <tr>\n",
       "      <th>2</th>\n",
       "      <td>1359.665</td>\n",
       "      <td>0.043</td>\n",
       "    </tr>\n",
       "  </tbody>\n",
       "</table>\n",
       "</div>"
      ],
      "text/plain": [
       "            area  price_per_sqft\n",
       "cluster                         \n",
       "0       4501.364           0.021\n",
       "1       2506.984           0.026\n",
       "2       1359.665           0.043"
      ]
     },
     "execution_count": 143,
     "metadata": {},
     "output_type": "execute_result"
    }
   ],
   "source": [
    "centroids = train.groupby('cluster')['area', 'price_per_sqft'].mean()\n",
    "centroids"
   ]
  },
  {
   "cell_type": "code",
   "execution_count": 137,
   "id": "ceff57b3",
   "metadata": {},
   "outputs": [
    {
     "ename": "AttributeError",
     "evalue": "'AxesSubplot' object has no attribute 'style'",
     "output_type": "error",
     "traceback": [
      "\u001b[0;31m---------------------------------------------------------------------------\u001b[0m",
      "\u001b[0;31mAttributeError\u001b[0m                            Traceback (most recent call last)",
      "\u001b[0;32m<ipython-input-137-5256e0ba7082>\u001b[0m in \u001b[0;36m<module>\u001b[0;34m\u001b[0m\n\u001b[0;32m----> 1\u001b[0;31m \u001b[0;32mwith\u001b[0m \u001b[0mplt\u001b[0m\u001b[0;34m.\u001b[0m\u001b[0mstyle\u001b[0m\u001b[0;34m.\u001b[0m\u001b[0mcontext\u001b[0m\u001b[0;34m(\u001b[0m\u001b[0;34m'seaborn-whitegrid'\u001b[0m\u001b[0;34m)\u001b[0m\u001b[0;34m:\u001b[0m\u001b[0;34m\u001b[0m\u001b[0;34m\u001b[0m\u001b[0m\n\u001b[0m\u001b[1;32m      2\u001b[0m     \u001b[0mplt\u001b[0m\u001b[0;34m.\u001b[0m\u001b[0mfigure\u001b[0m\u001b[0;34m(\u001b[0m\u001b[0mfigsize\u001b[0m\u001b[0;34m=\u001b[0m\u001b[0;34m(\u001b[0m\u001b[0;36m9\u001b[0m\u001b[0;34m,\u001b[0m \u001b[0;36m6\u001b[0m\u001b[0;34m)\u001b[0m\u001b[0;34m)\u001b[0m\u001b[0;34m\u001b[0m\u001b[0;34m\u001b[0m\u001b[0m\n\u001b[1;32m      3\u001b[0m     \u001b[0mpd\u001b[0m\u001b[0;34m.\u001b[0m\u001b[0mSeries\u001b[0m\u001b[0;34m(\u001b[0m\u001b[0;34m{\u001b[0m\u001b[0mk\u001b[0m\u001b[0;34m:\u001b[0m \u001b[0mKMeans\u001b[0m\u001b[0;34m(\u001b[0m\u001b[0mk\u001b[0m\u001b[0;34m)\u001b[0m\u001b[0;34m.\u001b[0m\u001b[0mfit\u001b[0m\u001b[0;34m(\u001b[0m\u001b[0mX_scaled\u001b[0m\u001b[0;34m)\u001b[0m\u001b[0;34m.\u001b[0m\u001b[0minertia_\u001b[0m \u001b[0;32mfor\u001b[0m \u001b[0mk\u001b[0m \u001b[0;32min\u001b[0m \u001b[0mrange\u001b[0m\u001b[0;34m(\u001b[0m\u001b[0;36m2\u001b[0m\u001b[0;34m,\u001b[0m \u001b[0;36m12\u001b[0m\u001b[0;34m)\u001b[0m\u001b[0;34m}\u001b[0m\u001b[0;34m)\u001b[0m\u001b[0;34m.\u001b[0m\u001b[0mplot\u001b[0m\u001b[0;34m(\u001b[0m\u001b[0mmarker\u001b[0m\u001b[0;34m=\u001b[0m\u001b[0;34m'x'\u001b[0m\u001b[0;34m)\u001b[0m\u001b[0;34m\u001b[0m\u001b[0;34m\u001b[0m\u001b[0m\n\u001b[1;32m      4\u001b[0m     \u001b[0mplt\u001b[0m\u001b[0;34m.\u001b[0m\u001b[0mxticks\u001b[0m\u001b[0;34m(\u001b[0m\u001b[0mrange\u001b[0m\u001b[0;34m(\u001b[0m\u001b[0;36m2\u001b[0m\u001b[0;34m,\u001b[0m \u001b[0;36m12\u001b[0m\u001b[0;34m)\u001b[0m\u001b[0;34m)\u001b[0m\u001b[0;34m\u001b[0m\u001b[0;34m\u001b[0m\u001b[0m\n\u001b[1;32m      5\u001b[0m     \u001b[0mplt\u001b[0m\u001b[0;34m.\u001b[0m\u001b[0mxlabel\u001b[0m\u001b[0;34m(\u001b[0m\u001b[0;34m'k'\u001b[0m\u001b[0;34m)\u001b[0m\u001b[0;34m\u001b[0m\u001b[0;34m\u001b[0m\u001b[0m\n",
      "\u001b[0;31mAttributeError\u001b[0m: 'AxesSubplot' object has no attribute 'style'"
     ]
    }
   ],
   "source": [
    "with plt.style.context('seaborn-whitegrid'):\n",
    "    plt.figure(figsize=(9, 6))\n",
    "    pd.Series({k: KMeans(k).fit(X_scaled).inertia_ for k in range(2, 12)}).plot(marker='x')\n",
    "    plt.xticks(range(2, 12))\n",
    "    plt.xlabel('k')\n",
    "    plt.ylabel('inertia')\n",
    "    plt.title('Change in inertia as k increases')"
   ]
  },
  {
   "cell_type": "markdown",
   "id": "7fe5ad6c",
   "metadata": {},
   "source": [
    "# Removing more Outliers k = 3.5"
   ]
  },
  {
   "cell_type": "code",
   "execution_count": 141,
   "id": "e15b41ed",
   "metadata": {},
   "outputs": [
    {
     "ename": "TypeError",
     "evalue": "'Figure' object is not callable",
     "output_type": "error",
     "traceback": [
      "\u001b[0;31m---------------------------------------------------------------------------\u001b[0m",
      "\u001b[0;31mTypeError\u001b[0m                                 Traceback (most recent call last)",
      "\u001b[0;32m<ipython-input-141-31ccb2a08b73>\u001b[0m in \u001b[0;36m<module>\u001b[0;34m\u001b[0m\n\u001b[1;32m     15\u001b[0m \u001b[0mX_scaled\u001b[0m\u001b[0;34m[\u001b[0m\u001b[0;34m'cluster'\u001b[0m\u001b[0;34m]\u001b[0m \u001b[0;34m=\u001b[0m \u001b[0mkmeans\u001b[0m\u001b[0;34m.\u001b[0m\u001b[0mpredict\u001b[0m\u001b[0;34m(\u001b[0m\u001b[0mX_scaled\u001b[0m\u001b[0;34m)\u001b[0m\u001b[0;34m\u001b[0m\u001b[0;34m\u001b[0m\u001b[0m\n\u001b[1;32m     16\u001b[0m \u001b[0;34m\u001b[0m\u001b[0m\n\u001b[0;32m---> 17\u001b[0;31m \u001b[0mplt\u001b[0m\u001b[0;34m.\u001b[0m\u001b[0mfigure\u001b[0m\u001b[0;34m(\u001b[0m\u001b[0mfigsize\u001b[0m\u001b[0;34m=\u001b[0m\u001b[0;34m(\u001b[0m\u001b[0;36m14\u001b[0m\u001b[0;34m,\u001b[0m \u001b[0;36m9\u001b[0m\u001b[0;34m)\u001b[0m\u001b[0;34m)\u001b[0m\u001b[0;34m\u001b[0m\u001b[0;34m\u001b[0m\u001b[0m\n\u001b[0m\u001b[1;32m     18\u001b[0m \u001b[0;32mfor\u001b[0m \u001b[0mcluster\u001b[0m\u001b[0;34m,\u001b[0m \u001b[0msubset\u001b[0m \u001b[0;32min\u001b[0m \u001b[0mtrain\u001b[0m\u001b[0;34m.\u001b[0m\u001b[0mgroupby\u001b[0m\u001b[0;34m(\u001b[0m\u001b[0;34m'cluster'\u001b[0m\u001b[0;34m)\u001b[0m\u001b[0;34m:\u001b[0m\u001b[0;34m\u001b[0m\u001b[0;34m\u001b[0m\u001b[0m\n\u001b[1;32m     19\u001b[0m \u001b[0;34m\u001b[0m\u001b[0m\n",
      "\u001b[0;31mTypeError\u001b[0m: 'Figure' object is not callable"
     ]
    }
   ],
   "source": [
    "train, validate, test = wrangle_mode('cluster')\n",
    "\n",
    "X = train[[\"area\", \"price_per_sqft\"]]\n",
    "scaler = MinMaxScaler().fit(X)\n",
    "X_scaled = pd.DataFrame(scaler.transform(X), columns= X.columns).set_index([X.index.values])\n",
    "#define the thing\n",
    "kmeans = KMeans(n_clusters=3, random_state=1349)\n",
    "\n",
    "# fit the thing\n",
    "kmeans.fit(X_scaled)\n",
    "\n",
    "# Use (predict using) the thing \n",
    "kmeans.predict(X_scaled)\n",
    "train['cluster'] = kmeans.predict(X_scaled)\n",
    "X_scaled['cluster'] = kmeans.predict(X_scaled)\n",
    "\n",
    "plt.figure(figsize=(14, 9))\n",
    "for cluster, subset in train.groupby('cluster'):\n",
    "    \n",
    "    # Here\n",
    "    plt.scatter(subset.tax_value.sample(150), subset.area.sample(150), label='cluster ' + str(cluster), alpha=.5, cmap='reds')\n",
    "    \n",
    "    \n",
    "plt.legend()\n",
    "plt.xlabel('tax_value')\n",
    "plt.ylabel('area')\n",
    "plt.title('Visualizing Clusters')\n",
    "plt.show()"
   ]
  },
  {
   "cell_type": "code",
   "execution_count": 144,
   "id": "2862b9cd",
   "metadata": {},
   "outputs": [
    {
     "ename": "TypeError",
     "evalue": "'Figure' object is not callable",
     "output_type": "error",
     "traceback": [
      "\u001b[0;31m---------------------------------------------------------------------------\u001b[0m",
      "\u001b[0;31mTypeError\u001b[0m                                 Traceback (most recent call last)",
      "\u001b[0;32m<ipython-input-144-9809e5079cd7>\u001b[0m in \u001b[0;36m<module>\u001b[0;34m\u001b[0m\n\u001b[1;32m      1\u001b[0m \u001b[0mtrain\u001b[0m\u001b[0;34m[\u001b[0m\u001b[0;34m\"bracket\"\u001b[0m\u001b[0;34m]\u001b[0m \u001b[0;34m=\u001b[0m \u001b[0mpd\u001b[0m\u001b[0;34m.\u001b[0m\u001b[0mcut\u001b[0m\u001b[0;34m(\u001b[0m\u001b[0mtrain\u001b[0m\u001b[0;34m.\u001b[0m\u001b[0mtax_value\u001b[0m\u001b[0;34m,\u001b[0m \u001b[0;34m[\u001b[0m\u001b[0;36m0\u001b[0m\u001b[0;34m,\u001b[0m \u001b[0;36m500_000\u001b[0m\u001b[0;34m,\u001b[0m \u001b[0;36m1_000_000\u001b[0m\u001b[0;34m,\u001b[0m \u001b[0;36m25_000_000\u001b[0m\u001b[0;34m]\u001b[0m\u001b[0;34m,\u001b[0m \u001b[0mlabels\u001b[0m\u001b[0;34m=\u001b[0m\u001b[0;34m[\u001b[0m\u001b[0;34m'low'\u001b[0m\u001b[0;34m,\u001b[0m \u001b[0;34m'mid'\u001b[0m\u001b[0;34m,\u001b[0m \u001b[0;34m'high'\u001b[0m\u001b[0;34m]\u001b[0m\u001b[0;34m)\u001b[0m\u001b[0;34m\u001b[0m\u001b[0;34m\u001b[0m\u001b[0m\n\u001b[1;32m      2\u001b[0m \u001b[0;34m\u001b[0m\u001b[0m\n\u001b[0;32m----> 3\u001b[0;31m \u001b[0mplt\u001b[0m\u001b[0;34m.\u001b[0m\u001b[0mfigure\u001b[0m\u001b[0;34m(\u001b[0m\u001b[0mfigsize\u001b[0m\u001b[0;34m=\u001b[0m\u001b[0;34m(\u001b[0m\u001b[0;36m14\u001b[0m\u001b[0;34m,\u001b[0m \u001b[0;36m9\u001b[0m\u001b[0;34m)\u001b[0m\u001b[0;34m)\u001b[0m\u001b[0;34m\u001b[0m\u001b[0;34m\u001b[0m\u001b[0m\n\u001b[0m\u001b[1;32m      4\u001b[0m \u001b[0;32mfor\u001b[0m \u001b[0mcluster\u001b[0m\u001b[0;34m,\u001b[0m \u001b[0msubset\u001b[0m \u001b[0;32min\u001b[0m \u001b[0mtrain\u001b[0m\u001b[0;34m.\u001b[0m\u001b[0mgroupby\u001b[0m\u001b[0;34m(\u001b[0m\u001b[0;34m\"bracket\"\u001b[0m\u001b[0;34m)\u001b[0m\u001b[0;34m:\u001b[0m\u001b[0;34m\u001b[0m\u001b[0;34m\u001b[0m\u001b[0m\n\u001b[1;32m      5\u001b[0m \u001b[0;34m\u001b[0m\u001b[0m\n",
      "\u001b[0;31mTypeError\u001b[0m: 'Figure' object is not callable"
     ]
    }
   ],
   "source": [
    "train[\"bracket\"] = pd.cut(train.tax_value, [0, 500_000, 1_000_000, 25_000_000], labels=['low', 'mid', 'high'])\n",
    "\n",
    "plt.figure(figsize=(14, 9))\n",
    "for cluster, subset in train.groupby(\"bracket\"):\n",
    "    \n",
    "    # Here\n",
    "    plt.scatter(subset.tax_value.sample(150), subset.area.sample(150), label=str(cluster), alpha=.5)\n",
    "\n",
    "\n",
    "plt.legend()\n",
    "plt.xlabel('tax value')\n",
    "plt.ylabel('area')\n",
    "plt.title('Visualizing counties')\n",
    "plt.show()"
   ]
  },
  {
   "cell_type": "code",
   "execution_count": 145,
   "id": "4f85dfee",
   "metadata": {},
   "outputs": [
    {
     "data": {
      "text/html": [
       "<div>\n",
       "<style scoped>\n",
       "    .dataframe tbody tr th:only-of-type {\n",
       "        vertical-align: middle;\n",
       "    }\n",
       "\n",
       "    .dataframe tbody tr th {\n",
       "        vertical-align: top;\n",
       "    }\n",
       "\n",
       "    .dataframe thead th {\n",
       "        text-align: right;\n",
       "    }\n",
       "</style>\n",
       "<table border=\"1\" class=\"dataframe\">\n",
       "  <thead>\n",
       "    <tr style=\"text-align: right;\">\n",
       "      <th></th>\n",
       "      <th>area</th>\n",
       "      <th>price_per_sqft</th>\n",
       "    </tr>\n",
       "    <tr>\n",
       "      <th>cluster</th>\n",
       "      <th></th>\n",
       "      <th></th>\n",
       "    </tr>\n",
       "  </thead>\n",
       "  <tbody>\n",
       "    <tr>\n",
       "      <th>0</th>\n",
       "      <td>4501.364</td>\n",
       "      <td>0.021</td>\n",
       "    </tr>\n",
       "    <tr>\n",
       "      <th>1</th>\n",
       "      <td>2506.984</td>\n",
       "      <td>0.026</td>\n",
       "    </tr>\n",
       "    <tr>\n",
       "      <th>2</th>\n",
       "      <td>1359.665</td>\n",
       "      <td>0.043</td>\n",
       "    </tr>\n",
       "  </tbody>\n",
       "</table>\n",
       "</div>"
      ],
      "text/plain": [
       "            area  price_per_sqft\n",
       "cluster                         \n",
       "0       4501.364           0.021\n",
       "1       2506.984           0.026\n",
       "2       1359.665           0.043"
      ]
     },
     "execution_count": 145,
     "metadata": {},
     "output_type": "execute_result"
    }
   ],
   "source": [
    "centroids = train.groupby('cluster')['area', 'price_per_sqft'].mean()\n",
    "centroids"
   ]
  },
  {
   "cell_type": "code",
   "execution_count": null,
   "id": "f387422a",
   "metadata": {},
   "outputs": [],
   "source": [
    "centroids = train.groupby('cluster')['area', 'price_per_sqft'].mean()\n",
    "centroids\n",
    "\n",
    "with plt.style.context('seaborn-whitegrid'):\n",
    "    plt.figure(figsize=(9, 6))\n",
    "    pd.Series({k: KMeans(k).fit(X_scaled).inertia_ for k in range(2, 12)}).plot(marker='x')\n",
    "    plt.xticks(range(2, 12))\n",
    "    plt.xlabel('k')\n",
    "    plt.ylabel('inertia')\n",
    "    plt.title('Change in inertia as k increases')"
   ]
  },
  {
   "cell_type": "markdown",
   "id": "5d4ee4f6",
   "metadata": {},
   "source": [
    "# Checking Long and Lat"
   ]
  },
  {
   "cell_type": "code",
   "execution_count": 146,
   "id": "adb6932b",
   "metadata": {},
   "outputs": [],
   "source": [
    "train, validate, test = wrangle_mode('intial_explore')"
   ]
  },
  {
   "cell_type": "code",
   "execution_count": 147,
   "id": "8a75001e",
   "metadata": {},
   "outputs": [],
   "source": [
    "X = train[[\"lat\",\"long\", 'area', \"price_per_sqft\"]]\n",
    "scaler = MinMaxScaler().fit(X)\n",
    "X_scaled = pd.DataFrame(scaler.transform(X), columns= X.columns).set_index([X.index.values])\n",
    "#define the thing\n",
    "kmeans = KMeans(n_clusters=4, random_state=1349)\n",
    "\n",
    "# fit the thing\n",
    "kmeans.fit(X_scaled)\n",
    "\n",
    "# Use (predict using) the thing \n",
    "kmeans.predict(X_scaled)\n",
    "train['cluster'] = kmeans.predict(X_scaled)\n",
    "X_scaled['cluster'] = kmeans.predict(X_scaled)"
   ]
  },
  {
   "cell_type": "code",
   "execution_count": 148,
   "id": "4a1db1a1",
   "metadata": {},
   "outputs": [
    {
     "ename": "TypeError",
     "evalue": "'Figure' object is not callable",
     "output_type": "error",
     "traceback": [
      "\u001b[0;31m---------------------------------------------------------------------------\u001b[0m",
      "\u001b[0;31mTypeError\u001b[0m                                 Traceback (most recent call last)",
      "\u001b[0;32m<ipython-input-148-c6d973477a0b>\u001b[0m in \u001b[0;36m<module>\u001b[0;34m\u001b[0m\n\u001b[0;32m----> 1\u001b[0;31m \u001b[0mplt\u001b[0m\u001b[0;34m.\u001b[0m\u001b[0mfigure\u001b[0m\u001b[0;34m(\u001b[0m\u001b[0mfigsize\u001b[0m\u001b[0;34m=\u001b[0m\u001b[0;34m(\u001b[0m\u001b[0;36m14\u001b[0m\u001b[0;34m,\u001b[0m \u001b[0;36m9\u001b[0m\u001b[0;34m)\u001b[0m\u001b[0;34m)\u001b[0m\u001b[0;34m\u001b[0m\u001b[0;34m\u001b[0m\u001b[0m\n\u001b[0m\u001b[1;32m      2\u001b[0m \u001b[0;32mfor\u001b[0m \u001b[0mcluster\u001b[0m\u001b[0;34m,\u001b[0m \u001b[0msubset\u001b[0m \u001b[0;32min\u001b[0m \u001b[0mtrain\u001b[0m\u001b[0;34m.\u001b[0m\u001b[0mgroupby\u001b[0m\u001b[0;34m(\u001b[0m\u001b[0;34m'cluster'\u001b[0m\u001b[0;34m)\u001b[0m\u001b[0;34m:\u001b[0m\u001b[0;34m\u001b[0m\u001b[0;34m\u001b[0m\u001b[0m\n\u001b[1;32m      3\u001b[0m \u001b[0;34m\u001b[0m\u001b[0m\n\u001b[1;32m      4\u001b[0m     \u001b[0;31m# Here\u001b[0m\u001b[0;34m\u001b[0m\u001b[0;34m\u001b[0m\u001b[0;34m\u001b[0m\u001b[0m\n\u001b[1;32m      5\u001b[0m     \u001b[0mplt\u001b[0m\u001b[0;34m.\u001b[0m\u001b[0mscatter\u001b[0m\u001b[0;34m(\u001b[0m\u001b[0msubset\u001b[0m\u001b[0;34m.\u001b[0m\u001b[0mlat\u001b[0m\u001b[0;34m.\u001b[0m\u001b[0msample\u001b[0m\u001b[0;34m(\u001b[0m\u001b[0;36m150\u001b[0m\u001b[0;34m)\u001b[0m\u001b[0;34m,\u001b[0m \u001b[0msubset\u001b[0m\u001b[0;34m.\u001b[0m\u001b[0mlong\u001b[0m\u001b[0;34m.\u001b[0m\u001b[0msample\u001b[0m\u001b[0;34m(\u001b[0m\u001b[0;36m150\u001b[0m\u001b[0;34m)\u001b[0m\u001b[0;34m,\u001b[0m \u001b[0mlabel\u001b[0m\u001b[0;34m=\u001b[0m\u001b[0;34m'cluster '\u001b[0m \u001b[0;34m+\u001b[0m \u001b[0mstr\u001b[0m\u001b[0;34m(\u001b[0m\u001b[0mcluster\u001b[0m\u001b[0;34m)\u001b[0m\u001b[0;34m,\u001b[0m \u001b[0malpha\u001b[0m\u001b[0;34m=\u001b[0m\u001b[0;36m.5\u001b[0m\u001b[0;34m,\u001b[0m \u001b[0mcmap\u001b[0m\u001b[0;34m=\u001b[0m\u001b[0;34m'reds'\u001b[0m\u001b[0;34m)\u001b[0m\u001b[0;34m\u001b[0m\u001b[0;34m\u001b[0m\u001b[0m\n",
      "\u001b[0;31mTypeError\u001b[0m: 'Figure' object is not callable"
     ]
    }
   ],
   "source": [
    "plt.figure(figsize=(14, 9))\n",
    "for cluster, subset in train.groupby('cluster'):\n",
    "    \n",
    "    # Here\n",
    "    plt.scatter(subset.lat.sample(150), subset.long.sample(150), label='cluster ' + str(cluster), alpha=.5, cmap='reds')\n",
    "    \n",
    "    \n",
    "plt.legend()\n",
    "plt.xlabel('tax_value')\n",
    "plt.ylabel('area')\n",
    "plt.title('Visualizing Clusters')\n",
    "plt.show()"
   ]
  },
  {
   "cell_type": "code",
   "execution_count": 151,
   "id": "344daf42",
   "metadata": {},
   "outputs": [
    {
     "data": {
      "image/png": "[encoded data removed]",
      "text/plain": [
       "<Figure size 1008x648 with 1 Axes>"
      ]
     },
     "metadata": {
      "needs_background": "light"
     },
     "output_type": "display_data"
    },
    {
     "data": {
      "image/png": "[encoded data removed]",
      "text/plain": [
       "<Figure size 648x432 with 1 Axes>"
      ]
     },
     "metadata": {},
     "output_type": "display_data"
    }
   ],
   "source": [
    "X = train[[\"lat\",\"long\", 'area', \"price_per_sqft\"]]\n",
    "scaler = MinMaxScaler().fit(X)\n",
    "X_scaled = pd.DataFrame(scaler.transform(X), columns= X.columns).set_index([X.index.values])\n",
    "#define the thing\n",
    "kmeans = KMeans(n_clusters=5, random_state=1349)\n",
    "\n",
    "# fit the thing\n",
    "kmeans.fit(X_scaled)\n",
    "\n",
    "# Use (predict using) the thing \n",
    "kmeans.predict(X_scaled)\n",
    "train['cluster'] = kmeans.predict(X_scaled)\n",
    "X_scaled['cluster'] = kmeans.predict(X_scaled)\n",
    "plt.figure(figsize=(14, 9))\n",
    "for cluster, subset in train.groupby('cluster'):\n",
    "    \n",
    "    # Here\n",
    "    plt.scatter(subset.lat.sample(150), subset.long.sample(150), label='cluster ' + str(cluster), alpha=.5, cmap='reds')\n",
    "    \n",
    "    \n",
    "plt.legend()\n",
    "plt.xlabel('latitude')\n",
    "plt.ylabel('Longitude')\n",
    "plt.title('Visualizing Clusters')\n",
    "plt.show()\n",
    "\n",
    "centroids = train.groupby('cluster')[\"lat\",\"long\", 'area', \"price_per_sqft\"].mean()\n",
    "centroids\n",
    "\n",
    "with plt.style.context('seaborn-whitegrid'):\n",
    "    plt.figure(figsize=(9, 6))\n",
    "    pd.Series({k: KMeans(k).fit(X_scaled).inertia_ for k in range(2, 12)}).plot(marker='x')\n",
    "    plt.xticks(range(2, 12))\n",
    "    plt.xlabel('k')\n",
    "    plt.ylabel('inertia')\n",
    "    plt.title('Change in inertia as k increases')"
   ]
  },
  {
   "cell_type": "code",
   "execution_count": null,
   "id": "61f1c081",
   "metadata": {},
   "outputs": [],
   "source": []
  },
  {
   "cell_type": "code",
   "execution_count": null,
   "id": "c78660b8",
   "metadata": {},
   "outputs": [],
   "source": [
    "centroids = train.groupby('cluster')['area', 'price_per_sqft'].mean()\n",
    "centroids"
   ]
  },
  {
   "cell_type": "code",
   "execution_count": null,
   "id": "be4d80b3",
   "metadata": {},
   "outputs": [],
   "source": [
    "with plt.style.context('seaborn-whitegrid'):\n",
    "    plt.figure(figsize=(9, 6))\n",
    "    pd.Series({k: KMeans(k).fit(X_scaled).inertia_ for k in range(2, 12)}).plot(marker='x')\n",
    "    plt.xticks(range(2, 12))\n",
    "    plt.xlabel('k')\n",
    "    plt.ylabel('inertia')\n",
    "    plt.title('Change in inertia as k increases')"
   ]
  },
  {
   "cell_type": "code",
   "execution_count": null,
   "id": "63c7b774",
   "metadata": {},
   "outputs": [],
   "source": [
    "train.cluster.value_counts()"
   ]
  },
  {
   "cell_type": "code",
   "execution_count": null,
   "id": "b8e32ff2",
   "metadata": {},
   "outputs": [],
   "source": [
    "cluster0 = train[train['cluster']==0]\n",
    "cluster1 = train[train['cluster']==1]\n",
    "cluster2 = train[train['cluster']==2]\n",
    "cluster3 = train[train['cluster']==3]\n",
    "cluster4 = train[train['cluster']==4]\n",
    "cluster5 = train[train['cluster']==5]"
   ]
  },
  {
   "cell_type": "code",
   "execution_count": null,
   "id": "b6bf66d7",
   "metadata": {},
   "outputs": [],
   "source": [
    "X = cluster0[[\"lat\",\"long\", 'area', \"price_per_sqft\"]]\n",
    "scaler = MinMaxScaler().fit(X)\n",
    "X_scaled = pd.DataFrame(scaler.transform(X), columns= X.columns).set_index([X.index.values])\n",
    "#define the thing\n",
    "kmeans = KMeans(n_clusters=2, random_state=1349)\n",
    "\n",
    "# fit the thing\n",
    "kmeans.fit(X_scaled)\n",
    "\n",
    "# Use (predict using) the thing \n",
    "kmeans.predict(X_scaled)\n",
    "cluster0['cluster'] = kmeans.predict(X_scaled)\n",
    "X_scaled['cluster'] = kmeans.predict(X_scaled)\n",
    "plt.figure(figsize=(14, 9))\n",
    "for cluster, subset in cluster0.groupby('cluster'):\n",
    "    \n",
    "    # Here\n",
    "    plt.scatter(subset.lat.sample(150), subset.long.sample(150), label='cluster ' + str(cluster), alpha=.5, cmap='reds')\n",
    "    \n",
    "    \n",
    "plt.legend()\n",
    "plt.xlabel('tax_value')\n",
    "plt.ylabel('area')\n",
    "plt.title('Visualizing Clusters')\n",
    "plt.show()\n",
    "\n",
    "centroids = train.groupby('cluster')[\"lat\",\"long\", 'area', \"price_per_sqft\"].mean()\n",
    "centroids\n",
    "\n",
    "with plt.style.context('seaborn-whitegrid'):\n",
    "    plt.figure(figsize=(9, 6))\n",
    "    pd.Series({k: KMeans(k).fit(X_scaled).inertia_ for k in range(2, 12)}).plot(marker='x')\n",
    "    plt.xticks(range(2, 12))\n",
    "    plt.xlabel('k')\n",
    "    plt.ylabel('inertia')\n",
    "    plt.title('Change in inertia as k increases')"
   ]
  },
  {
   "cell_type": "code",
   "execution_count": null,
   "id": "e5b47252",
   "metadata": {},
   "outputs": [],
   "source": [
    "X = cluster1[[\"lat\",\"long\", 'area', \"price_per_sqft\"]]\n",
    "scaler = MinMaxScaler().fit(X)\n",
    "X_scaled = pd.DataFrame(scaler.transform(X), columns= X.columns).set_index([X.index.values])\n",
    "#define the thing\n",
    "kmeans = KMeans(n_clusters=8, random_state=1349)\n",
    "\n",
    "# fit the thing\n",
    "kmeans.fit(X_scaled)\n",
    "\n",
    "# Use (predict using) the thing \n",
    "kmeans.predict(X_scaled)\n",
    "cluster1['cluster'] = kmeans.predict(X_scaled)\n",
    "X_scaled['cluster'] = kmeans.predict(X_scaled)\n",
    "plt.figure(figsize=(14, 9))\n",
    "for cluster, subset in cluster1.groupby('cluster'):\n",
    "    \n",
    "    # Here\n",
    "    plt.scatter(subset.lat.sample(10), subset.long.sample(10), label='cluster ' + str(cluster), alpha=.5, cmap='reds')\n",
    "    \n",
    "    \n",
    "plt.legend()\n",
    "plt.xlabel('tax_value')\n",
    "plt.ylabel('area')\n",
    "plt.title('Visualizing Clusters')\n",
    "plt.show()\n",
    "\n",
    "centroids = train.groupby('cluster')[\"lat\",\"long\", 'area', \"price_per_sqft\"].mean()\n",
    "centroids\n",
    "\n",
    "with plt.style.context('seaborn-whitegrid'):\n",
    "    plt.figure(figsize=(9, 6))\n",
    "    pd.Series({k: KMeans(k).fit(X_scaled).inertia_ for k in range(2, 12)}).plot(marker='x')\n",
    "    plt.xticks(range(2, 12))\n",
    "    plt.xlabel('k')\n",
    "    plt.ylabel('inertia')\n",
    "    plt.title('Change in inertia as k increases')"
   ]
  },
  {
   "cell_type": "markdown",
   "id": "aa9acab9",
   "metadata": {},
   "source": [
    "# Checking clusters "
   ]
  },
  {
   "cell_type": "code",
   "execution_count": null,
   "id": "5ad30428",
   "metadata": {},
   "outputs": [],
   "source": [
    "train, validate, test = wrangle()"
   ]
  },
  {
   "cell_type": "code",
   "execution_count": null,
   "id": "a1b9f4ab",
   "metadata": {},
   "outputs": [],
   "source": [
    "train.cluster.value_counts()"
   ]
  },
  {
   "cell_type": "code",
   "execution_count": null,
   "id": "a825a53d",
   "metadata": {},
   "outputs": [],
   "source": [
    "cluster0 = train[train.cluster ==0]\n",
    "cluster1 = train[train.cluster ==1]\n",
    "cluster2 = train[train.cluster ==2]\n",
    "cluster3 = train[train.cluster ==3]\n",
    "cluster4 = train[train.cluster ==4]"
   ]
  },
  {
   "cell_type": "code",
   "execution_count": null,
   "id": "de75cc4a",
   "metadata": {},
   "outputs": [],
   "source": [
    "c0_mean = cluster0.logerror.mean()\n",
    "c1_mean = cluster1.logerror.mean()\n",
    "c2_mean = cluster2.logerror.mean()\n",
    "c3_mean = cluster3.logerror.mean()\n",
    "c4_mean = cluster4.logerror.mean()\n"
   ]
  },
  {
   "cell_type": "code",
   "execution_count": null,
   "id": "917f2716",
   "metadata": {},
   "outputs": [],
   "source": []
  },
  {
   "cell_type": "code",
   "execution_count": null,
   "id": "9b07c37b",
   "metadata": {},
   "outputs": [],
   "source": [
    "cluster1.head(5)"
   ]
  },
  {
   "cell_type": "code",
   "execution_count": null,
   "id": "caf16ca5",
   "metadata": {},
   "outputs": [],
   "source": [
    "cluster1.logerror.hist()"
   ]
  },
  {
   "cell_type": "code",
   "execution_count": null,
   "id": "039916bf",
   "metadata": {},
   "outputs": [],
   "source": []
  },
  {
   "cell_type": "code",
   "execution_count": null,
   "id": "68f1a9f5",
   "metadata": {},
   "outputs": [],
   "source": [
    "train.logerror.mean()"
   ]
  },
  {
   "cell_type": "code",
   "execution_count": null,
   "id": "beccc68f",
   "metadata": {},
   "outputs": [],
   "source": [
    "train.logerror.hist()"
   ]
  },
  {
   "cell_type": "code",
   "execution_count": null,
   "id": "3d611b2c",
   "metadata": {},
   "outputs": [],
   "source": [
    "alpha =.05"
   ]
  },
  {
   "cell_type": "markdown",
   "id": "62756cfa",
   "metadata": {},
   "source": [
    "## $H_0$ There is no difference in cluster 0 logerror mean than the overall logerror mean<br>\n",
    "## $H_a$ There is a difference in cluster 0 logerror mean than the overall logerror mean"
   ]
  },
  {
   "cell_type": "code",
   "execution_count": null,
   "id": "61d21adf",
   "metadata": {},
   "outputs": [],
   "source": [
    "c0 = cluster0.logerror\n",
    "μ = train.logerror.mean()\n",
    "\n",
    "t, p = stats.ttest_1samp(c0, μ) #1samp, 1 tailed, not independent\n",
    "\n",
    "if (p < alpha):\n",
    "    print(\"reject Null Hypothesis\")\n",
    "elif((t < 0)):\n",
    "    print(\"Reject Null Hypothesis\")\n",
    "else:\n",
    "    print(\"Fail to reject Null Hypthesis\")"
   ]
  },
  {
   "cell_type": "markdown",
   "id": "f6121211",
   "metadata": {},
   "source": [
    "## $H_0$ There is no difference in cluster 1 mean than the overall logerror mean<br>\n",
    "## $H_a$ There is a difference in cluster 1 logerror mean than the overall logerror mean"
   ]
  },
  {
   "cell_type": "code",
   "execution_count": null,
   "id": "5b569347",
   "metadata": {},
   "outputs": [],
   "source": [
    "c1 = cluster1.logerror\n",
    "μ = train.logerror.mean()\n",
    "\n",
    "t, p = stats.ttest_1samp(c1, μ) #1samp, 1 tailed, not independent\n",
    "\n",
    "if (p < alpha):\n",
    "    print(\"reject Null Hypothesis\")\n",
    "elif((t < 0)):\n",
    "    print(\"Reject Null Hypothesis\")\n",
    "else:\n",
    "    print(\"Fail to reject Null Hypthesis\")"
   ]
  },
  {
   "cell_type": "markdown",
   "id": "fab25cac",
   "metadata": {},
   "source": [
    "## $H_0$ There is no difference in cluster 2 mean than the overall logerror mean<br>\n",
    "## $H_a$ There is a difference in cluster 2 logerror mean than the overall logerror mean"
   ]
  },
  {
   "cell_type": "code",
   "execution_count": null,
   "id": "96c79981",
   "metadata": {},
   "outputs": [],
   "source": [
    "c2 = cluster2.logerror\n",
    "μ = train.logerror.mean()\n",
    "\n",
    "t, p = stats.ttest_1samp(c2, μ) #1samp, 1 tailed, not independent\n",
    "\n",
    "if (p < alpha):\n",
    "    print(\"reject Null Hypothesis\")\n",
    "elif((t < 0)):\n",
    "    print(\"Reject Null Hypothesis\")\n",
    "else:\n",
    "    print(\"Fail to reject Null Hypthesis\")"
   ]
  },
  {
   "cell_type": "markdown",
   "id": "5d649de4",
   "metadata": {},
   "source": [
    "## $H_0$ There is no difference in cluster 3 mean than the overall logerror mean<br>\n",
    "## $H_a$ There is a difference in cluster 3 logerror mean than the overall logerror mean"
   ]
  },
  {
   "cell_type": "code",
   "execution_count": null,
   "id": "a34b04c0",
   "metadata": {},
   "outputs": [],
   "source": [
    "c3 = cluster3.logerror\n",
    "μ = train.logerror.mean()\n",
    "\n",
    "t, p = stats.ttest_1samp(c3, μ) #1samp, 1 tailed, not independent\n",
    "\n",
    "if (p < alpha):\n",
    "    print(\"reject Null Hypothesis\")\n",
    "elif((t < 0)):\n",
    "    print(\"Reject Null Hypothesis\")\n",
    "else:\n",
    "    print(\"Fail to reject Null Hypthesis\")"
   ]
  },
  {
   "cell_type": "markdown",
   "id": "b9a002ca",
   "metadata": {},
   "source": [
    "## $H_0$ There is no difference in cluster 4mean than the overall logerror mean<br>\n",
    "## $H_a$ There is a difference in cluster 4 logerror mean than the overall logerror mean"
   ]
  },
  {
   "cell_type": "code",
   "execution_count": null,
   "id": "8a8dc0ee",
   "metadata": {},
   "outputs": [],
   "source": []
  },
  {
   "cell_type": "code",
   "execution_count": null,
   "id": "fb30b258",
   "metadata": {},
   "outputs": [],
   "source": [
    "c4 = cluster4.logerror\n",
    "μ = train.logerror.mean()\n",
    "\n",
    "t, p = stats.ttest_1samp(c4, μ) #1samp, 1 tailed, not independent\n",
    "\n",
    "if (p < alpha):\n",
    "    print(\"reject Null Hypothesis\")\n",
    "elif((t < 0)):\n",
    "    print(\"Reject Null Hypothesis\")\n",
    "else:\n",
    "    print(\"Fail to reject Null Hypthesis\")"
   ]
  },
  {
   "cell_type": "markdown",
   "id": "9d2d01eb",
   "metadata": {},
   "source": [
    "# Create Dummies"
   ]
  },
  {
   "cell_type": "code",
   "execution_count": null,
   "id": "557524a6",
   "metadata": {},
   "outputs": [],
   "source": [
    "t"
   ]
  },
  {
   "cell_type": "code",
   "execution_count": null,
   "id": "34e84dd2",
   "metadata": {},
   "outputs": [],
   "source": [
    "train.cluster.value_counts()"
   ]
  },
  {
   "cell_type": "code",
   "execution_count": null,
   "id": "ac9a1da3",
   "metadata": {},
   "outputs": [],
   "source": [
    "train, validate, test = wrangle()\n",
    "\n",
    "boolean_dummy = pd.get_dummies(train['cluster'], drop_first=False)\n",
    "\n",
    "\n",
    "train = pd.concat([train, boolean_dummy], axis = 1)\n",
    "\n",
    "train = train.rename(columns = {\n",
    "        0:'cluster_1', \n",
    "        1:'cluster_2', \n",
    "        2:'cluster_3',\n",
    "        3:'cluster_4',\n",
    "        4:'cluster_5',})"
   ]
  },
  {
   "cell_type": "code",
   "execution_count": null,
   "id": "3bd7b2db",
   "metadata": {},
   "outputs": [],
   "source": [
    "train"
   ]
  },
  {
   "cell_type": "markdown",
   "id": "6e8638cd",
   "metadata": {},
   "source": [
    "# Identiying clusters"
   ]
  },
  {
   "cell_type": "code",
   "execution_count": null,
   "id": "e8c71cf7",
   "metadata": {},
   "outputs": [],
   "source": [
    "train.cluster.value_counts()"
   ]
  },
  {
   "cell_type": "code",
   "execution_count": null,
   "id": "09418aac",
   "metadata": {},
   "outputs": [],
   "source": [
    "train[train.cluster == 4].tax_value.median()"
   ]
  },
  {
   "cell_type": "code",
   "execution_count": null,
   "id": "1537e45a",
   "metadata": {},
   "outputs": [],
   "source": [
    "train[train.cluster == 4].county.value_counts()"
   ]
  },
  {
   "cell_type": "code",
   "execution_count": null,
   "id": "d5e371aa",
   "metadata": {},
   "outputs": [],
   "source": [
    "train[train.cluster == 4].price_per_sqft.median()"
   ]
  },
  {
   "cell_type": "code",
   "execution_count": null,
   "id": "5370f6e4",
   "metadata": {},
   "outputs": [],
   "source": [
    "train[train.cluster == 4].lot_size.median()"
   ]
  },
  {
   "cell_type": "code",
   "execution_count": null,
   "id": "a5285905",
   "metadata": {},
   "outputs": [],
   "source": [
    "train[train.cluster == 4].area.median()"
   ]
  },
  {
   "cell_type": "code",
   "execution_count": null,
   "id": "3efdd9a3",
   "metadata": {},
   "outputs": [],
   "source": [
    "train[train.cluster == 4].bed.median()"
   ]
  },
  {
   "cell_type": "code",
   "execution_count": null,
   "id": "55d92495",
   "metadata": {},
   "outputs": [],
   "source": [
    "train[train.cluster == 4].bath.median()"
   ]
  },
  {
   "cell_type": "markdown",
   "id": "523f93bc",
   "metadata": {},
   "source": [
    "Cluster0 \n",
    "\n",
    "- Smallest cluster\n",
    "- Only in LA area\n",
    "- median price of 184K\n",
    "- median lot_size of 7509 sq ft\n",
    "- median area of 1716 sq feet\n",
    "- 3 bed\n",
    "- 2 bath\n",
    "\n",
    "Cluster1 \n",
    "\n",
    "- Largest cluster\n",
    "- Mostly in LA area\n",
    "- median price of 311K\n",
    "- median lot_size of 6300 sq ft\n",
    "- median area of 1423sq feet\n",
    "- 3 bed\n",
    "- 2 bath\n",
    "\n",
    "Cluster2 \n",
    "\n",
    "- Mostly in Ventura area\n",
    "- median price of 460K\n",
    "- median lot_size of 7506 sq ft\n",
    "- median area of 1924 sq feet\n",
    "- 4 bed\n",
    "- 2.5 bath\n",
    "\n",
    "Cluster3 \n",
    "\n",
    "- Mostly in LA area\n",
    "- median price of 458K\n",
    "- median lot_size of 7464 sq ft\n",
    "- median area of 1764 sq feet\n",
    "- 3 bed\n",
    "- 2 bath\n",
    "\n",
    "Cluster4\n",
    "\n",
    "- Mostly in Orange County\n",
    "- median price of 541K\n",
    "- median lot_size of 6083 sq ft\n",
    "- median area of 1988 sq feet\n",
    "- 3 bed\n",
    "- 2.5 bath\n"
   ]
  },
  {
   "cell_type": "code",
   "execution_count": null,
   "id": "ff6a7da6",
   "metadata": {},
   "outputs": [],
   "source": []
  }
 ],
 "metadata": {
  "kernelspec": {
   "display_name": "Python 3",
   "language": "python",
   "name": "python3"
  },
  "language_info": {
   "codemirror_mode": {
    "name": "ipython",
    "version": 3
   },
   "file_extension": ".py",
   "mimetype": "text/x-python",
   "name": "python",
   "nbconvert_exporter": "python",
   "pygments_lexer": "ipython3",
   "version": "3.8.8"
  }
 },
 "nbformat": 4,
 "nbformat_minor": 5
}
