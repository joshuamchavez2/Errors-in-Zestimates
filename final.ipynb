{
 "cells": [
  {
   "cell_type": "code",
   "execution_count": 1,
   "id": "339a49de",
   "metadata": {},
   "outputs": [],
   "source": [
    "# Math \n",
    "from math import sqrt\n",
    "from scipy import stats\n",
    "import statistics\n",
    "import os\n",
    "\n",
    "# General\n",
    "import numpy as np\n",
    "import pandas as pd\n",
    "from pydataset import data\n",
    "\n",
    "# Sklearn tools\n",
    "from sklearn.model_selection import train_test_split\n",
    "from sklearn.feature_selection import SelectKBest, f_regression\n",
    "from sklearn.impute import SimpleImputer\n",
    "\n",
    "# Sklearn Metrics\n",
    "from sklearn.metrics import classification_report\n",
    "from sklearn.metrics import confusion_matrix\n",
    "from sklearn.metrics import mean_squared_error\n",
    "from sklearn.metrics import explained_variance_score\n",
    "\n",
    "\n",
    "# Sklearn Models\n",
    "from sklearn.tree import DecisionTreeClassifier\n",
    "from sklearn.ensemble import RandomForestClassifier\n",
    "from sklearn.neighbors import KNeighborsClassifier\n",
    "from sklearn.linear_model import LinearRegression, LassoLars, TweedieRegressor\n",
    "from sklearn.preprocessing import PolynomialFeatures, MinMaxScaler\n",
    "from sklearn.cluster import KMeans\n",
    "\n",
    "\n",
    "# Visuals\n",
    "import matplotlib.pyplot as plt\n",
    "import seaborn as sns\n",
    "from graphviz import Graph\n",
    "from tabulate import tabulate\n",
    "from sklearn.tree import export_graphviz\n",
    "\n",
    "# Custom Module's\n",
    "from wrangle import wrangle\n",
    "from acquire import acquire, get_target, get_data_dictionary\n",
    "\n",
    "import warnings\n",
    "warnings.filterwarnings(\"ignore\")"
   ]
  },
  {
   "cell_type": "markdown",
   "id": "861a81c8",
   "metadata": {},
   "source": [
    "# Project Planning"
   ]
  },
  {
   "cell_type": "markdown",
   "id": "7389b745",
   "metadata": {},
   "source": [
    "### Project and Goals"
   ]
  },
  {
   "cell_type": "code",
   "execution_count": null,
   "id": "2d35a4d1",
   "metadata": {},
   "outputs": [],
   "source": []
  },
  {
   "cell_type": "markdown",
   "id": "23d18837",
   "metadata": {},
   "source": [
    "### Original Hypothesis"
   ]
  },
  {
   "cell_type": "markdown",
   "id": "29701dc0",
   "metadata": {},
   "source": [
    "Creating linear regression models by using clusters as features will idenify which features are important to predicting zillow homes."
   ]
  },
  {
   "cell_type": "markdown",
   "id": "8179bf57",
   "metadata": {},
   "source": [
    "### The Plan"
   ]
  },
  {
   "cell_type": "markdown",
   "id": "4e5697f1",
   "metadata": {},
   "source": [
    "#### Setup\n",
    "\n",
    "- Create a repo\n",
    "- Create a README.md\n",
    "- Update .gitignore\n",
    "- Create a draft and final in juypter notebook\n",
    "\n",
    "#### Acquire\n",
    "\n",
    "- Create an acquire.py module\n",
    "- Create a sql script\n",
    "- Setup acquire.py\n",
    "- Use python/sql to grab the data from codeup database\n",
    "- plot distributions\n",
    "- Run .head(), .info(), .describe()\n",
    "\n",
    "#### Prepare\n",
    "\n",
    "- Create a prepare.py module\n",
    "\n",
    "- Clean data()\n",
    "   - Drop columns\n",
    "       - Document why I dropped columns\n",
    "   - Handle nulls\n",
    "       - Documnet which columns/rows will be dropped.\n",
    "       - Impute? document how and why\n",
    "   - Check datatypes\n",
    "   - Check for duplicates\n",
    "   - Rename columns\n",
    "   \n",
    "- Remove outliers()\n",
    "    \n",
    "- Split Data for modeling()\n",
    "    - Encode()\n",
    "        - Create dummies\n",
    "        - Scale Data on Train\n",
    "        - Transform Train, Validate, Test\n",
    "        \n",
    "- Split Data for exploration()\n",
    "    - No encoding\n",
    "    \n",
    "#### Explore\n",
    "\n",
    "- Ask and answer as many questions as i can\n",
    "- Create a Heatmap\n",
    "- Convert some continous values to categorical\n",
    "- Look at univariate graphs and bivariate graphs\n",
    "- Create initial hypothesis\n",
    "- Run some hypothesis testing\n",
    "    - T-Test\n",
    "    - Correlation\n",
    "- Feature Engineering\n",
    "- Clustering\n",
    "    - Try out different features\n",
    "        - Graph clusters\n",
    "        - graph k using inertia\n",
    "\n",
    "#### Model\n",
    "- If clusters found, use cluster as features or For each cluster\n",
    "    - Run as many linear regression models as i can.\n",
    "        - Change out features\n",
    "            - Document\n",
    "        - Change out hyperparameters\n",
    "            - Document\n",
    "    - Select best model\n",
    "         - Compare Validate and Train rmse and look for drop offs\n",
    "         - plot residuals\n",
    "    - Run test\n",
    "    \n",
    "#### Deliver\n",
    "- Create a data dictionary\n",
    "- Finish up final notebook\n",
    "- Finish up READ.me"
   ]
  },
  {
   "cell_type": "markdown",
   "id": "c13a1ff5",
   "metadata": {},
   "source": [
    "# Executive Summary - Conclusions & Next Steps"
   ]
  },
  {
   "cell_type": "markdown",
   "id": "3558805e",
   "metadata": {},
   "source": [
    "### Conclusion"
   ]
  },
  {
   "cell_type": "markdown",
   "id": "676515ba",
   "metadata": {},
   "source": [
    "My OLS model RMSE did <b>not</b> beat my baseline RMSE by .0071.\n",
    "\n",
    "The 5 clusters I found did not help identify drivers for logerror.  \n",
    "\n",
    "If I had more time, I would have liked to explore the data further and look for new features. I would have liked to spend more time with the clustered I found.  I would have also liked to iterate through hyperparameters during modeling."
   ]
  },
  {
   "cell_type": "markdown",
   "id": "641232b2",
   "metadata": {},
   "source": [
    "### Recommendation\n",
    "\n",
    "- Fill in more of the missing data\n",
    "- Add more features about the house like:<br> \n",
    "how far from shopping centers, highways, schools, or airports? \n",
    "is it a fixer upper?\n",
    "is in a hoa?\n",
    "garage size?"
   ]
  },
  {
   "cell_type": "markdown",
   "id": "39340948",
   "metadata": {},
   "source": [
    "### Takeaways"
   ]
  },
  {
   "cell_type": "markdown",
   "id": "1d8c116e",
   "metadata": {},
   "source": [
    "Look at clusters more closely, look at inheria, \n",
    "    "
   ]
  },
  {
   "cell_type": "markdown",
   "id": "b8308a84",
   "metadata": {},
   "source": [
    "# Data Acquisition"
   ]
  },
  {
   "cell_type": "code",
   "execution_count": 2,
   "id": "94278df1",
   "metadata": {},
   "outputs": [],
   "source": [
    "df = acquire()"
   ]
  },
  {
   "cell_type": "markdown",
   "id": "b22bbb3c",
   "metadata": {},
   "source": [
    "### .info(), .head(), .describe()"
   ]
  },
  {
   "cell_type": "code",
   "execution_count": 3,
   "id": "56a310b9",
   "metadata": {},
   "outputs": [
    {
     "data": {
      "text/html": [
       "<div>\n",
       "<style scoped>\n",
       "    .dataframe tbody tr th:only-of-type {\n",
       "        vertical-align: middle;\n",
       "    }\n",
       "\n",
       "    .dataframe tbody tr th {\n",
       "        vertical-align: top;\n",
       "    }\n",
       "\n",
       "    .dataframe thead th {\n",
       "        text-align: right;\n",
       "    }\n",
       "</style>\n",
       "<table border=\"1\" class=\"dataframe\">\n",
       "  <thead>\n",
       "    <tr style=\"text-align: right;\">\n",
       "      <th></th>\n",
       "      <th>typeconstructiontypeid</th>\n",
       "      <th>storytypeid</th>\n",
       "      <th>propertylandusetypeid</th>\n",
       "      <th>heatingorsystemtypeid</th>\n",
       "      <th>buildingclasstypeid</th>\n",
       "      <th>architecturalstyletypeid</th>\n",
       "      <th>airconditioningtypeid</th>\n",
       "      <th>parcelid</th>\n",
       "      <th>transactiondate</th>\n",
       "      <th>id</th>\n",
       "      <th>...</th>\n",
       "      <th>censustractandblock</th>\n",
       "      <th>id.1</th>\n",
       "      <th>logerror</th>\n",
       "      <th>airconditioningdesc</th>\n",
       "      <th>architecturalstyledesc</th>\n",
       "      <th>buildingclassdesc</th>\n",
       "      <th>heatingorsystemdesc</th>\n",
       "      <th>propertylandusedesc</th>\n",
       "      <th>storydesc</th>\n",
       "      <th>typeconstructiondesc</th>\n",
       "    </tr>\n",
       "  </thead>\n",
       "  <tbody>\n",
       "    <tr>\n",
       "      <th>0</th>\n",
       "      <td>NaN</td>\n",
       "      <td>NaN</td>\n",
       "      <td>261.0</td>\n",
       "      <td>NaN</td>\n",
       "      <td>NaN</td>\n",
       "      <td>NaN</td>\n",
       "      <td>NaN</td>\n",
       "      <td>14297519</td>\n",
       "      <td>2017-01-01</td>\n",
       "      <td>1727539</td>\n",
       "      <td>...</td>\n",
       "      <td>6.059063e+13</td>\n",
       "      <td>0</td>\n",
       "      <td>0.025595</td>\n",
       "      <td>NaN</td>\n",
       "      <td>NaN</td>\n",
       "      <td>NaN</td>\n",
       "      <td>NaN</td>\n",
       "      <td>Single Family Residential</td>\n",
       "      <td>NaN</td>\n",
       "      <td>NaN</td>\n",
       "    </tr>\n",
       "    <tr>\n",
       "      <th>1</th>\n",
       "      <td>NaN</td>\n",
       "      <td>NaN</td>\n",
       "      <td>261.0</td>\n",
       "      <td>NaN</td>\n",
       "      <td>NaN</td>\n",
       "      <td>NaN</td>\n",
       "      <td>NaN</td>\n",
       "      <td>17052889</td>\n",
       "      <td>2017-01-01</td>\n",
       "      <td>1387261</td>\n",
       "      <td>...</td>\n",
       "      <td>6.111001e+13</td>\n",
       "      <td>1</td>\n",
       "      <td>0.055619</td>\n",
       "      <td>NaN</td>\n",
       "      <td>NaN</td>\n",
       "      <td>NaN</td>\n",
       "      <td>NaN</td>\n",
       "      <td>Single Family Residential</td>\n",
       "      <td>NaN</td>\n",
       "      <td>NaN</td>\n",
       "    </tr>\n",
       "    <tr>\n",
       "      <th>2</th>\n",
       "      <td>NaN</td>\n",
       "      <td>NaN</td>\n",
       "      <td>261.0</td>\n",
       "      <td>NaN</td>\n",
       "      <td>NaN</td>\n",
       "      <td>NaN</td>\n",
       "      <td>NaN</td>\n",
       "      <td>14186244</td>\n",
       "      <td>2017-01-01</td>\n",
       "      <td>11677</td>\n",
       "      <td>...</td>\n",
       "      <td>6.059022e+13</td>\n",
       "      <td>2</td>\n",
       "      <td>0.005383</td>\n",
       "      <td>NaN</td>\n",
       "      <td>NaN</td>\n",
       "      <td>NaN</td>\n",
       "      <td>NaN</td>\n",
       "      <td>Single Family Residential</td>\n",
       "      <td>NaN</td>\n",
       "      <td>NaN</td>\n",
       "    </tr>\n",
       "    <tr>\n",
       "      <th>3</th>\n",
       "      <td>NaN</td>\n",
       "      <td>NaN</td>\n",
       "      <td>261.0</td>\n",
       "      <td>2.0</td>\n",
       "      <td>NaN</td>\n",
       "      <td>NaN</td>\n",
       "      <td>NaN</td>\n",
       "      <td>12177905</td>\n",
       "      <td>2017-01-01</td>\n",
       "      <td>2288172</td>\n",
       "      <td>...</td>\n",
       "      <td>6.037300e+13</td>\n",
       "      <td>3</td>\n",
       "      <td>-0.103410</td>\n",
       "      <td>NaN</td>\n",
       "      <td>NaN</td>\n",
       "      <td>NaN</td>\n",
       "      <td>Central</td>\n",
       "      <td>Single Family Residential</td>\n",
       "      <td>NaN</td>\n",
       "      <td>NaN</td>\n",
       "    </tr>\n",
       "    <tr>\n",
       "      <th>4</th>\n",
       "      <td>NaN</td>\n",
       "      <td>NaN</td>\n",
       "      <td>266.0</td>\n",
       "      <td>2.0</td>\n",
       "      <td>NaN</td>\n",
       "      <td>NaN</td>\n",
       "      <td>1.0</td>\n",
       "      <td>10887214</td>\n",
       "      <td>2017-01-01</td>\n",
       "      <td>1970746</td>\n",
       "      <td>...</td>\n",
       "      <td>6.037124e+13</td>\n",
       "      <td>4</td>\n",
       "      <td>0.006940</td>\n",
       "      <td>Central</td>\n",
       "      <td>NaN</td>\n",
       "      <td>NaN</td>\n",
       "      <td>Central</td>\n",
       "      <td>Condominium</td>\n",
       "      <td>NaN</td>\n",
       "      <td>NaN</td>\n",
       "    </tr>\n",
       "  </tbody>\n",
       "</table>\n",
       "<p>5 rows × 69 columns</p>\n",
       "</div>"
      ],
      "text/plain": [
       "   typeconstructiontypeid  storytypeid  propertylandusetypeid  \\\n",
       "0                     NaN          NaN                  261.0   \n",
       "1                     NaN          NaN                  261.0   \n",
       "2                     NaN          NaN                  261.0   \n",
       "3                     NaN          NaN                  261.0   \n",
       "4                     NaN          NaN                  266.0   \n",
       "\n",
       "   heatingorsystemtypeid  buildingclasstypeid  architecturalstyletypeid  \\\n",
       "0                    NaN                  NaN                       NaN   \n",
       "1                    NaN                  NaN                       NaN   \n",
       "2                    NaN                  NaN                       NaN   \n",
       "3                    2.0                  NaN                       NaN   \n",
       "4                    2.0                  NaN                       NaN   \n",
       "\n",
       "   airconditioningtypeid  parcelid transactiondate       id  ...  \\\n",
       "0                    NaN  14297519      2017-01-01  1727539  ...   \n",
       "1                    NaN  17052889      2017-01-01  1387261  ...   \n",
       "2                    NaN  14186244      2017-01-01    11677  ...   \n",
       "3                    NaN  12177905      2017-01-01  2288172  ...   \n",
       "4                    1.0  10887214      2017-01-01  1970746  ...   \n",
       "\n",
       "   censustractandblock  id.1  logerror  airconditioningdesc  \\\n",
       "0         6.059063e+13     0  0.025595                  NaN   \n",
       "1         6.111001e+13     1  0.055619                  NaN   \n",
       "2         6.059022e+13     2  0.005383                  NaN   \n",
       "3         6.037300e+13     3 -0.103410                  NaN   \n",
       "4         6.037124e+13     4  0.006940              Central   \n",
       "\n",
       "   architecturalstyledesc  buildingclassdesc  heatingorsystemdesc  \\\n",
       "0                     NaN                NaN                  NaN   \n",
       "1                     NaN                NaN                  NaN   \n",
       "2                     NaN                NaN                  NaN   \n",
       "3                     NaN                NaN              Central   \n",
       "4                     NaN                NaN              Central   \n",
       "\n",
       "         propertylandusedesc  storydesc  typeconstructiondesc  \n",
       "0  Single Family Residential        NaN                   NaN  \n",
       "1  Single Family Residential        NaN                   NaN  \n",
       "2  Single Family Residential        NaN                   NaN  \n",
       "3  Single Family Residential        NaN                   NaN  \n",
       "4                Condominium        NaN                   NaN  \n",
       "\n",
       "[5 rows x 69 columns]"
      ]
     },
     "execution_count": 3,
     "metadata": {},
     "output_type": "execute_result"
    }
   ],
   "source": [
    "df.head()"
   ]
  },
  {
   "cell_type": "code",
   "execution_count": 4,
   "id": "f4b95a02",
   "metadata": {},
   "outputs": [
    {
     "name": "stdout",
     "output_type": "stream",
     "text": [
      "<class 'pandas.core.frame.DataFrame'>\n",
      "Int64Index: 77381 entries, 0 to 77380\n",
      "Data columns (total 69 columns):\n",
      " #   Column                        Non-Null Count  Dtype  \n",
      "---  ------                        --------------  -----  \n",
      " 0   typeconstructiontypeid        222 non-null    float64\n",
      " 1   storytypeid                   50 non-null     float64\n",
      " 2   propertylandusetypeid         77381 non-null  float64\n",
      " 3   heatingorsystemtypeid         49440 non-null  float64\n",
      " 4   buildingclasstypeid           15 non-null     float64\n",
      " 5   architecturalstyletypeid      206 non-null    float64\n",
      " 6   airconditioningtypeid         24953 non-null  float64\n",
      " 7   parcelid                      77381 non-null  int64  \n",
      " 8   transactiondate               77381 non-null  object \n",
      " 9   id                            77381 non-null  int64  \n",
      " 10  basementsqft                  50 non-null     float64\n",
      " 11  bathroomcnt                   77381 non-null  float64\n",
      " 12  bedroomcnt                    77381 non-null  float64\n",
      " 13  buildingqualitytypeid         49672 non-null  float64\n",
      " 14  calculatedbathnbr             76772 non-null  float64\n",
      " 15  decktypeid                    614 non-null    float64\n",
      " 16  finishedfloor1squarefeet      6023 non-null   float64\n",
      " 17  calculatedfinishedsquarefeet  77185 non-null  float64\n",
      " 18  finishedsquarefeet12          73749 non-null  float64\n",
      " 19  finishedsquarefeet13          41 non-null     float64\n",
      " 20  finishedsquarefeet15          3009 non-null   float64\n",
      " 21  finishedsquarefeet50          6023 non-null   float64\n",
      " 22  finishedsquarefeet6           386 non-null    float64\n",
      " 23  fips                          77381 non-null  float64\n",
      " 24  fireplacecnt                  8276 non-null   float64\n",
      " 25  fullbathcnt                   76772 non-null  float64\n",
      " 26  garagecarcnt                  25474 non-null  float64\n",
      " 27  garagetotalsqft               25474 non-null  float64\n",
      " 28  hashottuborspa                1538 non-null   float64\n",
      " 29  latitude                      77381 non-null  float64\n",
      " 30  longitude                     77381 non-null  float64\n",
      " 31  lotsizesquarefeet             69142 non-null  float64\n",
      " 32  poolcnt                       16137 non-null  float64\n",
      " 33  poolsizesum                   867 non-null    float64\n",
      " 34  pooltypeid10                  464 non-null    float64\n",
      " 35  pooltypeid2                   1074 non-null   float64\n",
      " 36  pooltypeid7                   15042 non-null  float64\n",
      " 37  propertycountylandusecode     77381 non-null  object \n",
      " 38  propertyzoningdesc            50331 non-null  object \n",
      " 39  rawcensustractandblock        77381 non-null  float64\n",
      " 40  regionidcity                  75910 non-null  float64\n",
      " 41  regionidcounty                77381 non-null  float64\n",
      " 42  regionidneighborhood          30890 non-null  float64\n",
      " 43  regionidzip                   77331 non-null  float64\n",
      " 44  roomcnt                       77381 non-null  float64\n",
      " 45  threequarterbathnbr           10096 non-null  float64\n",
      " 46  unitcnt                       50563 non-null  float64\n",
      " 47  yardbuildingsqft17            2388 non-null   float64\n",
      " 48  yardbuildingsqft26            70 non-null     float64\n",
      " 49  yearbuilt                     77118 non-null  float64\n",
      " 50  numberofstories               17560 non-null  float64\n",
      " 51  fireplaceflag                 172 non-null    float64\n",
      " 52  structuretaxvaluedollarcnt    77269 non-null  float64\n",
      " 53  taxvaluedollarcnt             77380 non-null  float64\n",
      " 54  assessmentyear                77381 non-null  float64\n",
      " 55  landtaxvaluedollarcnt         77379 non-null  float64\n",
      " 56  taxamount                     77376 non-null  float64\n",
      " 57  taxdelinquencyflag            2886 non-null   object \n",
      " 58  taxdelinquencyyear            2886 non-null   float64\n",
      " 59  censustractandblock           77137 non-null  float64\n",
      " 60  id.1                          77381 non-null  int64  \n",
      " 61  logerror                      77381 non-null  float64\n",
      " 62  airconditioningdesc           24953 non-null  object \n",
      " 63  architecturalstyledesc        206 non-null    object \n",
      " 64  buildingclassdesc             15 non-null     object \n",
      " 65  heatingorsystemdesc           49440 non-null  object \n",
      " 66  propertylandusedesc           77381 non-null  object \n",
      " 67  storydesc                     50 non-null     object \n",
      " 68  typeconstructiondesc          222 non-null    object \n",
      "dtypes: float64(55), int64(3), object(11)\n",
      "memory usage: 41.3+ MB\n"
     ]
    }
   ],
   "source": [
    "df.info()"
   ]
  },
  {
   "cell_type": "markdown",
   "id": "42fa3f1f",
   "metadata": {},
   "source": [
    "### Distributions - \"calculatedfinishedsquarefeet\", \"lotsizesquarefeet\", \"bedroomcnt\", \"taxamount\", \"landtaxvaluedollarcnt\""
   ]
  },
  {
   "cell_type": "code",
   "execution_count": 5,
   "id": "916a8622",
   "metadata": {},
   "outputs": [
    {
     "data": {
      "text/plain": [
       "<AxesSubplot:>"
      ]
     },
     "execution_count": 5,
     "metadata": {},
     "output_type": "execute_result"
    },
    {
     "data": {
      "image/png": "[encoded data removed]",
      "text/plain": [
       "<Figure size 432x288 with 1 Axes>"
      ]
     },
     "metadata": {
      "needs_background": "light"
     },
     "output_type": "display_data"
    }
   ],
   "source": [
    "df.calculatedfinishedsquarefeet.hist()"
   ]
  },
  {
   "cell_type": "code",
   "execution_count": 6,
   "id": "e3b79d2d",
   "metadata": {},
   "outputs": [
    {
     "data": {
      "text/plain": [
       "<AxesSubplot:>"
      ]
     },
     "execution_count": 6,
     "metadata": {},
     "output_type": "execute_result"
    },
    {
     "data": {
      "image/png": "[encoded data removed]",
      "text/plain": [
       "<Figure size 432x288 with 1 Axes>"
      ]
     },
     "metadata": {
      "needs_background": "light"
     },
     "output_type": "display_data"
    }
   ],
   "source": [
    "df.lotsizesquarefeet.hist()"
   ]
  },
  {
   "cell_type": "code",
   "execution_count": 7,
   "id": "989149ee",
   "metadata": {},
   "outputs": [
    {
     "data": {
      "text/plain": [
       "<AxesSubplot:>"
      ]
     },
     "execution_count": 7,
     "metadata": {},
     "output_type": "execute_result"
    },
    {
     "data": {
      "image/png": "[encoded data removed]",
      "text/plain": [
       "<Figure size 432x288 with 1 Axes>"
      ]
     },
     "metadata": {
      "needs_background": "light"
     },
     "output_type": "display_data"
    }
   ],
   "source": [
    "df.bedroomcnt.hist()"
   ]
  },
  {
   "cell_type": "code",
   "execution_count": 8,
   "id": "4be5fa9d",
   "metadata": {},
   "outputs": [
    {
     "data": {
      "text/plain": [
       "<AxesSubplot:>"
      ]
     },
     "execution_count": 8,
     "metadata": {},
     "output_type": "execute_result"
    },
    {
     "data": {
      "image/png": "[encoded data removed]",
      "text/plain": [
       "<Figure size 432x288 with 1 Axes>"
      ]
     },
     "metadata": {
      "needs_background": "light"
     },
     "output_type": "display_data"
    }
   ],
   "source": [
    "df.taxamount.hist()"
   ]
  },
  {
   "cell_type": "code",
   "execution_count": 9,
   "id": "0195780c",
   "metadata": {},
   "outputs": [
    {
     "data": {
      "text/plain": [
       "<AxesSubplot:>"
      ]
     },
     "execution_count": 9,
     "metadata": {},
     "output_type": "execute_result"
    },
    {
     "data": {
      "image/png": "[encoded data removed]",
      "text/plain": [
       "<Figure size 432x288 with 1 Axes>"
      ]
     },
     "metadata": {
      "needs_background": "light"
     },
     "output_type": "display_data"
    }
   ],
   "source": [
    "df.landtaxvaluedollarcnt.hist()"
   ]
  },
  {
   "cell_type": "markdown",
   "id": "e994df7d",
   "metadata": {},
   "source": [
    "### Target Feature - \"logerror\""
   ]
  },
  {
   "cell_type": "code",
   "execution_count": 10,
   "id": "dae5fa9b",
   "metadata": {},
   "outputs": [
    {
     "name": "stdout",
     "output_type": "stream",
     "text": [
      "|             | Target                                        |\n",
      "|:------------|:----------------------------------------------|\n",
      "| Feature     | logerror                                      |\n",
      "| Datatype    | 77381 non-null: float64                       |\n",
      "| Description | Error rate of acutal price vs predicted price |\n"
     ]
    }
   ],
   "source": [
    "print(get_target(df).to_markdown())"
   ]
  },
  {
   "cell_type": "code",
   "execution_count": 11,
   "id": "0eb21823",
   "metadata": {},
   "outputs": [
    {
     "data": {
      "text/plain": [
       "<AxesSubplot:>"
      ]
     },
     "execution_count": 11,
     "metadata": {},
     "output_type": "execute_result"
    },
    {
     "data": {
      "image/png": "[encoded data removed]",
      "text/plain": [
       "<Figure size 432x288 with 1 Axes>"
      ]
     },
     "metadata": {
      "needs_background": "light"
     },
     "output_type": "display_data"
    }
   ],
   "source": [
    "df.logerror.hist()"
   ]
  },
  {
   "cell_type": "markdown",
   "id": "c84b3869",
   "metadata": {},
   "source": [
    "### Data Dictionary"
   ]
  },
  {
   "cell_type": "code",
   "execution_count": 12,
   "id": "67cab43c",
   "metadata": {},
   "outputs": [
    {
     "name": "stdout",
     "output_type": "stream",
     "text": [
      "| Feature                      | Datatype                | Description                                   |\n",
      "|:-----------------------------|:------------------------|:----------------------------------------------|\n",
      "| typeconstructiontypeid       | 222 non-null: float64   |                                               |\n",
      "| storytypeid                  | 50 non-null: float64    |                                               |\n",
      "| propertylandusetypeid        | 77381 non-null: float64 |                                               |\n",
      "| heatingorsystemtypeid        | 49440 non-null: float64 |                                               |\n",
      "| buildingclasstypeid          | 15 non-null: float64    |                                               |\n",
      "| architecturalstyletypeid     | 206 non-null: float64   |                                               |\n",
      "| airconditioningtypeid        | 24953 non-null: float64 |                                               |\n",
      "| parcelid                     | 77381 non-null: int64   |                                               |\n",
      "| transactiondate              | 77381 non-null: object  |                                               |\n",
      "| id                           | 77381 non-null: int64   |                                               |\n",
      "| basementsqft                 | 50 non-null: float64    |                                               |\n",
      "| bathroomcnt                  | 77381 non-null: float64 |                                               |\n",
      "| bedroomcnt                   | 77381 non-null: float64 |                                               |\n",
      "| buildingqualitytypeid        | 49672 non-null: float64 |                                               |\n",
      "| calculatedbathnbr            | 76772 non-null: float64 |                                               |\n",
      "| decktypeid                   | 614 non-null: float64   |                                               |\n",
      "| finishedfloor1squarefeet     | 6023 non-null: float64  |                                               |\n",
      "| calculatedfinishedsquarefeet | 77185 non-null: float64 |                                               |\n",
      "| finishedsquarefeet12         | 73749 non-null: float64 |                                               |\n",
      "| finishedsquarefeet13         | 41 non-null: float64    |                                               |\n",
      "| finishedsquarefeet15         | 3009 non-null: float64  |                                               |\n",
      "| finishedsquarefeet50         | 6023 non-null: float64  |                                               |\n",
      "| finishedsquarefeet6          | 386 non-null: float64   |                                               |\n",
      "| fips                         | 77381 non-null: float64 |                                               |\n",
      "| fireplacecnt                 | 8276 non-null: float64  |                                               |\n",
      "| fullbathcnt                  | 76772 non-null: float64 |                                               |\n",
      "| garagecarcnt                 | 25474 non-null: float64 |                                               |\n",
      "| garagetotalsqft              | 25474 non-null: float64 |                                               |\n",
      "| hashottuborspa               | 1538 non-null: float64  |                                               |\n",
      "| latitude                     | 77381 non-null: float64 |                                               |\n",
      "| longitude                    | 77381 non-null: float64 |                                               |\n",
      "| lotsizesquarefeet            | 69142 non-null: float64 |                                               |\n",
      "| poolcnt                      | 16137 non-null: float64 |                                               |\n",
      "| poolsizesum                  | 867 non-null: float64   |                                               |\n",
      "| pooltypeid10                 | 464 non-null: float64   |                                               |\n",
      "| pooltypeid2                  | 1074 non-null: float64  |                                               |\n",
      "| pooltypeid7                  | 15042 non-null: float64 |                                               |\n",
      "| propertycountylandusecode    | 77381 non-null: object  |                                               |\n",
      "| propertyzoningdesc           | 50331 non-null: object  |                                               |\n",
      "| rawcensustractandblock       | 77381 non-null: float64 |                                               |\n",
      "| regionidcity                 | 75910 non-null: float64 |                                               |\n",
      "| regionidcounty               | 77381 non-null: float64 |                                               |\n",
      "| regionidneighborhood         | 30890 non-null: float64 |                                               |\n",
      "| regionidzip                  | 77331 non-null: float64 |                                               |\n",
      "| roomcnt                      | 77381 non-null: float64 |                                               |\n",
      "| threequarterbathnbr          | 10096 non-null: float64 |                                               |\n",
      "| unitcnt                      | 50563 non-null: float64 |                                               |\n",
      "| yardbuildingsqft17           | 2388 non-null: float64  |                                               |\n",
      "| yardbuildingsqft26           | 70 non-null: float64    |                                               |\n",
      "| yearbuilt                    | 77118 non-null: float64 |                                               |\n",
      "| numberofstories              | 17560 non-null: float64 |                                               |\n",
      "| fireplaceflag                | 172 non-null: float64   |                                               |\n",
      "| structuretaxvaluedollarcnt   | 77269 non-null: float64 |                                               |\n",
      "| taxvaluedollarcnt            | 77380 non-null: float64 |                                               |\n",
      "| assessmentyear               | 77381 non-null: float64 |                                               |\n",
      "| landtaxvaluedollarcnt        | 77379 non-null: float64 |                                               |\n",
      "| taxamount                    | 77376 non-null: float64 |                                               |\n",
      "| taxdelinquencyflag           | 2886 non-null: object   |                                               |\n",
      "| taxdelinquencyyear           | 2886 non-null: float64  |                                               |\n",
      "| censustractandblock          | 77137 non-null: float64 |                                               |\n",
      "| id.1                         | 77381 non-null: int64   |                                               |\n",
      "| logerror                     | 77381 non-null: float64 | Error rate of acutal price vs predicted price |\n",
      "| airconditioningdesc          | 24953 non-null: object  |                                               |\n",
      "| architecturalstyledesc       | 206 non-null: object    |                                               |\n",
      "| buildingclassdesc            | 15 non-null: object     |                                               |\n",
      "| heatingorsystemdesc          | 49440 non-null: object  |                                               |\n",
      "| propertylandusedesc          | 77381 non-null: object  |                                               |\n",
      "| storydesc                    | 50 non-null: object     |                                               |\n",
      "| typeconstructiondesc         | 222 non-null: object    | # 69                                          |\n"
     ]
    }
   ],
   "source": [
    "print(get_data_dictionary(df).to_markdown())"
   ]
  },
  {
   "cell_type": "markdown",
   "id": "183dc2fb",
   "metadata": {},
   "source": [
    "### Data Acquisition Takeaways"
   ]
  },
  {
   "cell_type": "markdown",
   "id": "947d7df9",
   "metadata": {},
   "source": [
    "Brought in roughly 77k observations and 69 features from the codeup zillow database.  These observations where filtered from 2017 properties table where the latitude and longitude were not null.  I also included only the last transaction for each property. \n",
    "   "
   ]
  },
  {
   "cell_type": "markdown",
   "id": "e975b487",
   "metadata": {},
   "source": [
    "# Data Preparation"
   ]
  },
  {
   "cell_type": "markdown",
   "id": "8b19a276",
   "metadata": {},
   "source": [
    "### Clean()"
   ]
  },
  {
   "cell_type": "markdown",
   "id": "20851ddd",
   "metadata": {},
   "source": [
    "Created a feature called county where it mapped out the county from the fips feature.\n",
    "\n",
    "Using propertylandusedesc I was able to filter out only single family residentails.\n",
    "\n",
    "Removed columns that were missing 60% of its values.\n",
    "\n",
    "Removed rows that were missing 75% of its values.\n",
    "\n",
    "Any row claiming ot have a unitcnt great than 1 was removed.\n",
    "\n",
    "From heaters feature, I removed any observation that wasn't Central, Floor/Wall, or Forced air\n",
    "\n",
    "Renamed columns"
   ]
  },
  {
   "cell_type": "markdown",
   "id": "8e08dd3f",
   "metadata": {},
   "source": [
    "### Outlier()"
   ]
  },
  {
   "cell_type": "markdown",
   "id": "804c95b6",
   "metadata": {},
   "source": [
    "I removed extreme outliers by county.  I only removed outliers on these three features as I wanted to keep as many houses as possible.  \n",
    "price_per_sqft\n",
    "\n",
    "lot_size\n",
    "\n",
    "tax_value"
   ]
  },
  {
   "cell_type": "markdown",
   "id": "a54f2e92",
   "metadata": {},
   "source": [
    "### Scaled()"
   ]
  },
  {
   "cell_type": "markdown",
   "id": "d2884f2d",
   "metadata": {},
   "source": [
    "I used a MinMaxScaler() on columns:\n",
    "\n",
    "- bath\n",
    "- bed\n",
    "- area\n",
    "- lot_size\n",
    "- year\n",
    "- tax_amount\n",
    "- tax_value"
   ]
  },
  {
   "cell_type": "markdown",
   "id": "868c96e1",
   "metadata": {},
   "source": [
    "### Split()"
   ]
  },
  {
   "cell_type": "code",
   "execution_count": 13,
   "id": "09fecd85",
   "metadata": {},
   "outputs": [],
   "source": [
    "train, validate, test = wrangle()"
   ]
  },
  {
   "cell_type": "code",
   "execution_count": 14,
   "id": "8a2e651f",
   "metadata": {},
   "outputs": [
    {
     "name": "stdout",
     "output_type": "stream",
     "text": [
      "train -> (28210, 29)\n",
      "validate -> (12090, 29)\n",
      "test -> (10075, 29)\n"
     ]
    }
   ],
   "source": [
    "print(f'train -> {train.shape}')\n",
    "print(f'validate -> {validate.shape}')\n",
    "print(f'test -> {test.shape}')"
   ]
  },
  {
   "cell_type": "markdown",
   "id": "79ff4f5d",
   "metadata": {},
   "source": [
    "### Data Preperation Takeaways"
   ]
  },
  {
   "cell_type": "markdown",
   "id": "ae12ac55",
   "metadata": {},
   "source": [
    "All observations have no null or empty values.  Ended the prep stage with only 12 features.  Data is split between train, validate, and test."
   ]
  },
  {
   "cell_type": "markdown",
   "id": "53c44e24",
   "metadata": {},
   "source": [
    "# Data Exploration & Analysis"
   ]
  },
  {
   "cell_type": "markdown",
   "id": "a28ec3d5",
   "metadata": {},
   "source": [
    "### Original Hypothesis"
   ]
  },
  {
   "cell_type": "markdown",
   "id": "29701dc0",
   "metadata": {},
   "source": [
    "Creating linear regression models by using clusters as features will idenify which features are important to predicting zillow homes."
   ]
  },
  {
   "cell_type": "markdown",
   "id": "2c1a98e2",
   "metadata": {},
   "source": [
    "## Explore"
   ]
  },
  {
   "cell_type": "markdown",
   "id": "0dc6fa45",
   "metadata": {},
   "source": [
    "I started off by asking simple questions to get an idea of what kind of findings I could make of the data. Questions like:"
   ]
  },
  {
   "cell_type": "markdown",
   "id": "2aca8593",
   "metadata": {},
   "source": [
    "What county on average has a  logerror?<br>\n",
    "Which county has the largest tax value houses?<br>\n",
    "Which what is range of lot_size per county?<br>"
   ]
  },
  {
   "cell_type": "markdown",
   "id": "7388901f",
   "metadata": {},
   "source": [
    "Through making graphs and looking at the numbers I eventually ran into extreme outliers and I went back and forth between cleaing and my exploration."
   ]
  },
  {
   "cell_type": "markdown",
   "id": "06e830b0",
   "metadata": {},
   "source": [
    "I found that price_per_sqft per county were very unique. I decided to run a T-Test to compare means just to be sure these values did not happen by chance. "
   ]
  },
  {
   "cell_type": "code",
   "execution_count": 15,
   "id": "0c954739",
   "metadata": {},
   "outputs": [],
   "source": [
    "# insert price_per_sqft graph here"
   ]
  },
  {
   "cell_type": "markdown",
   "id": "2792db4a",
   "metadata": {},
   "source": [
    "### Hypotheses 1"
   ]
  },
  {
   "cell_type": "markdown",
   "id": "6f172ae3",
   "metadata": {},
   "source": [
    "$H_{0}$: population means of the price per square feet for the three counties, Orange, Ventura & Los Angeles, are all equal.  \n",
    "\n",
    "$H_{a}$: population means of the price per square feet for the three counties, Orange, Ventura & Los Angeles, are NOT all equal. "
   ]
  },
  {
   "cell_type": "code",
   "execution_count": 16,
   "id": "9927cb02",
   "metadata": {},
   "outputs": [],
   "source": [
    "alpha = .05"
   ]
  },
  {
   "cell_type": "code",
   "execution_count": 17,
   "id": "8716c9c8",
   "metadata": {},
   "outputs": [],
   "source": [
    "# Filtering by county\n",
    "orange_mean = train[train['county']=='Orange'].price_per_sqft\n",
    "ventura_mean = train[train['county']=='Ventura'].price_per_sqft\n",
    "la_mean = train[train['county']=='Los Angeles'].price_per_sqft"
   ]
  },
  {
   "cell_type": "markdown",
   "id": "110677c9",
   "metadata": {},
   "source": [
    "### Checking distributions"
   ]
  },
  {
   "cell_type": "code",
   "execution_count": 18,
   "id": "f3b14fb1",
   "metadata": {},
   "outputs": [
    {
     "data": {
      "text/plain": [
       "<AxesSubplot:>"
      ]
     },
     "execution_count": 18,
     "metadata": {},
     "output_type": "execute_result"
    },
    {
     "data": {
      "image/png": "[encoded data removed]",
      "text/plain": [
       "<Figure size 432x288 with 1 Axes>"
      ]
     },
     "metadata": {
      "needs_background": "light"
     },
     "output_type": "display_data"
    }
   ],
   "source": [
    "orange_mean.hist()"
   ]
  },
  {
   "cell_type": "code",
   "execution_count": 19,
   "id": "5d8a350a",
   "metadata": {},
   "outputs": [
    {
     "data": {
      "text/plain": [
       "<AxesSubplot:>"
      ]
     },
     "execution_count": 19,
     "metadata": {},
     "output_type": "execute_result"
    },
    {
     "data": {
      "image/png": "[encoded data removed]",
      "text/plain": [
       "<Figure size 432x288 with 1 Axes>"
      ]
     },
     "metadata": {
      "needs_background": "light"
     },
     "output_type": "display_data"
    }
   ],
   "source": [
    "ventura_mean.hist()"
   ]
  },
  {
   "cell_type": "code",
   "execution_count": 20,
   "id": "8168bea4",
   "metadata": {},
   "outputs": [
    {
     "data": {
      "text/plain": [
       "<AxesSubplot:>"
      ]
     },
     "execution_count": 20,
     "metadata": {},
     "output_type": "execute_result"
    },
    {
     "data": {
      "image/png": "[encoded data removed]",
      "text/plain": [
       "<Figure size 432x288 with 1 Axes>"
      ]
     },
     "metadata": {
      "needs_background": "light"
     },
     "output_type": "display_data"
    }
   ],
   "source": [
    "la_mean.hist()"
   ]
  },
  {
   "cell_type": "code",
   "execution_count": 21,
   "id": "58376f70",
   "metadata": {},
   "outputs": [
    {
     "data": {
      "text/plain": [
       "(2850.6866668943026, 0.0)"
      ]
     },
     "execution_count": 21,
     "metadata": {},
     "output_type": "execute_result"
    }
   ],
   "source": [
    "# Using a non parametric test\n",
    "f, p = stats.kruskal(orange_mean, ventura_mean, la_mean)\n",
    "f, p"
   ]
  },
  {
   "cell_type": "code",
   "execution_count": 22,
   "id": "1da42dc5",
   "metadata": {},
   "outputs": [
    {
     "name": "stdout",
     "output_type": "stream",
     "text": [
      "We reject Null Hypothesis\n"
     ]
    }
   ],
   "source": [
    "if p < alpha:\n",
    "    print(\"We reject Null Hypothesis\")\n",
    "else:\n",
    "    print(\"We fail to reject Null Hypothesis\")"
   ]
  },
  {
   "cell_type": "markdown",
   "id": "ea42816e",
   "metadata": {},
   "source": [
    "### Hypothesis 1 Take away\n",
    "\n",
    "Population means of the price per square feet for the three counties, Orange, Ventura & Los Angeles, are NOT all equal.  I found that price_per_sqft would be useful in creating clusters."
   ]
  },
  {
   "cell_type": "markdown",
   "id": "56a7e180",
   "metadata": {},
   "source": [
    "### Clustering"
   ]
  },
  {
   "cell_type": "markdown",
   "id": "aa5df213",
   "metadata": {},
   "source": [
    "In clustering I used the following features:\n",
    "\n",
    "- lat\n",
    "- long\n",
    "- price_per_sqft\n",
    "- area"
   ]
  },
  {
   "cell_type": "markdown",
   "id": "329892a9",
   "metadata": {},
   "source": [
    "I ended up with 5 clusters labeled as:\n",
    "- cluster0\n",
    "- cluster1 \n",
    "- cluster2\n",
    "- cluster3\n",
    "- cluster4"
   ]
  },
  {
   "cell_type": "code",
   "execution_count": 23,
   "id": "6cf9016e",
   "metadata": {},
   "outputs": [],
   "source": [
    "# insert cluster graph here"
   ]
  },
  {
   "cell_type": "markdown",
   "id": "ba843589",
   "metadata": {},
   "source": [
    "I wanted to make sure my clusters had different logerror because if they have the same logerror the clusters wouldn't be useful in finding drivers of logerror, so I ran a t-test on each to be sure."
   ]
  },
  {
   "cell_type": "markdown",
   "id": "e3fc75c3",
   "metadata": {},
   "source": [
    "### Hypothesis 2"
   ]
  },
  {
   "cell_type": "markdown",
   "id": "c25fc2f6",
   "metadata": {},
   "source": [
    "$H_0$ There is no difference in cluster0 logerror mean than the overall logerror mean<br>\n",
    "$H_a$ There is a difference in cluster0 logerror mean than the overall logerror mean"
   ]
  },
  {
   "cell_type": "code",
   "execution_count": 24,
   "id": "d9586bc2",
   "metadata": {},
   "outputs": [
    {
     "data": {
      "text/plain": [
       "(-0.3473320198300476, 0.7283789248815163)"
      ]
     },
     "execution_count": 24,
     "metadata": {},
     "output_type": "execute_result"
    }
   ],
   "source": [
    "# Logerror of cluster0\n",
    "log_error_cluster0 = train[train.cluster ==0].logerror\n",
    "\n",
    "# Mean Logerror of all values in train\n",
    "μ = train.logerror.mean()\n",
    "\n",
    "t, p = stats.ttest_1samp(log_error_cluster0, μ)\n",
    "t, p"
   ]
  },
  {
   "cell_type": "code",
   "execution_count": 25,
   "id": "a1720265",
   "metadata": {},
   "outputs": [
    {
     "name": "stdout",
     "output_type": "stream",
     "text": [
      "Reject Null Hypothesis\n"
     ]
    }
   ],
   "source": [
    "if (p < alpha):\n",
    "    print(\"reject Null Hypothesis\")\n",
    "elif((t < 0)):\n",
    "    print(\"Reject Null Hypothesis\")\n",
    "else:\n",
    "    print(\"Fail to reject Null Hypthesis\")"
   ]
  },
  {
   "cell_type": "markdown",
   "id": "ff51f419",
   "metadata": {},
   "source": [
    "### Hypothesis Take away\n",
    "\n",
    "There is a difference in cluster0 logerror mean than the overall logerror mean.  The same was true for all clusters."
   ]
  },
  {
   "cell_type": "markdown",
   "id": "984df27f",
   "metadata": {},
   "source": [
    "### Explore Takaways"
   ]
  },
  {
   "cell_type": "markdown",
   "id": "32459570",
   "metadata": {},
   "source": [
    "Cluster0 \n",
    "\n",
    "- Smallest cluster\n",
    "- Only in LA area\n",
    "- median price of 184K\n",
    "- median lot_size of 7509 sq ft\n",
    "- median area of 1716 sq feet\n",
    "- 3 bed\n",
    "- 2 bath\n",
    "\n",
    "Cluster1 \n",
    "\n",
    "- Largest cluster\n",
    "- Mostly in LA area\n",
    "- median price of 311K\n",
    "- median lot_size of 6300 sq ft\n",
    "- median area of 1423sq feet\n",
    "- 3 bed\n",
    "- 2 bath\n",
    "\n",
    "Cluster2 \n",
    "\n",
    "- Mostly in Ventura area\n",
    "- median price of 460K\n",
    "- median lot_size of 7506 sq ft\n",
    "- median area of 1924 sq feet\n",
    "- 4 bed\n",
    "- 2.5 bath\n",
    "\n",
    "Cluster3 \n",
    "\n",
    "- Mostly in LA area\n",
    "- median price of 458K\n",
    "- median lot_size of 7464 sq ft\n",
    "- median area of 1764 sq feet\n",
    "- 3 bed\n",
    "- 2 bath\n",
    "\n",
    "Cluster4\n",
    "\n",
    "- Mostly in Orange County\n",
    "- median price of 541K\n",
    "- median lot_size of 6083 sq ft\n",
    "- median area of 1988 sq feet\n",
    "- 3 bed\n",
    "- 2.5 bath\n",
    "\n"
   ]
  },
  {
   "cell_type": "markdown",
   "id": "3c670aec",
   "metadata": {},
   "source": [
    "# Modeling and Evaluation"
   ]
  },
  {
   "cell_type": "code",
   "execution_count": 26,
   "id": "54f43f28",
   "metadata": {},
   "outputs": [],
   "source": [
    "train, validate, test = wrangle()"
   ]
  },
  {
   "cell_type": "markdown",
   "id": "a1528ef6",
   "metadata": {},
   "source": [
    "### Target"
   ]
  },
  {
   "cell_type": "code",
   "execution_count": 27,
   "id": "cb13efff",
   "metadata": {},
   "outputs": [],
   "source": [
    "y_train = train['logerror']\n",
    "y_train  = pd.DataFrame(y_train)\n",
    "\n",
    "y_validate = validate['logerror']\n",
    "y_validate  = pd.DataFrame(y_validate)\n",
    "\n",
    "y_test = test['logerror']\n",
    "y_test  = pd.DataFrame(y_test)"
   ]
  },
  {
   "cell_type": "markdown",
   "id": "794311ce",
   "metadata": {},
   "source": [
    "### Baseline"
   ]
  },
  {
   "cell_type": "code",
   "execution_count": 28,
   "id": "db3ca61c",
   "metadata": {},
   "outputs": [
    {
     "data": {
      "text/plain": [
       "0.17253"
      ]
     },
     "execution_count": 28,
     "metadata": {},
     "output_type": "execute_result"
    }
   ],
   "source": [
    "# Using the mean and not the median\n",
    "# target is logerror\n",
    "\n",
    "mean = y_train.logerror.mean()\n",
    "\n",
    "y_train[\"logerror_pred_mean\"] = mean\n",
    "\n",
    "rmse_baseline = round(mean_squared_error(y_train.logerror, y_train.logerror_pred_mean) ** .5, 5)\n",
    "\n",
    "rmse_baseline"
   ]
  },
  {
   "cell_type": "markdown",
   "id": "ae090ccc",
   "metadata": {},
   "source": [
    "### Feature Engineering"
   ]
  },
  {
   "cell_type": "markdown",
   "id": "b3b3b2a8",
   "metadata": {},
   "source": [
    "### RFE"
   ]
  },
  {
   "cell_type": "code",
   "execution_count": null,
   "id": "8d2dfcd5",
   "metadata": {},
   "outputs": [],
   "source": []
  },
  {
   "cell_type": "markdown",
   "id": "f09b2450",
   "metadata": {},
   "source": [
    "### Models - linear regression"
   ]
  },
  {
   "cell_type": "markdown",
   "id": "16149538",
   "metadata": {},
   "source": [
    "I used Ordinary Least Squares, LASSO + LARS, and Polynomial Regression to create over 50+ Models.  I used many different combinations of these features in those models: \n",
    "\n",
    "'area'\n",
    "'lot_size'\n",
    "'tax_amount'\n",
    "'tax_value'\n",
    "'bed'\n",
    "'bath'\n",
    "'year'\n",
    "'lat'\n",
    "'long'\n",
    "'cluster_0'\n",
    "'cluster_1'\n",
    "'cluster_2'\n",
    "'cluster_3'\n",
    "'cluster_4'\n"
   ]
  },
  {
   "cell_type": "markdown",
   "id": "ec6ad95b",
   "metadata": {},
   "source": [
    "If you want to see more about the models refer to the model_scratch jupyter notebook"
   ]
  },
  {
   "cell_type": "markdown",
   "id": "0a9d67d5",
   "metadata": {},
   "source": [
    "### Modeling Take Away"
   ]
  },
  {
   "cell_type": "markdown",
   "id": "eb715bad",
   "metadata": {},
   "source": [
    "No RMSE Validate beat my basline goal of .17253\n",
    "\n",
    "The best RMSE on Validate was 0.17268 using a Ordinary Least Squares model.  I will move forward with this model on the test dataset that my model has not seen yet."
   ]
  },
  {
   "cell_type": "markdown",
   "id": "5230af87",
   "metadata": {},
   "source": [
    "### Test My Best Model"
   ]
  },
  {
   "cell_type": "code",
   "execution_count": 29,
   "id": "57067491",
   "metadata": {},
   "outputs": [],
   "source": [
    "# Train\n",
    "X_train = train[['bed_scaled','bath_scaled','tax_amount_scaled','cluster_0', 'cluster_2', 'cluster_3']]\n",
    "y_train = train['logerror']\n",
    "\n",
    "# Validate\n",
    "X_validate = validate[['bed_scaled', 'bath_scaled','tax_amount_scaled','cluster_0', 'cluster_2', 'cluster_3']]\n",
    "y_validate = validate['logerror']\n",
    "\n",
    "# Test\n",
    "X_test = test[['bed_scaled', 'bath_scaled','tax_amount_scaled','cluster_0', 'cluster_2', 'cluster_3']]\n",
    "y_test =  test['logerror']"
   ]
  },
  {
   "cell_type": "code",
   "execution_count": 31,
   "id": "9a705599",
   "metadata": {},
   "outputs": [],
   "source": [
    "y_train = train['logerror']\n",
    "y_train  = pd.DataFrame(y_train)\n",
    "\n",
    "y_validate = validate['logerror']\n",
    "y_validate  = pd.DataFrame(y_validate)\n",
    "\n",
    "y_test = test['logerror']\n",
    "y_test  = pd.DataFrame(y_test)"
   ]
  },
  {
   "cell_type": "markdown",
   "id": "d2ba50ad",
   "metadata": {},
   "source": [
    "### Test Model - OLS"
   ]
  },
  {
   "cell_type": "code",
   "execution_count": 32,
   "id": "27df1e44",
   "metadata": {},
   "outputs": [
    {
     "data": {
      "text/plain": [
       "0.17963171754470317"
      ]
     },
     "execution_count": 32,
     "metadata": {},
     "output_type": "execute_result"
    }
   ],
   "source": [
    "# Make the model\n",
    "lm = LinearRegression(normalize=True)\n",
    "\n",
    "# Target to variable\n",
    "target = y_train.columns[0]\n",
    "\n",
    "# Fit the model\n",
    "lm.fit(X_train, y_train[target])\n",
    "\n",
    "# Use the model\n",
    "\n",
    "# Train\n",
    "y_train[target+'_pred_lm'] = lm.predict(X_train)\n",
    "rmse_train = mean_squared_error(y_train[target], y_train[target+'_pred_lm']) ** (1/2)\n",
    "\n",
    "# Validate\n",
    "y_validate[target+'_pred_lm'] = lm.predict(X_validate)\n",
    "rmse_validate = mean_squared_error(y_validate[target], y_validate[target+'_pred_lm']) ** (1/2)\n",
    "\n",
    "# Test\n",
    "y_test[target+'_pred_lm'] = lm.predict(X_test)\n",
    "rmse_test = mean_squared_error(y_test[target], y_test[target+'_pred_lm']) ** (1/2)\n",
    "\n",
    "rmse_test"
   ]
  },
  {
   "cell_type": "markdown",
   "id": "75ba3438",
   "metadata": {},
   "source": [
    "### Test take away"
   ]
  },
  {
   "cell_type": "code",
   "execution_count": 49,
   "id": "f98102c5",
   "metadata": {},
   "outputs": [
    {
     "name": "stdout",
     "output_type": "stream",
     "text": [
      "baseline: 0.17253\n",
      "\n",
      "Train:    0.17224\n",
      "Validate: 0.17268\n",
      "Test:     0.17963\n"
     ]
    }
   ],
   "source": [
    "print(f'baseline: {round(rmse_baseline, 5)}\\n\\nTrain:    {round(rmse_train, 5)}\\nValidate: {round(rmse_validate, 5)}\\nTest:     {round(rmse_test, 5)}')"
   ]
  },
  {
   "cell_type": "code",
   "execution_count": 38,
   "id": "83c1bf1d",
   "metadata": {},
   "outputs": [
    {
     "data": {
      "text/plain": [
       "-0.0071"
      ]
     },
     "execution_count": 38,
     "metadata": {},
     "output_type": "execute_result"
    }
   ],
   "source": [
    "round(rmse_baseline - rmse_test, 5)"
   ]
  },
  {
   "cell_type": "markdown",
   "id": "80ae3f47",
   "metadata": {},
   "source": [
    "My test performed worse than my train and validate on unseen data.\n",
    "\n",
    "My test didn't beat my baseline by .0071"
   ]
  },
  {
   "cell_type": "markdown",
   "id": "88b5a948",
   "metadata": {},
   "source": [
    "# Conclusion"
   ]
  },
  {
   "cell_type": "markdown",
   "id": "ab22945d",
   "metadata": {},
   "source": [
    "My OLS model RMSE did <b>not</b> beat my baseline RMSE by .0071.\n",
    "\n",
    "The 5 clusters I found did not help identify drivers for logerror.  \n",
    "\n",
    "If I had more time, I would have liked to explore the data further and look for new features. I would have liked to spend more time with the clustered I found.  I would have also liked to iterate through hyperparameters during modeling.\n"
   ]
  },
  {
   "cell_type": "markdown",
   "id": "3103a8e5",
   "metadata": {},
   "source": [
    "# Thank You"
   ]
  },
  {
   "cell_type": "code",
   "execution_count": null,
   "id": "c3889701",
   "metadata": {},
   "outputs": [],
   "source": [
    "Executive Summary\n",
    "project goals\n",
    "Graphs\n",
    "ReadMe\n",
    "Formatting "
   ]
  }
 ],
 "metadata": {
  "kernelspec": {
   "display_name": "Python 3",
   "language": "python",
   "name": "python3"
  },
  "language_info": {
   "codemirror_mode": {
    "name": "ipython",
    "version": 3
   },
   "file_extension": ".py",
   "mimetype": "text/x-python",
   "name": "python",
   "nbconvert_exporter": "python",
   "pygments_lexer": "ipython3",
   "version": "3.8.8"
  }
 },
 "nbformat": 4,
 "nbformat_minor": 5
}
